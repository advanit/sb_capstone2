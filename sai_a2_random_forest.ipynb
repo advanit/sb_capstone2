{
 "cells": [
  {
   "cell_type": "markdown",
   "metadata": {},
   "source": [
    "# sai: spooky author identification\n",
    "## analysis 3: random forest\n",
    "\n",
    "## discussion\n",
    "In the previous code, the author identification analysis was performed with Naive Bayes Classification and Logistic Regression.  This used CountVectorizer to identify the author based on the text prose and split the training set into two areas: split and vectorize, or vectorize and split.  The later proved productive; therefore, this experiment will use random forests with hyperparameter tuning with CountVectorizer to obtain better predictions.  \n",
    "\n",
    "\n",
    "## code\n",
    "### preliminaries\n",
    "Import libraries and modules.  Read csv file.  And show what's in it!"
   ]
  },
  {
   "cell_type": "code",
   "execution_count": 140,
   "metadata": {},
   "outputs": [
    {
     "data": {
      "text/html": [
       "<div>\n",
       "<style>\n",
       "    .dataframe thead tr:only-child th {\n",
       "        text-align: right;\n",
       "    }\n",
       "\n",
       "    .dataframe thead th {\n",
       "        text-align: left;\n",
       "    }\n",
       "\n",
       "    .dataframe tbody tr th {\n",
       "        vertical-align: top;\n",
       "    }\n",
       "</style>\n",
       "<table border=\"1\" class=\"dataframe\">\n",
       "  <thead>\n",
       "    <tr style=\"text-align: right;\">\n",
       "      <th></th>\n",
       "      <th>id</th>\n",
       "      <th>text</th>\n",
       "      <th>author</th>\n",
       "    </tr>\n",
       "  </thead>\n",
       "  <tbody>\n",
       "    <tr>\n",
       "      <th>0</th>\n",
       "      <td>id26305</td>\n",
       "      <td>This process, however, afforded me no means of...</td>\n",
       "      <td>EAP</td>\n",
       "    </tr>\n",
       "    <tr>\n",
       "      <th>1</th>\n",
       "      <td>id17569</td>\n",
       "      <td>It never once occurred to me that the fumbling...</td>\n",
       "      <td>HPL</td>\n",
       "    </tr>\n",
       "    <tr>\n",
       "      <th>2</th>\n",
       "      <td>id11008</td>\n",
       "      <td>In his left hand was a gold snuff box, from wh...</td>\n",
       "      <td>EAP</td>\n",
       "    </tr>\n",
       "    <tr>\n",
       "      <th>3</th>\n",
       "      <td>id27763</td>\n",
       "      <td>How lovely is spring As we looked from Windsor...</td>\n",
       "      <td>MWS</td>\n",
       "    </tr>\n",
       "    <tr>\n",
       "      <th>4</th>\n",
       "      <td>id12958</td>\n",
       "      <td>Finding nothing else, not even gold, the Super...</td>\n",
       "      <td>HPL</td>\n",
       "    </tr>\n",
       "  </tbody>\n",
       "</table>\n",
       "</div>"
      ],
      "text/plain": [
       "        id                                               text author\n",
       "0  id26305  This process, however, afforded me no means of...    EAP\n",
       "1  id17569  It never once occurred to me that the fumbling...    HPL\n",
       "2  id11008  In his left hand was a gold snuff box, from wh...    EAP\n",
       "3  id27763  How lovely is spring As we looked from Windsor...    MWS\n",
       "4  id12958  Finding nothing else, not even gold, the Super...    HPL"
      ]
     },
     "execution_count": 140,
     "metadata": {},
     "output_type": "execute_result"
    }
   ],
   "source": [
    "import pandas as pd\n",
    "import numpy as np\n",
    "\n",
    "# plotting\n",
    "import matplotlib.pyplot as plt\n",
    "import seaborn as sns\n",
    "%matplotlib inline\n",
    "\n",
    "# sklearn\n",
    "from sklearn.cross_validation import train_test_split             # cross-validation\n",
    "from sklearn.feature_extraction.text import CountVectorizer       # vectorizer\n",
    "from sklearn.ensemble import RandomForestClassifier               # classifier\n",
    "from sklearn.ensemble import ExtraTreesClassifier                 # classifier\n",
    "from sklearn.model_selection import GridSearchCV                  # parameter tuning\n",
    "from sklearn.model_selection import RandomizedSearchCV            # parameter tuning\n",
    "from sklearn.pipeline import Pipeline                             # pipeline\n",
    "from sklearn import metrics                                       # metrics\n",
    "\n",
    "# other modules\n",
    "from stop_words import get_stop_words\n",
    "from scipy.stats import randint as sp_randint\n",
    "import string\n",
    "from pprint import pprint\n",
    "\n",
    "\n",
    "# Read training texts: texts\n",
    "texts = pd.read_csv('train.csv')\n",
    "texts.head()"
   ]
  },
  {
   "cell_type": "markdown",
   "metadata": {},
   "source": [
    "### simple run\n",
    "This will use CountVectorizer, TfidfVectorizer, and Random Forest Classifier on the training set."
   ]
  },
  {
   "cell_type": "markdown",
   "metadata": {},
   "source": [
    "#### feature selection"
   ]
  },
  {
   "cell_type": "code",
   "execution_count": 3,
   "metadata": {
    "collapsed": true
   },
   "outputs": [],
   "source": [
    "# choose X and y\n",
    "X = texts.text\n",
    "y = texts.author"
   ]
  },
  {
   "cell_type": "markdown",
   "metadata": {},
   "source": [
    "#### vectorize"
   ]
  },
  {
   "cell_type": "code",
   "execution_count": 4,
   "metadata": {},
   "outputs": [
    {
     "data": {
      "text/plain": [
       "CountVectorizer(analyzer='word', binary=False, decode_error='strict',\n",
       "        dtype=<class 'numpy.int64'>, encoding='utf-8', input='content',\n",
       "        lowercase=True, max_df=1.0, max_features=None, min_df=1,\n",
       "        ngram_range=(1, 1), preprocessor=None, stop_words=None,\n",
       "        strip_accents=None, token_pattern='(?u)\\\\b\\\\w\\\\w+\\\\b',\n",
       "        tokenizer=None, vocabulary=None)"
      ]
     },
     "execution_count": 4,
     "metadata": {},
     "output_type": "execute_result"
    }
   ],
   "source": [
    "# vectorize \n",
    "vect = CountVectorizer()\n",
    "vect.fit(X)"
   ]
  },
  {
   "cell_type": "code",
   "execution_count": 5,
   "metadata": {
    "collapsed": true
   },
   "outputs": [],
   "source": [
    "# document-term matrix\n",
    "X_dtm = vect.transform(X)"
   ]
  },
  {
   "cell_type": "markdown",
   "metadata": {},
   "source": [
    "#### split"
   ]
  },
  {
   "cell_type": "code",
   "execution_count": 7,
   "metadata": {
    "collapsed": true
   },
   "outputs": [],
   "source": [
    "# train-test split\n",
    "X_train, X_test, y_train, y_test = train_test_split(X,y)"
   ]
  },
  {
   "cell_type": "code",
   "execution_count": 8,
   "metadata": {
    "collapsed": true
   },
   "outputs": [],
   "source": [
    "# transform training case\n",
    "X_train_dtm = vect.transform(X_train)\n",
    "\n",
    "# transform test case\n",
    "X_test_dtm = vect.transform(X_test)"
   ]
  },
  {
   "cell_type": "markdown",
   "metadata": {},
   "source": [
    "#### fit and predict"
   ]
  },
  {
   "cell_type": "code",
   "execution_count": 9,
   "metadata": {
    "collapsed": true
   },
   "outputs": [],
   "source": [
    "# random forest classifier; please note this is NOT including parameters\n",
    "rf = RandomForestClassifier()"
   ]
  },
  {
   "cell_type": "code",
   "execution_count": 10,
   "metadata": {},
   "outputs": [
    {
     "name": "stdout",
     "output_type": "stream",
     "text": [
      "CPU times: user 5 s, sys: 21.5 ms, total: 5.02 s\n",
      "Wall time: 5.02 s\n"
     ]
    },
    {
     "data": {
      "text/plain": [
       "RandomForestClassifier(bootstrap=True, class_weight=None, criterion='gini',\n",
       "            max_depth=None, max_features='auto', max_leaf_nodes=None,\n",
       "            min_impurity_split=1e-07, min_samples_leaf=1,\n",
       "            min_samples_split=2, min_weight_fraction_leaf=0.0,\n",
       "            n_estimators=10, n_jobs=1, oob_score=False, random_state=None,\n",
       "            verbose=0, warm_start=False)"
      ]
     },
     "execution_count": 10,
     "metadata": {},
     "output_type": "execute_result"
    }
   ],
   "source": [
    "# fit the model\n",
    "%time rf.fit(X_train_dtm, y_train)"
   ]
  },
  {
   "cell_type": "code",
   "execution_count": 11,
   "metadata": {
    "collapsed": true
   },
   "outputs": [],
   "source": [
    "# predict with training class\n",
    "y_train_pred = rf.predict(X_train_dtm)"
   ]
  },
  {
   "cell_type": "code",
   "execution_count": 12,
   "metadata": {
    "collapsed": true
   },
   "outputs": [],
   "source": [
    "# predict with testing class\n",
    "y_test_pred = rf.predict(X_test_dtm)"
   ]
  },
  {
   "cell_type": "code",
   "execution_count": 13,
   "metadata": {
    "collapsed": true
   },
   "outputs": [],
   "source": [
    "# calculate predicted probabilities for X_test_dtm\n",
    "y_pred_prob = rf.predict_proba(X_test_dtm)"
   ]
  },
  {
   "cell_type": "markdown",
   "metadata": {},
   "source": [
    "#### evaluate"
   ]
  },
  {
   "cell_type": "code",
   "execution_count": 14,
   "metadata": {},
   "outputs": [
    {
     "data": {
      "text/plain": [
       "0.98923998910378641"
      ]
     },
     "execution_count": 14,
     "metadata": {},
     "output_type": "execute_result"
    }
   ],
   "source": [
    "# accuracy score, train\n",
    "metrics.accuracy_score(y_train, y_train_pred)"
   ]
  },
  {
   "cell_type": "code",
   "execution_count": 15,
   "metadata": {},
   "outputs": [
    {
     "data": {
      "text/plain": [
       "0.61879468845760977"
      ]
     },
     "execution_count": 15,
     "metadata": {},
     "output_type": "execute_result"
    }
   ],
   "source": [
    "# accuracy score, test\n",
    "metrics.accuracy_score(y_test, y_test_pred)"
   ]
  },
  {
   "cell_type": "code",
   "execution_count": 16,
   "metadata": {},
   "outputs": [
    {
     "data": {
      "text/plain": [
       "array([[5935,    5,    9],\n",
       "       [  66, 4143,    3],\n",
       "       [  67,    8, 4448]])"
      ]
     },
     "execution_count": 16,
     "metadata": {},
     "output_type": "execute_result"
    }
   ],
   "source": [
    "# confusion matrix, train\n",
    "metrics.confusion_matrix(y_train, y_train_pred)"
   ]
  },
  {
   "cell_type": "code",
   "execution_count": 17,
   "metadata": {},
   "outputs": [
    {
     "data": {
      "text/plain": [
       "array([[1613,  148,  190],\n",
       "       [ 626,  676,  121],\n",
       "       [ 608,  173,  740]])"
      ]
     },
     "execution_count": 17,
     "metadata": {},
     "output_type": "execute_result"
    }
   ],
   "source": [
    "# print confusion matrix\n",
    "metrics.confusion_matrix(y_test, y_test_pred)"
   ]
  },
  {
   "cell_type": "code",
   "execution_count": 18,
   "metadata": {},
   "outputs": [
    {
     "name": "stdout",
     "output_type": "stream",
     "text": [
      "             precision    recall  f1-score   support\n",
      "\n",
      "        EAP       0.98      1.00      0.99      5949\n",
      "        HPL       1.00      0.98      0.99      4212\n",
      "        MWS       1.00      0.98      0.99      4523\n",
      "\n",
      "avg / total       0.99      0.99      0.99     14684\n",
      "\n"
     ]
    }
   ],
   "source": [
    "# classification report, train\n",
    "print(metrics.classification_report(y_train, y_train_pred))"
   ]
  },
  {
   "cell_type": "code",
   "execution_count": 19,
   "metadata": {},
   "outputs": [
    {
     "name": "stdout",
     "output_type": "stream",
     "text": [
      "             precision    recall  f1-score   support\n",
      "\n",
      "        EAP       0.57      0.83      0.67      1951\n",
      "        HPL       0.68      0.48      0.56      1423\n",
      "        MWS       0.70      0.49      0.58      1521\n",
      "\n",
      "avg / total       0.64      0.62      0.61      4895\n",
      "\n"
     ]
    }
   ],
   "source": [
    "# classification report, test\n",
    "print(metrics.classification_report(y_test, y_test_pred))"
   ]
  },
  {
   "cell_type": "markdown",
   "metadata": {},
   "source": [
    "### updated parameters \n",
    "This will use the code from sci-kit learn developers to estimate the OOB (out of bag) error and the best feature handler for this dataset.  Here, the n_estimators is 100; n_estimators  "
   ]
  },
  {
   "cell_type": "code",
   "execution_count": 181,
   "metadata": {},
   "outputs": [],
   "source": [
    "model =  RandomForestClassifier(n_estimators = 100, oob_score = True, warm_start = True)"
   ]
  },
  {
   "cell_type": "code",
   "execution_count": 182,
   "metadata": {},
   "outputs": [
    {
     "name": "stdout",
     "output_type": "stream",
     "text": [
      "CPU times: user 53.7 s, sys: 314 ms, total: 54 s\n",
      "Wall time: 54.1 s\n"
     ]
    }
   ],
   "source": [
    "%time model.fit(X_train_dtm, y_train)\n",
    "y_train_pred = model.predict(X_train_dtm)"
   ]
  },
  {
   "cell_type": "code",
   "execution_count": 183,
   "metadata": {},
   "outputs": [
    {
     "name": "stdout",
     "output_type": "stream",
     "text": [
      "[[5925    0    0]\n",
      " [   0 4226    0]\n",
      " [   0    0 4533]]\n"
     ]
    }
   ],
   "source": [
    "print(metrics.confusion_matrix(y_train, y_train_pred))"
   ]
  },
  {
   "cell_type": "code",
   "execution_count": 184,
   "metadata": {},
   "outputs": [
    {
     "name": "stdout",
     "output_type": "stream",
     "text": [
      "             precision    recall  f1-score   support\n",
      "\n",
      "        EAP       1.00      1.00      1.00      5925\n",
      "        HPL       1.00      1.00      1.00      4226\n",
      "        MWS       1.00      1.00      1.00      4533\n",
      "\n",
      "avg / total       1.00      1.00      1.00     14684\n",
      "\n"
     ]
    }
   ],
   "source": [
    "print(metrics.classification_report(y_train, y_train_pred))"
   ]
  },
  {
   "cell_type": "code",
   "execution_count": 185,
   "metadata": {
    "collapsed": true
   },
   "outputs": [],
   "source": [
    "y_test_pred = model.predict(X_test_dtm)"
   ]
  },
  {
   "cell_type": "code",
   "execution_count": 186,
   "metadata": {},
   "outputs": [
    {
     "name": "stdout",
     "output_type": "stream",
     "text": [
      "0.700102145046\n"
     ]
    }
   ],
   "source": [
    "print(metrics.accuracy_score(y_test, y_test_pred))"
   ]
  },
  {
   "cell_type": "code",
   "execution_count": 187,
   "metadata": {},
   "outputs": [
    {
     "name": "stdout",
     "output_type": "stream",
     "text": [
      "[[1731   91  153]\n",
      " [ 566  761   82]\n",
      " [ 491   85  935]]\n"
     ]
    }
   ],
   "source": [
    "print(metrics.confusion_matrix(y_test, y_test_pred))"
   ]
  },
  {
   "cell_type": "code",
   "execution_count": 28,
   "metadata": {},
   "outputs": [
    {
     "name": "stdout",
     "output_type": "stream",
     "text": [
      "             precision    recall  f1-score   support\n",
      "\n",
      "        EAP       0.61      0.90      0.73      1951\n",
      "        HPL       0.81      0.52      0.63      1423\n",
      "        MWS       0.80      0.60      0.68      1521\n",
      "\n",
      "avg / total       0.73      0.69      0.69      4895\n",
      "\n"
     ]
    }
   ],
   "source": [
    "print(metrics.classification_report(y_test, y_test_pred))"
   ]
  },
  {
   "cell_type": "markdown",
   "metadata": {},
   "source": [
    "## hyperparameter tuning\n",
    "### discussion\n",
    "Random Forests may be the best estimator; however, tuning them is not!  Below is a simple RandomForestClassifier model:\n",
    "\n",
    "`\n",
    "RandomForestClassifier(bootstrap=True, class_weight=None, criterion='gini',\n",
    "            max_depth=None, max_features='auto', max_leaf_nodes=None,\n",
    "            min_impurity_split=1e-07, min_samples_leaf=1,\n",
    "            min_samples_split=2, min_weight_fraction_leaf=0.0,\n",
    "            n_estimators=10, n_jobs=1, oob_score=False, random_state=None,\n",
    "            verbose=0, warm_start=False)\n",
    "`\n",
    "\n",
    "\n",
    "There are five different parameters to evaluate for a better score.  And with computational time an issue, it is best to break down each parameter and promote one with the best estimate parameters.  \n",
    "\n",
    "* max_features=`['sqrt','auto','log2']`\n",
    "* criterion=`['gini','entropy']`\n",
    "* n_estimators=`[50, 100, 150, 200]`\n",
    "* min_samples_leaf=`[50,100,150]`\n",
    "\n",
    "Other parameters will make it easy to train; this includes:\n",
    "\n",
    "* random_state=42\n",
    "* oob_score=True \n",
    "* warm_start=True (use previous build to build new set)\n",
    "\n",
    "\n",
    "### 1 - `n_estimators` \n",
    "This will use the code from sci-kit learn developers to estimate the OOB (out of bag) error and the best feature handler for this dataset.  Here, the n_estimators is 10; n_estimators will increase every 10 steps per iteration so the final n will be 410 (40 * 10 + 10).  "
   ]
  },
  {
   "cell_type": "code",
   "execution_count": 51,
   "metadata": {},
   "outputs": [],
   "source": [
    "errors = []\n",
    "growing_rf = RandomForestClassifier(n_estimators=10, \n",
    "                                    n_jobs=-1,  \n",
    "                                    warm_start=True, \n",
    "                                    random_state=1514)\n",
    "\n",
    "for i in range(40):\n",
    "    growing_rf.fit(X_train_dtm, y_train)\n",
    "    errors.append(metrics.log_loss(y_test, growing_rf.predict_proba(X_test_dtm)))\n",
    "    growing_rf.n_estimators += 10"
   ]
  },
  {
   "cell_type": "code",
   "execution_count": 189,
   "metadata": {
    "scrolled": true
   },
   "outputs": [
    {
     "data": {
      "image/png": "[encoded data removed]",
      "text/plain": [
       "<matplotlib.figure.Figure at 0x15687d470>"
      ]
     },
     "metadata": {},
     "output_type": "display_data"
    }
   ],
   "source": [
    "_ = plt.figure(figsize=(20,5))\n",
    "_ = plt.plot(errors, '-r')\n",
    "_ = plt.ylim([0.5, 1.0])"
   ]
  },
  {
   "cell_type": "markdown",
   "metadata": {},
   "source": [
    "So far, within the first 5 iterations (where n_estimators = 10 to 60), the error goes down significantly but afterwards, it hovers around 0.77-0.79.  So it steadied."
   ]
  },
  {
   "cell_type": "markdown",
   "metadata": {
    "collapsed": true
   },
   "source": [
    "### 2 - `n_estimators`  +  `max_features`\n",
    "This will use the same code but will also use `max_features`.  This comes from the following link: http://scikit-learn.org/stable/auto_examples/ensemble/plot_ensemble_oob.html#sphx-glr-auto-examples-ensemble-plot-ensemble-oob-py.  This is essential to see how one feature does when another feature gets tweaked.  And it will determine a better choice for `max_features`.  "
   ]
  },
  {
   "cell_type": "code",
   "execution_count": 137,
   "metadata": {
    "collapsed": true
   },
   "outputs": [],
   "source": [
    "RANDOM_STATE = 123\n",
    "\n",
    "# NOTE: Setting the `warm_start` construction parameter to `True` disables\n",
    "# support for parallelized ensembles but is necessary for tracking the OOB\n",
    "# error trajectory during training.\n",
    "\n",
    "ensemble_clfs = [\n",
    "    (\"RandomForestClassifier, max_features='sqrt'\",\n",
    "        RandomForestClassifier(warm_start=True, \n",
    "                               oob_score=True,\n",
    "                               max_features=\"sqrt\",\n",
    "                               random_state=RANDOM_STATE)),\n",
    "    (\"RandomForestClassifier, max_features='log2'\",\n",
    "        RandomForestClassifier(warm_start=True, \n",
    "                               max_features='log2',\n",
    "                               oob_score=True,\n",
    "                               random_state=RANDOM_STATE)),\n",
    "    (\"RandomForestClassifier, max_features=None\",\n",
    "        RandomForestClassifier(warm_start=True, \n",
    "                               max_features=None,\n",
    "                               oob_score=True,\n",
    "                               random_state=RANDOM_STATE))\n",
    "]"
   ]
  },
  {
   "cell_type": "code",
   "execution_count": 135,
   "metadata": {},
   "outputs": [
    {
     "name": "stderr",
     "output_type": "stream",
     "text": [
      "/anaconda/lib/python3.6/site-packages/sklearn/ensemble/forest.py:439: UserWarning: Some inputs do not have OOB scores. This probably means too few trees were used to compute any reliable oob estimates.\n",
      "  warn(\"Some inputs do not have OOB scores. \"\n",
      "/anaconda/lib/python3.6/site-packages/sklearn/ensemble/forest.py:444: RuntimeWarning: invalid value encountered in true_divide\n",
      "  predictions[k].sum(axis=1)[:, np.newaxis])\n",
      "/anaconda/lib/python3.6/site-packages/sklearn/ensemble/forest.py:439: UserWarning: Some inputs do not have OOB scores. This probably means too few trees were used to compute any reliable oob estimates.\n",
      "  warn(\"Some inputs do not have OOB scores. \"\n",
      "/anaconda/lib/python3.6/site-packages/sklearn/ensemble/forest.py:444: RuntimeWarning: invalid value encountered in true_divide\n",
      "  predictions[k].sum(axis=1)[:, np.newaxis])\n",
      "/anaconda/lib/python3.6/site-packages/sklearn/ensemble/forest.py:439: UserWarning: Some inputs do not have OOB scores. This probably means too few trees were used to compute any reliable oob estimates.\n",
      "  warn(\"Some inputs do not have OOB scores. \"\n",
      "/anaconda/lib/python3.6/site-packages/sklearn/ensemble/forest.py:444: RuntimeWarning: invalid value encountered in true_divide\n",
      "  predictions[k].sum(axis=1)[:, np.newaxis])\n",
      "/anaconda/lib/python3.6/site-packages/sklearn/ensemble/forest.py:439: UserWarning: Some inputs do not have OOB scores. This probably means too few trees were used to compute any reliable oob estimates.\n",
      "  warn(\"Some inputs do not have OOB scores. \"\n",
      "/anaconda/lib/python3.6/site-packages/sklearn/ensemble/forest.py:444: RuntimeWarning: invalid value encountered in true_divide\n",
      "  predictions[k].sum(axis=1)[:, np.newaxis])\n",
      "/anaconda/lib/python3.6/site-packages/sklearn/ensemble/forest.py:439: UserWarning: Some inputs do not have OOB scores. This probably means too few trees were used to compute any reliable oob estimates.\n",
      "  warn(\"Some inputs do not have OOB scores. \"\n",
      "/anaconda/lib/python3.6/site-packages/sklearn/ensemble/forest.py:444: RuntimeWarning: invalid value encountered in true_divide\n",
      "  predictions[k].sum(axis=1)[:, np.newaxis])\n",
      "/anaconda/lib/python3.6/site-packages/sklearn/ensemble/forest.py:439: UserWarning: Some inputs do not have OOB scores. This probably means too few trees were used to compute any reliable oob estimates.\n",
      "  warn(\"Some inputs do not have OOB scores. \"\n",
      "/anaconda/lib/python3.6/site-packages/sklearn/ensemble/forest.py:444: RuntimeWarning: invalid value encountered in true_divide\n",
      "  predictions[k].sum(axis=1)[:, np.newaxis])\n"
     ]
    }
   ],
   "source": [
    "# Map a classifier name to a list of (<n_estimators>, <error rate>) pairs.\n",
    "error_rate = OrderedDict((label, []) for label, _ in ensemble_clfs)\n",
    "\n",
    "for label, clf in ensemble_clfs:\n",
    "    for i in range(10):\n",
    "        clf.fit(X_train_dtm, y_train)\n",
    "        \n",
    "        # Record the OOB error for each `n_estimators=i` setting.\n",
    "        oob_error = 1 - clf.oob_score_\n",
    "        log_loss_error = metrics.log_loss(y_test, clf.predict_proba(X_test_dtm))\n",
    "        \n",
    "        # Enter error rate details\n",
    "        error_rate[label].append((i, clf.n_estimators, log_loss_error))\n",
    "        \n",
    "        # Update n_estimators \n",
    "        clf.n_estimators += 10"
   ]
  },
  {
   "cell_type": "code",
   "execution_count": 190,
   "metadata": {},
   "outputs": [
    {
     "data": {
      "image/png": "[encoded data removed]",
      "text/plain": [
       "<matplotlib.figure.Figure at 0x15b5945f8>"
      ]
     },
     "metadata": {},
     "output_type": "display_data"
    }
   ],
   "source": [
    "# Generate the \"OOB error rate\" vs. \"n_estimators\" plot.\n",
    "plt.figure(figsize=(20,5))\n",
    "\n",
    "for label, clf_err in error_rate.items():\n",
    "    xs, ys, zs = zip(*clf_err)\n",
    "    plt.plot(ys, zs, label=label)\n",
    "\n",
    "plt.xlabel(\"n_estimators\", fontsize=14)\n",
    "plt.ylabel(\"OOB error rate\", fontsize=14)\n",
    "plt.legend(loc=\"upper right\", fontsize=14)\n",
    "plt.show()"
   ]
  },
  {
   "cell_type": "markdown",
   "metadata": {},
   "source": [
    "Like above, the first five estimators start with high errors.  However, the error goes down.  However, with NO maximum features, it steadied around 0.38-0.39.  With the other two maximum features, the 'sqrt' random forest had a slightly higher error than the 'log2' random forest but the 'log2' overtook it, having a smaller error over the long term.  This would continue for another 50 n_estimators.  \n",
    "\n",
    "Working with n_estimators, the log2 random forest does well with this training set than the sqrt random forest and especially the random forest where there are no maximum features.  Even in a quick grid search, `sqrt` did the best with the training set although the best values were not present.  "
   ]
  },
  {
   "cell_type": "code",
   "execution_count": 193,
   "metadata": {},
   "outputs": [
    {
     "data": {
      "image/png": "[encoded data removed]",
      "text/plain": [
       "<matplotlib.figure.Figure at 0x155f1cac8>"
      ]
     },
     "metadata": {},
     "output_type": "display_data"
    }
   ],
   "source": [
    "# Generate the \"OOB error rate\" vs. \"n_estimators\" plot.\n",
    "plt.figure(figsize=(20,5))\n",
    "\n",
    "for label, clf_err in error_rate.items():\n",
    "    xs, ys, zs  = zip(*clf_err)\n",
    "    plt.plot(ys, zs, label=label)\n",
    "\n",
    "plt.xlabel(\"n_estimators\", fontsize=14)\n",
    "plt.ylabel(\"Log-loss error rate\", fontsize=14)\n",
    "plt.legend(loc=\"upper right\", fontsize=14)\n",
    "plt.show()"
   ]
  },
  {
   "cell_type": "markdown",
   "metadata": {
    "collapsed": true
   },
   "source": [
    "Using the same evaluation metric, log_loss, the 'None' random forest has the same curvature as above.  However, the two have steady log-loss error rates below 0.80.  'log2', which did well in the OOB error curve, had a larger error by 0.01-0.02 against 'sqrt', as to why the pipeline preferred 'sqrt' as the best.  But also, it doesn't seem that one parameter is influencing the other.  While this is a simple choice, it will remain the same.  "
   ]
  },
  {
   "cell_type": "markdown",
   "metadata": {},
   "source": [
    "### 3 - `min_samples_leaf`\n",
    "This will now test the minimum sample leafs using the information obtained above.  Seeing that the n_estimators perform well after 50 and that the 'log2' random forest and the 'sqrt' random forest did better than having no maximum features, it would be best to continue on this route.  Hypothetically if having 15 possibilities per feature to check, then with n features, it would recur 15 * n, and this is not including cross-validation.  "
   ]
  },
  {
   "cell_type": "code",
   "execution_count": 121,
   "metadata": {
    "collapsed": true
   },
   "outputs": [],
   "source": [
    "sample_leaf_options = list(range(1,10))"
   ]
  },
  {
   "cell_type": "code",
   "execution_count": 130,
   "metadata": {},
   "outputs": [],
   "source": [
    "leaf_error = []\n",
    "\n",
    "for leaf_size in sample_leaf_options:\n",
    "    clf = RandomForestClassifier(n_estimators = 100, \n",
    "                                oob_score = True, \n",
    "                                warm_start = True,\n",
    "                                n_jobs = -1,\n",
    "                                random_state = RANDOM_STATE, \n",
    "                                max_features = \"log2\", \n",
    "                                min_samples_leaf = leaf_size)\n",
    "    \n",
    "    clf.fit(X_train_dtm, y_train)\n",
    "    \n",
    "    # OOB and log-loss error\n",
    "    log_loss_error = metrics.log_loss(y_test, clf.predict_proba(X_test_dtm))\n",
    "        \n",
    "    # Enter error rate details\n",
    "    leaf_error.append((leaf_size, log_loss_error))"
   ]
  },
  {
   "cell_type": "code",
   "execution_count": 133,
   "metadata": {},
   "outputs": [
    {
     "data": {
      "text/plain": [
       "[(1, 0.79931193729958327),\n",
       " (2, 0.96930408294510673),\n",
       " (3, 1.0226134991021902),\n",
       " (4, 1.054235881557676),\n",
       " (5, 1.0674734695632957),\n",
       " (6, 1.0746039938900027),\n",
       " (7, 1.0785372570634073),\n",
       " (8, 1.0809019475598376),\n",
       " (9, 1.0821736081707012)]"
      ]
     },
     "execution_count": 133,
     "metadata": {},
     "output_type": "execute_result"
    }
   ],
   "source": [
    "leaf_error"
   ]
  },
  {
   "cell_type": "markdown",
   "metadata": {},
   "source": [
    "The default leaf sample size (= 1) seems to be the best choice.  As the minimal sample increases so does the leaf error (the log-loss error when changing the number).  Also, after the ninth iteration, the error will remain stabilized.  It will still compute but it will stabilize.  Thus the min_samples_leaf is best left alone."
   ]
  },
  {
   "cell_type": "markdown",
   "metadata": {},
   "source": [
    "### 4 - Other Tuning Points"
   ]
  },
  {
   "cell_type": "code",
   "execution_count": 144,
   "metadata": {},
   "outputs": [],
   "source": [
    "# tuning\n",
    "# pipeline\n",
    "pipeline = Pipeline([\n",
    "    ('vect', CountVectorizer(binary=True, stop_words=None)),\n",
    "    ('rf', RandomForestClassifier(oob_score=True, \n",
    "                                  random_state=RANDOM_STATE, \n",
    "                                  warm_start=True,\n",
    "                                 bootstrap=True))\n",
    "])\n",
    "\n",
    "# parameters (please note too many)\n",
    "parameters = dict(\n",
    "    rf__max_features = ['sqrt','log2'],\n",
    "    rf__criterion = [\"gini\", \"entropy\"],\n",
    "    rf__max_depth = [3, None],\n",
    "    rf__min_samples_split = sp_randint(2, 11),\n",
    "    rf__min_samples_leaf =  sp_randint(1, 11),\n",
    "    rf__n_estimators = [10, 25, 50, 75, 100, 125, 150, 175, 200],\n",
    "    vect__max_df = (0.5, 0.75, 1.0),\n",
    "    vect__ngram_range = [(1,1), (1,2), (2,2)]\n",
    ")"
   ]
  },
  {
   "cell_type": "code",
   "execution_count": 145,
   "metadata": {
    "collapsed": true
   },
   "outputs": [],
   "source": [
    "# cv=5 academically proven as best fold, kept n_jobs (jobs running parallel)= 1, output time\n",
    "rand_search = RandomizedSearchCV(pipeline, \n",
    "                           parameters, \n",
    "                           n_jobs=1, \n",
    "                           cv=5\n",
    "                )"
   ]
  },
  {
   "cell_type": "code",
   "execution_count": 146,
   "metadata": {
    "scrolled": true
   },
   "outputs": [
    {
     "name": "stdout",
     "output_type": "stream",
     "text": [
      "Performing grid search...\n",
      "pipeline: ['vect', 'rf']\n",
      "parameters:\n",
      "{'rf__criterion': ['gini', 'entropy'],\n",
      " 'rf__max_depth': [3, None],\n",
      " 'rf__max_features': ['sqrt', 'log2'],\n",
      " 'rf__min_samples_leaf': <scipy.stats._distn_infrastructure.rv_frozen object at 0x110fd7f98>,\n",
      " 'rf__min_samples_split': <scipy.stats._distn_infrastructure.rv_frozen object at 0x110fd70f0>,\n",
      " 'rf__n_estimators': [10, 25, 50, 75, 100, 125, 150, 175, 200],\n",
      " 'vect__max_df': (0.5, 0.75, 1.0),\n",
      " 'vect__ngram_range': [(...), (...), (...)]}\n",
      "CPU times: user 2min 42s, sys: 5.81 s, total: 2min 48s\n",
      "Wall time: 2min 48s\n"
     ]
    },
    {
     "data": {
      "text/plain": [
       "RandomizedSearchCV(cv=5, error_score='raise',\n",
       "          estimator=Pipeline(steps=[('vect', CountVectorizer(analyzer='word', binary=True, decode_error='strict',\n",
       "        dtype=<class 'numpy.int64'>, encoding='utf-8', input='content',\n",
       "        lowercase=True, max_df=1.0, max_features=None, min_df=1,\n",
       "        ngram_range=(1, 1), preprocessor=None, stop_words=None,\n",
       "        strip_...estimators=10, n_jobs=1, oob_score=True, random_state=123,\n",
       "            verbose=0, warm_start=True))]),\n",
       "          fit_params={}, iid=True, n_iter=10, n_jobs=1,\n",
       "          param_distributions={'rf__max_features': ['sqrt', 'log2'], 'rf__criterion': ['gini', 'entropy'], 'rf__max_depth': [3, None], 'rf__min_samples_split': <scipy.stats._distn_infrastructure.rv_frozen object at 0x110fd70f0>, 'rf__min_samples_leaf': <scipy.stats._distn_infrastructure.rv_frozen object at 0x110fd7f98>, 'rf__n_estimators': [10, 25, 50, 75, 100, 125, 150, 175, 200], 'vect__max_df': (0.5, 0.75, 1.0), 'vect__ngram_range': [(1, 1), (1, 2), (2, 2)]},\n",
       "          pre_dispatch='2*n_jobs', random_state=None, refit=True,\n",
       "          return_train_score=True, scoring=None, verbose=0)"
      ]
     },
     "execution_count": 146,
     "metadata": {},
     "output_type": "execute_result"
    }
   ],
   "source": [
    "# fit model for best parameters\n",
    "print(\"Performing grid search...\")\n",
    "print(\"pipeline:\", [name for name, _ in pipeline.steps])\n",
    "print(\"parameters:\")\n",
    "pprint(parameters, depth=2)\n",
    "\n",
    "%time rand_search.fit(X_train, y_train)"
   ]
  },
  {
   "cell_type": "code",
   "execution_count": 147,
   "metadata": {},
   "outputs": [
    {
     "name": "stdout",
     "output_type": "stream",
     "text": [
      "Best score: 0.612\n",
      "Best parameters set:\n",
      "\trf__criterion: 'gini'\n",
      "\trf__max_depth: None\n",
      "\trf__max_features: 'sqrt'\n",
      "\trf__min_samples_leaf: 1\n",
      "\trf__min_samples_split: 2\n",
      "\trf__n_estimators: 10\n",
      "\tvect__max_df: 0.5\n",
      "\tvect__ngram_range: (1, 1)\n"
     ]
    }
   ],
   "source": [
    "print(\"Best score: %0.3f\" % grid_search.best_score_)\n",
    "print(\"Best parameters set:\")\n",
    "\n",
    "best_parameters = grid_search.best_estimator_.get_params()\n",
    "\n",
    "for param_name in sorted(parameters.keys()):\n",
    "    print(\"\\t%s: %r\" % (param_name, best_parameters[param_name]))"
   ]
  },
  {
   "cell_type": "markdown",
   "metadata": {
    "collapsed": true
   },
   "source": [
    "## random search with tuned parameters"
   ]
  },
  {
   "cell_type": "code",
   "execution_count": 153,
   "metadata": {
    "collapsed": true
   },
   "outputs": [],
   "source": [
    "# import and instantiate CountVectorizer (with the default parameters)\n",
    "vect_rf = CountVectorizer(max_df=0.5, \n",
    "                          ngram_range=(1,1))"
   ]
  },
  {
   "cell_type": "code",
   "execution_count": 154,
   "metadata": {
    "collapsed": true
   },
   "outputs": [],
   "source": [
    "# learn the 'vocabulary' of the training data (occurs in-place)\n",
    "X_dtm = vect_rf.fit_transform(X)"
   ]
  },
  {
   "cell_type": "code",
   "execution_count": 155,
   "metadata": {
    "collapsed": true
   },
   "outputs": [],
   "source": [
    "# cross validation\n",
    "X_train, X_test, y_train, y_test = train_test_split(X,y,stratify=y)"
   ]
  },
  {
   "cell_type": "code",
   "execution_count": 156,
   "metadata": {},
   "outputs": [],
   "source": [
    "# transform \n",
    "X_train_dtm = vect_rf.transform(X_train)\n",
    "X_test_dtm = vect_rf.transform(X_test)"
   ]
  },
  {
   "cell_type": "code",
   "execution_count": 168,
   "metadata": {
    "collapsed": true
   },
   "outputs": [],
   "source": [
    "# random forest classifier; please note this is NOT including parameters\n",
    "rf = RandomForestClassifier(oob_score=True, \n",
    "                            warm_start=True,\n",
    "                            max_features='log2',\n",
    "                            n_estimators=100\n",
    "                           )"
   ]
  },
  {
   "cell_type": "code",
   "execution_count": 169,
   "metadata": {},
   "outputs": [
    {
     "name": "stdout",
     "output_type": "stream",
     "text": [
      "CPU times: user 53.3 s, sys: 296 ms, total: 53.6 s\n",
      "Wall time: 53.8 s\n"
     ]
    },
    {
     "data": {
      "text/plain": [
       "RandomForestClassifier(bootstrap=True, class_weight=None, criterion='gini',\n",
       "            max_depth=None, max_features='log2', max_leaf_nodes=None,\n",
       "            min_impurity_split=1e-07, min_samples_leaf=1,\n",
       "            min_samples_split=2, min_weight_fraction_leaf=0.0,\n",
       "            n_estimators=100, n_jobs=1, oob_score=True, random_state=None,\n",
       "            verbose=0, warm_start=True)"
      ]
     },
     "execution_count": 169,
     "metadata": {},
     "output_type": "execute_result"
    }
   ],
   "source": [
    "# fit the model\n",
    "%time rf.fit(X_train_dtm, y_train)"
   ]
  },
  {
   "cell_type": "code",
   "execution_count": 170,
   "metadata": {
    "collapsed": true
   },
   "outputs": [],
   "source": [
    "# predict with training class\n",
    "y_train_pred = rf.predict(X_train_dtm)"
   ]
  },
  {
   "cell_type": "code",
   "execution_count": 171,
   "metadata": {
    "collapsed": true
   },
   "outputs": [],
   "source": [
    "# predict with testing class\n",
    "y_test_pred = rf.predict(X_test_dtm)"
   ]
  },
  {
   "cell_type": "code",
   "execution_count": 172,
   "metadata": {
    "collapsed": true
   },
   "outputs": [],
   "source": [
    "# calculate predicted probabilities for X_test_dtm\n",
    "y_pred_prob = rf.predict_proba(X_test_dtm)"
   ]
  },
  {
   "cell_type": "code",
   "execution_count": 173,
   "metadata": {},
   "outputs": [
    {
     "data": {
      "text/plain": [
       "1.0"
      ]
     },
     "execution_count": 173,
     "metadata": {},
     "output_type": "execute_result"
    }
   ],
   "source": [
    "# accuracy score, train\n",
    "metrics.accuracy_score(y_train, y_train_pred)"
   ]
  },
  {
   "cell_type": "code",
   "execution_count": 174,
   "metadata": {},
   "outputs": [
    {
     "data": {
      "text/plain": [
       "0.72053115423901937"
      ]
     },
     "execution_count": 174,
     "metadata": {},
     "output_type": "execute_result"
    }
   ],
   "source": [
    "# accuracy score, test\n",
    "metrics.accuracy_score(y_test, y_test_pred)"
   ]
  },
  {
   "cell_type": "code",
   "execution_count": 175,
   "metadata": {},
   "outputs": [
    {
     "data": {
      "text/plain": [
       "array([[5925,    0,    0],\n",
       "       [   0, 4226,    0],\n",
       "       [   0,    0, 4533]])"
      ]
     },
     "execution_count": 175,
     "metadata": {},
     "output_type": "execute_result"
    }
   ],
   "source": [
    "# confusion matrix, train\n",
    "metrics.confusion_matrix(y_train, y_train_pred)"
   ]
  },
  {
   "cell_type": "code",
   "execution_count": 176,
   "metadata": {},
   "outputs": [
    {
     "data": {
      "text/plain": [
       "array([[1840,   25,  110],\n",
       "       [ 614,  712,   83],\n",
       "       [ 492,   44,  975]])"
      ]
     },
     "execution_count": 176,
     "metadata": {},
     "output_type": "execute_result"
    }
   ],
   "source": [
    "# print confusion matrix\n",
    "metrics.confusion_matrix(y_test, y_test_pred)"
   ]
  },
  {
   "cell_type": "code",
   "execution_count": 177,
   "metadata": {},
   "outputs": [
    {
     "name": "stdout",
     "output_type": "stream",
     "text": [
      "             precision    recall  f1-score   support\n",
      "\n",
      "        EAP       1.00      1.00      1.00      5925\n",
      "        HPL       1.00      1.00      1.00      4226\n",
      "        MWS       1.00      1.00      1.00      4533\n",
      "\n",
      "avg / total       1.00      1.00      1.00     14684\n",
      "\n"
     ]
    }
   ],
   "source": [
    "# classification report, train\n",
    "print(metrics.classification_report(y_train, y_train_pred))"
   ]
  },
  {
   "cell_type": "code",
   "execution_count": 178,
   "metadata": {},
   "outputs": [
    {
     "name": "stdout",
     "output_type": "stream",
     "text": [
      "             precision    recall  f1-score   support\n",
      "\n",
      "        EAP       0.62      0.93      0.75      1975\n",
      "        HPL       0.91      0.51      0.65      1409\n",
      "        MWS       0.83      0.65      0.73      1511\n",
      "\n",
      "avg / total       0.77      0.72      0.71      4895\n",
      "\n"
     ]
    }
   ],
   "source": [
    "# classification report, test\n",
    "print(metrics.classification_report(y_test, y_test_pred))"
   ]
  },
  {
   "cell_type": "markdown",
   "metadata": {},
   "source": [
    "### identification and final computations"
   ]
  },
  {
   "cell_type": "code",
   "execution_count": 196,
   "metadata": {
    "collapsed": true
   },
   "outputs": [],
   "source": [
    "# calculate predicted probabilities for X_test_dtm\n",
    "# naive bayes = good classifier but bad something (not produced well-predicted probabilities)\n",
    "y_pred_prob = rf.predict_proba(X_test_dtm)"
   ]
  },
  {
   "cell_type": "code",
   "execution_count": 199,
   "metadata": {},
   "outputs": [],
   "source": [
    "exp1_C_lst5 = rf.predict(X_test_dtm)"
   ]
  }
 ],
 "metadata": {
  "kernelspec": {
   "display_name": "Python 3",
   "language": "python",
   "name": "python3"
  },
  "language_info": {
   "codemirror_mode": {
    "name": "ipython",
    "version": 3
   },
   "file_extension": ".py",
   "mimetype": "text/x-python",
   "name": "python",
   "nbconvert_exporter": "python",
   "pygments_lexer": "ipython3",
   "version": "3.6.1"
  }
 },
 "nbformat": 4,
 "nbformat_minor": 2
}
