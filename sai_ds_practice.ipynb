{
 "cells": [
  {
   "cell_type": "markdown",
   "metadata": {},
   "source": [
    "### Spooky Author Identification\n",
    "**Inspiration**: dataschool.io, Kevin Markham\n",
    "\n",
    "**Aim**: get the gist of this dataset using his method"
   ]
  },
  {
   "cell_type": "code",
   "execution_count": 70,
   "metadata": {
    "collapsed": true
   },
   "outputs": [],
   "source": [
    "### Import libraries and modules\n",
    "import pandas as pd # dataframes\n",
    "import numpy as np\n",
    "from sklearn import metrics\n",
    "\n",
    "### Read in the data\n",
    "\n",
    "# read our data into a dataframe\n",
    "texts = pd.read_csv(\"train.csv\")"
   ]
  },
  {
   "cell_type": "code",
   "execution_count": 2,
   "metadata": {},
   "outputs": [
    {
     "data": {
      "text/html": [
       "<div>\n",
       "<style>\n",
       "    .dataframe thead tr:only-child th {\n",
       "        text-align: right;\n",
       "    }\n",
       "\n",
       "    .dataframe thead th {\n",
       "        text-align: left;\n",
       "    }\n",
       "\n",
       "    .dataframe tbody tr th {\n",
       "        vertical-align: top;\n",
       "    }\n",
       "</style>\n",
       "<table border=\"1\" class=\"dataframe\">\n",
       "  <thead>\n",
       "    <tr style=\"text-align: right;\">\n",
       "      <th></th>\n",
       "      <th>id</th>\n",
       "      <th>text</th>\n",
       "      <th>author</th>\n",
       "    </tr>\n",
       "  </thead>\n",
       "  <tbody>\n",
       "    <tr>\n",
       "      <th>0</th>\n",
       "      <td>id26305</td>\n",
       "      <td>This process, however, afforded me no means of...</td>\n",
       "      <td>EAP</td>\n",
       "    </tr>\n",
       "    <tr>\n",
       "      <th>1</th>\n",
       "      <td>id17569</td>\n",
       "      <td>It never once occurred to me that the fumbling...</td>\n",
       "      <td>HPL</td>\n",
       "    </tr>\n",
       "    <tr>\n",
       "      <th>2</th>\n",
       "      <td>id11008</td>\n",
       "      <td>In his left hand was a gold snuff box, from wh...</td>\n",
       "      <td>EAP</td>\n",
       "    </tr>\n",
       "    <tr>\n",
       "      <th>3</th>\n",
       "      <td>id27763</td>\n",
       "      <td>How lovely is spring As we looked from Windsor...</td>\n",
       "      <td>MWS</td>\n",
       "    </tr>\n",
       "    <tr>\n",
       "      <th>4</th>\n",
       "      <td>id12958</td>\n",
       "      <td>Finding nothing else, not even gold, the Super...</td>\n",
       "      <td>HPL</td>\n",
       "    </tr>\n",
       "  </tbody>\n",
       "</table>\n",
       "</div>"
      ],
      "text/plain": [
       "        id                                               text author\n",
       "0  id26305  This process, however, afforded me no means of...    EAP\n",
       "1  id17569  It never once occurred to me that the fumbling...    HPL\n",
       "2  id11008  In his left hand was a gold snuff box, from wh...    EAP\n",
       "3  id27763  How lovely is spring As we looked from Windsor...    MWS\n",
       "4  id12958  Finding nothing else, not even gold, the Super...    HPL"
      ]
     },
     "execution_count": 2,
     "metadata": {},
     "output_type": "execute_result"
    }
   ],
   "source": [
    "### Examine the file\n",
    "# First records\n",
    "texts.head()"
   ]
  },
  {
   "cell_type": "code",
   "execution_count": 3,
   "metadata": {},
   "outputs": [
    {
     "data": {
      "text/plain": [
       "(19579, 3)"
      ]
     },
     "execution_count": 3,
     "metadata": {},
     "output_type": "execute_result"
    }
   ],
   "source": [
    "# Shape texts\n",
    "texts.shape"
   ]
  },
  {
   "cell_type": "code",
   "execution_count": 4,
   "metadata": {},
   "outputs": [
    {
     "data": {
      "text/plain": [
       "EAP    7900\n",
       "MWS    6044\n",
       "HPL    5635\n",
       "Name: author, dtype: int64"
      ]
     },
     "execution_count": 4,
     "metadata": {},
     "output_type": "execute_result"
    }
   ],
   "source": [
    "# Value Counts\n",
    "texts.author.value_counts()"
   ]
  },
  {
   "cell_type": "code",
   "execution_count": 6,
   "metadata": {
    "collapsed": true
   },
   "outputs": [],
   "source": [
    "### Define X and y, train and test\n",
    "X = texts.text\n",
    "y = texts.author"
   ]
  },
  {
   "cell_type": "code",
   "execution_count": 9,
   "metadata": {},
   "outputs": [
    {
     "data": {
      "text/plain": [
       "pandas.core.series.Series"
      ]
     },
     "execution_count": 9,
     "metadata": {},
     "output_type": "execute_result"
    }
   ],
   "source": [
    "type(X)\n",
    "type(y)"
   ]
  },
  {
   "cell_type": "code",
   "execution_count": 10,
   "metadata": {},
   "outputs": [
    {
     "name": "stdout",
     "output_type": "stream",
     "text": [
      "(14684,)\n",
      "(4895,)\n",
      "(14684,)\n",
      "(4895,)\n"
     ]
    },
    {
     "name": "stderr",
     "output_type": "stream",
     "text": [
      "/anaconda/lib/python3.6/site-packages/sklearn/cross_validation.py:44: DeprecationWarning: This module was deprecated in version 0.18 in favor of the model_selection module into which all the refactored classes and functions are moved. Also note that the interface of the new CV iterators are different from that of this module. This module will be removed in 0.20.\n",
      "  \"This module will be removed in 0.20.\", DeprecationWarning)\n"
     ]
    }
   ],
   "source": [
    "from sklearn.cross_validation import train_test_split\n",
    "X_train, X_test, y_train, y_test = train_test_split(X, y)\n",
    "print(X_train.shape)\n",
    "print(X_test.shape)\n",
    "print(y_train.shape)\n",
    "print(y_test.shape)"
   ]
  },
  {
   "cell_type": "code",
   "execution_count": 11,
   "metadata": {
    "collapsed": true
   },
   "outputs": [],
   "source": [
    "# import and instantiate CountVectorizer (with the default parameters)\n",
    "from sklearn.feature_extraction.text import CountVectorizer\n",
    "vect = CountVectorizer()"
   ]
  },
  {
   "cell_type": "code",
   "execution_count": 12,
   "metadata": {},
   "outputs": [
    {
     "data": {
      "text/plain": [
       "CountVectorizer(analyzer='word', binary=False, decode_error='strict',\n",
       "        dtype=<class 'numpy.int64'>, encoding='utf-8', input='content',\n",
       "        lowercase=True, max_df=1.0, max_features=None, min_df=1,\n",
       "        ngram_range=(1, 1), preprocessor=None, stop_words=None,\n",
       "        strip_accents=None, token_pattern='(?u)\\\\b\\\\w\\\\w+\\\\b',\n",
       "        tokenizer=None, vocabulary=None)"
      ]
     },
     "execution_count": 12,
     "metadata": {},
     "output_type": "execute_result"
    }
   ],
   "source": [
    "# learn the 'vocabulary' of the training data (occurs in-place)\n",
    "vect.fit(X_train)"
   ]
  },
  {
   "cell_type": "code",
   "execution_count": 13,
   "metadata": {},
   "outputs": [
    {
     "data": {
      "text/plain": [
       "['aaem',\n",
       " 'ab',\n",
       " 'aback',\n",
       " 'abandon',\n",
       " 'abandoned',\n",
       " 'abandoning',\n",
       " 'abandonment',\n",
       " 'abaout',\n",
       " 'abashed',\n",
       " 'abate',\n",
       " 'abated',\n",
       " 'abatement',\n",
       " 'abbey',\n",
       " 'abbreviation',\n",
       " 'abbé',\n",
       " 'abdicated',\n",
       " 'abdication',\n",
       " 'abdul',\n",
       " 'abernethy',\n",
       " 'aberrancy',\n",
       " 'aberrant',\n",
       " 'aberration',\n",
       " 'aberrations',\n",
       " 'abeyance',\n",
       " 'abhor',\n",
       " 'abhorred',\n",
       " 'abhorrence',\n",
       " 'abhorrent',\n",
       " 'abide',\n",
       " 'abigail',\n",
       " 'abijah',\n",
       " 'abilities',\n",
       " 'ability',\n",
       " 'abject',\n",
       " 'ablaze',\n",
       " 'able',\n",
       " 'ably',\n",
       " 'abnormal',\n",
       " 'abnormalities',\n",
       " 'abnormality',\n",
       " 'abnormally',\n",
       " 'aboard',\n",
       " 'abode',\n",
       " 'abodes',\n",
       " 'abolished',\n",
       " 'abominable',\n",
       " 'abomination',\n",
       " 'abominations',\n",
       " 'aboriginal',\n",
       " 'abortion',\n",
       " 'abortions',\n",
       " 'abortive',\n",
       " 'about',\n",
       " 'above',\n",
       " 'abra',\n",
       " 'abreast',\n",
       " 'abroad',\n",
       " 'abrupt',\n",
       " 'abruptly',\n",
       " 'abruptness',\n",
       " 'absconded',\n",
       " 'absence',\n",
       " 'absences',\n",
       " 'absense',\n",
       " 'absent',\n",
       " 'absolute',\n",
       " 'absolutely',\n",
       " 'absolved',\n",
       " 'absorb',\n",
       " 'absorbed',\n",
       " 'absorbing',\n",
       " 'absorbingly',\n",
       " 'absorption',\n",
       " 'abstained',\n",
       " 'abstaining',\n",
       " 'abstemious',\n",
       " 'abstract',\n",
       " 'abstracted',\n",
       " 'abstraction',\n",
       " 'abstractions',\n",
       " 'abstractly',\n",
       " 'abstruse',\n",
       " 'abstruseness',\n",
       " 'absurd',\n",
       " 'absurdities',\n",
       " 'absurdity',\n",
       " 'absurdly',\n",
       " 'absurdness',\n",
       " 'abundance',\n",
       " 'abundant',\n",
       " 'abundantly',\n",
       " 'abuse',\n",
       " 'abuses',\n",
       " 'abutted',\n",
       " 'abutting',\n",
       " 'abxut',\n",
       " 'abysmal',\n",
       " 'abysms',\n",
       " 'abyss',\n",
       " 'abysses',\n",
       " 'academy',\n",
       " 'accaount',\n",
       " 'accede',\n",
       " 'accelerated',\n",
       " 'accelerating',\n",
       " 'acceleration',\n",
       " 'accent',\n",
       " 'accents',\n",
       " 'accentuation',\n",
       " 'accept',\n",
       " 'acceptance',\n",
       " 'acceptation',\n",
       " 'accepted',\n",
       " 'accepting',\n",
       " 'access',\n",
       " 'accessible',\n",
       " 'accession',\n",
       " 'accessory',\n",
       " 'accident',\n",
       " 'accidental',\n",
       " 'accidentally',\n",
       " 'accidents',\n",
       " 'acclamations',\n",
       " 'acclivity',\n",
       " 'accommodate',\n",
       " 'accommodated',\n",
       " 'accommodation',\n",
       " 'accompanied',\n",
       " 'accompanies',\n",
       " 'accompany',\n",
       " 'accompanying',\n",
       " 'accomplice',\n",
       " 'accomplices',\n",
       " 'accomplish',\n",
       " 'accomplished',\n",
       " 'accomplishing',\n",
       " 'accomplishment',\n",
       " 'accomplishments',\n",
       " 'accord',\n",
       " 'accordance',\n",
       " 'accordant',\n",
       " 'accorded',\n",
       " 'according',\n",
       " 'accordingly',\n",
       " 'accorto',\n",
       " 'accost',\n",
       " 'accosted',\n",
       " 'account',\n",
       " 'accounted',\n",
       " 'accounting',\n",
       " 'accounts',\n",
       " 'accoutred',\n",
       " 'accoutrements',\n",
       " 'accredited',\n",
       " 'accrue',\n",
       " 'accrued',\n",
       " 'accruing',\n",
       " 'accumulate',\n",
       " 'accumulated',\n",
       " 'accumulating',\n",
       " 'accumulations',\n",
       " 'accuracy',\n",
       " 'accurate',\n",
       " 'accurately',\n",
       " 'accursed',\n",
       " 'accursedly',\n",
       " 'accusation',\n",
       " 'accusations',\n",
       " 'accuse',\n",
       " 'accused',\n",
       " 'accusers',\n",
       " 'accusing',\n",
       " 'accustomed',\n",
       " 'acetous',\n",
       " 'acetylene',\n",
       " 'ached',\n",
       " 'acheron',\n",
       " 'achieve',\n",
       " 'achieved',\n",
       " 'achievement',\n",
       " 'achieving',\n",
       " 'achilles',\n",
       " 'aching',\n",
       " 'acid',\n",
       " 'acknowledge',\n",
       " 'acknowledged',\n",
       " 'acknowledgement',\n",
       " 'acknowledging',\n",
       " 'acme',\n",
       " 'acorns',\n",
       " 'acoustic',\n",
       " 'acquaint',\n",
       " 'acquaintance',\n",
       " 'acquaintances',\n",
       " 'acquainted',\n",
       " 'acquainting',\n",
       " 'acquiesced',\n",
       " 'acquiescence',\n",
       " 'acquire',\n",
       " 'acquired',\n",
       " 'acquirement',\n",
       " 'acquirements',\n",
       " 'acquires',\n",
       " 'acquiring',\n",
       " 'acquisition',\n",
       " 'acquisitions',\n",
       " 'acquit',\n",
       " 'acquittal',\n",
       " 'acre',\n",
       " 'acrid',\n",
       " 'acrimony',\n",
       " 'acropolis',\n",
       " 'across',\n",
       " 'acrost',\n",
       " 'act',\n",
       " 'acted',\n",
       " 'acting',\n",
       " 'action',\n",
       " 'actions',\n",
       " 'active',\n",
       " 'actively',\n",
       " 'activities',\n",
       " 'activity',\n",
       " 'actor',\n",
       " 'actors',\n",
       " 'acts',\n",
       " 'actual',\n",
       " 'actuality',\n",
       " 'actually',\n",
       " 'actuated',\n",
       " 'actuates',\n",
       " 'acumen',\n",
       " 'acute',\n",
       " 'acutely',\n",
       " 'acuteness',\n",
       " 'adage',\n",
       " 'adam',\n",
       " 'adamant',\n",
       " 'adamantine',\n",
       " 'adams',\n",
       " 'adapt',\n",
       " 'adaptation',\n",
       " 'adapted',\n",
       " 'adapting',\n",
       " 'adaption',\n",
       " 'add',\n",
       " 'added',\n",
       " 'adder',\n",
       " 'adders',\n",
       " 'addicted',\n",
       " 'adding',\n",
       " 'addison',\n",
       " 'addition',\n",
       " 'additional',\n",
       " 'address',\n",
       " 'addressed',\n",
       " 'addresses',\n",
       " 'addressing',\n",
       " 'adds',\n",
       " 'adduce',\n",
       " 'adduced',\n",
       " 'adelaide',\n",
       " 'ademptum',\n",
       " 'adept',\n",
       " 'adequacy',\n",
       " 'adequate',\n",
       " 'adequately',\n",
       " 'adhere',\n",
       " 'adhesion',\n",
       " 'adieu',\n",
       " 'adjacent',\n",
       " 'adjective',\n",
       " 'adjoining',\n",
       " 'adjure',\n",
       " 'adjust',\n",
       " 'adjusted',\n",
       " 'adjusting',\n",
       " 'adjustment',\n",
       " 'adjustments',\n",
       " 'admeasurement',\n",
       " 'administered',\n",
       " 'administration',\n",
       " 'admirable',\n",
       " 'admirably',\n",
       " 'admiralty',\n",
       " 'admiration',\n",
       " 'admire',\n",
       " 'admired',\n",
       " 'admirer',\n",
       " 'admirers',\n",
       " 'admires',\n",
       " 'admiring',\n",
       " 'admission',\n",
       " 'admit',\n",
       " 'admits',\n",
       " 'admittance',\n",
       " 'admitted',\n",
       " 'admitting',\n",
       " 'admonisher',\n",
       " 'admonishing',\n",
       " 'admonition',\n",
       " 'admonitions',\n",
       " 'ado',\n",
       " 'adobe',\n",
       " 'adolescence',\n",
       " 'adopt',\n",
       " 'adopted',\n",
       " 'adopting',\n",
       " 'adoption',\n",
       " 'adoration',\n",
       " 'adore',\n",
       " 'adored',\n",
       " 'adoring',\n",
       " 'adorn',\n",
       " 'adorned',\n",
       " 'adorning',\n",
       " 'adornment',\n",
       " 'adornments',\n",
       " 'adorns',\n",
       " 'adrian',\n",
       " 'adriatic',\n",
       " 'adrift',\n",
       " 'adroitness',\n",
       " 'adult',\n",
       " 'advance',\n",
       " 'advanced',\n",
       " 'advancement',\n",
       " 'advances',\n",
       " 'advancing',\n",
       " 'advantage',\n",
       " 'advantages',\n",
       " 'advent',\n",
       " 'adventitious',\n",
       " 'adventure',\n",
       " 'adventurer',\n",
       " 'adventurers',\n",
       " 'adventures',\n",
       " 'adventuring',\n",
       " 'adventurous',\n",
       " 'adversaries',\n",
       " 'adversary',\n",
       " 'adverse',\n",
       " 'adversities',\n",
       " 'adversity',\n",
       " 'advert',\n",
       " 'adverted',\n",
       " 'adverting',\n",
       " 'advertisement',\n",
       " 'advertiser',\n",
       " 'advertising',\n",
       " 'advice',\n",
       " 'advices',\n",
       " 'advisability',\n",
       " 'advisable',\n",
       " 'advise',\n",
       " 'adviseable',\n",
       " 'advised',\n",
       " 'advising',\n",
       " 'advocate',\n",
       " 'aegis',\n",
       " 'aeolus',\n",
       " 'aeon',\n",
       " 'aeons',\n",
       " 'aerial',\n",
       " 'aerienne',\n",
       " 'aeris',\n",
       " 'aeronaut',\n",
       " 'aeronautic',\n",
       " 'aerostation',\n",
       " 'aesculapius',\n",
       " 'aesthete',\n",
       " 'aesthetes',\n",
       " 'aesthetic',\n",
       " 'aether',\n",
       " 'afar',\n",
       " 'afeard',\n",
       " 'affability',\n",
       " 'affable',\n",
       " 'affair',\n",
       " 'affairs',\n",
       " 'affect',\n",
       " 'affectation',\n",
       " 'affected',\n",
       " 'affectedly',\n",
       " 'affecting',\n",
       " 'affection',\n",
       " 'affectionate',\n",
       " 'affectionately',\n",
       " 'affections',\n",
       " 'affidavits',\n",
       " 'affiliations',\n",
       " 'affinity',\n",
       " 'affirm',\n",
       " 'affirmative',\n",
       " 'affixed',\n",
       " 'afflatus',\n",
       " 'afflict',\n",
       " 'afflicted',\n",
       " 'affliction',\n",
       " 'afflictions',\n",
       " 'affluence',\n",
       " 'afford',\n",
       " 'afforded',\n",
       " 'affording',\n",
       " 'affords',\n",
       " 'affrays',\n",
       " 'affright',\n",
       " 'affrightedly',\n",
       " 'affronted',\n",
       " 'afloat',\n",
       " 'afoot',\n",
       " 'afore',\n",
       " 'afraid',\n",
       " 'afresh',\n",
       " 'africa',\n",
       " 'african',\n",
       " 'aft',\n",
       " 'after',\n",
       " 'aftermath',\n",
       " 'afternoon',\n",
       " 'afternoons',\n",
       " 'afterward',\n",
       " 'afterwards',\n",
       " 'afur',\n",
       " 'ag',\n",
       " 'again',\n",
       " 'against',\n",
       " 'agatha',\n",
       " 'agathos',\n",
       " 'age',\n",
       " 'aged',\n",
       " 'agencies',\n",
       " 'agency',\n",
       " 'agent',\n",
       " 'agents',\n",
       " 'ages',\n",
       " 'aggrandisement',\n",
       " 'aggravate',\n",
       " 'aggravated',\n",
       " 'aggravation',\n",
       " 'aggregate',\n",
       " 'aggregated',\n",
       " 'aggression',\n",
       " 'aggressive',\n",
       " 'aghast',\n",
       " 'agile',\n",
       " 'agility',\n",
       " 'agin',\n",
       " 'agitated',\n",
       " 'agitates',\n",
       " 'agitating',\n",
       " 'agitation',\n",
       " 'agitations',\n",
       " 'aglow',\n",
       " 'ago',\n",
       " 'agonies',\n",
       " 'agonized',\n",
       " 'agonizing',\n",
       " 'agony',\n",
       " 'agora',\n",
       " 'agraffas',\n",
       " 'agreable',\n",
       " 'agree',\n",
       " 'agreeable',\n",
       " 'agreed',\n",
       " 'agreeing',\n",
       " 'agreement',\n",
       " 'agricultural',\n",
       " 'agriculture',\n",
       " 'agrippa',\n",
       " 'ague',\n",
       " 'ah',\n",
       " 'ahead',\n",
       " 'ahem',\n",
       " 'ahhhh',\n",
       " 'ai',\n",
       " 'aid',\n",
       " 'aided',\n",
       " 'aidenn',\n",
       " 'aides',\n",
       " 'aiding',\n",
       " 'aids',\n",
       " 'aiguilles',\n",
       " 'ailments',\n",
       " 'aim',\n",
       " 'aimed',\n",
       " 'aimless',\n",
       " 'aimlessly',\n",
       " 'aims',\n",
       " 'ain',\n",
       " 'ainsworth',\n",
       " 'aint',\n",
       " 'air',\n",
       " 'aira',\n",
       " 'airs',\n",
       " 'airship',\n",
       " 'airy',\n",
       " 'aisles',\n",
       " 'ajar',\n",
       " 'akariel',\n",
       " 'akin',\n",
       " 'aklo',\n",
       " 'akurion',\n",
       " 'al',\n",
       " 'alabaster',\n",
       " 'alacrity',\n",
       " 'alarm',\n",
       " 'alarmed',\n",
       " 'alarmedly',\n",
       " 'alarming',\n",
       " 'alarummed',\n",
       " 'alas',\n",
       " 'alba',\n",
       " 'albany',\n",
       " 'albert',\n",
       " 'albertus',\n",
       " 'albinism',\n",
       " 'albino',\n",
       " 'alchemists',\n",
       " 'alchemy',\n",
       " 'alcmaeon',\n",
       " 'alcohol',\n",
       " 'alcove',\n",
       " 'alcyone',\n",
       " 'aldebaran',\n",
       " 'ale',\n",
       " 'alert',\n",
       " 'alertly',\n",
       " 'alertness',\n",
       " 'ales',\n",
       " 'alex',\n",
       " 'alexander',\n",
       " 'alexandre',\n",
       " 'alfred',\n",
       " 'algebraic',\n",
       " 'algebraical',\n",
       " 'algol',\n",
       " 'alhazred',\n",
       " 'alice',\n",
       " 'alien',\n",
       " 'alienage',\n",
       " 'alienated',\n",
       " 'alienation',\n",
       " 'alienists',\n",
       " 'alight',\n",
       " 'alighted',\n",
       " 'alike',\n",
       " 'alimentiveness',\n",
       " 'alit',\n",
       " 'alive',\n",
       " 'alkaloid',\n",
       " 'all',\n",
       " 'allah',\n",
       " 'allan',\n",
       " 'allaowed',\n",
       " 'allay',\n",
       " 'allayed',\n",
       " 'allaying',\n",
       " 'allege',\n",
       " 'alleged',\n",
       " 'allegiance',\n",
       " 'alleging',\n",
       " 'allegorical',\n",
       " 'allegorically',\n",
       " 'allegory',\n",
       " 'allen',\n",
       " 'alleviate',\n",
       " 'alleviating',\n",
       " 'alleviation',\n",
       " 'alleviations',\n",
       " 'alley',\n",
       " 'alleys',\n",
       " 'alliance',\n",
       " 'alliances',\n",
       " 'allied',\n",
       " 'allies',\n",
       " 'alligator',\n",
       " 'allotted',\n",
       " 'allow',\n",
       " 'allowance',\n",
       " 'allowed',\n",
       " 'allowing',\n",
       " 'alloy',\n",
       " 'allude',\n",
       " 'alluded',\n",
       " 'alludes',\n",
       " 'alluding',\n",
       " 'allure',\n",
       " 'allured',\n",
       " 'allurement',\n",
       " 'alluring',\n",
       " 'allusion',\n",
       " 'allusions',\n",
       " 'alluvial',\n",
       " 'ally',\n",
       " 'alma',\n",
       " 'almaviva',\n",
       " 'almighty',\n",
       " 'almost',\n",
       " 'alms',\n",
       " 'aloft',\n",
       " 'alone',\n",
       " 'along',\n",
       " 'alongside',\n",
       " 'aloof',\n",
       " 'alos',\n",
       " 'aloud',\n",
       " 'alow',\n",
       " 'alp',\n",
       " 'alpha',\n",
       " 'alphabet',\n",
       " 'alphabets',\n",
       " 'alpheus',\n",
       " 'alphonse',\n",
       " 'alpine',\n",
       " 'alps',\n",
       " 'already',\n",
       " 'alsatian',\n",
       " 'also',\n",
       " 'altar',\n",
       " 'altars',\n",
       " 'alter',\n",
       " 'alteration',\n",
       " 'alterations',\n",
       " 'altercation',\n",
       " 'altered',\n",
       " 'altering',\n",
       " 'alternate',\n",
       " 'alternated',\n",
       " 'alternately',\n",
       " 'alternations',\n",
       " 'alternative',\n",
       " 'alternatives',\n",
       " 'alters',\n",
       " 'although',\n",
       " 'altitude',\n",
       " 'altitudes',\n",
       " 'altogether',\n",
       " 'altro',\n",
       " 'always',\n",
       " 'am',\n",
       " 'amassed',\n",
       " 'amateur',\n",
       " 'amativeness',\n",
       " 'amazed',\n",
       " 'amazement',\n",
       " 'amazing',\n",
       " 'amazingly',\n",
       " 'ambaaren',\n",
       " 'ambassador',\n",
       " 'ambiguity',\n",
       " 'ambiguous',\n",
       " 'ambition',\n",
       " 'ambitions',\n",
       " 'ambitious',\n",
       " 'ambois',\n",
       " 'ambrosial',\n",
       " 'ambulance',\n",
       " 'ambush',\n",
       " 'amend',\n",
       " 'amending',\n",
       " 'amendment',\n",
       " 'america',\n",
       " 'american',\n",
       " 'americana',\n",
       " 'americans',\n",
       " 'ami',\n",
       " 'amiability',\n",
       " 'amiable',\n",
       " 'amicably',\n",
       " 'amid',\n",
       " 'amidst',\n",
       " 'amiss',\n",
       " 'amity',\n",
       " 'ammonia',\n",
       " 'among',\n",
       " 'amongst',\n",
       " 'amontillado',\n",
       " 'amor',\n",
       " 'amorphous',\n",
       " 'amount',\n",
       " 'amounted',\n",
       " 'amounting',\n",
       " 'amounts',\n",
       " 'amphitheatre',\n",
       " 'amphitheatres',\n",
       " 'ample',\n",
       " 'amplified',\n",
       " 'amplitudine',\n",
       " 'amply',\n",
       " 'amriccan',\n",
       " 'amsterdam',\n",
       " 'amulet',\n",
       " 'amus',\n",
       " 'amuse',\n",
       " 'amused',\n",
       " 'amusement',\n",
       " 'amusements',\n",
       " 'amusing',\n",
       " 'an',\n",
       " 'ana',\n",
       " 'anacreon',\n",
       " 'anacreontic',\n",
       " 'anaemia',\n",
       " 'anaemic',\n",
       " 'analogical',\n",
       " 'analogies',\n",
       " 'analogous',\n",
       " 'analogy',\n",
       " 'analyse',\n",
       " 'analysed',\n",
       " 'analysing',\n",
       " 'analysis',\n",
       " 'analyst',\n",
       " 'analytic',\n",
       " 'analytical',\n",
       " 'analyze',\n",
       " 'analyzed',\n",
       " 'analyzing',\n",
       " 'anarchy',\n",
       " 'anastasia',\n",
       " 'anathema',\n",
       " 'anatomical',\n",
       " 'anatomize',\n",
       " 'anatomy',\n",
       " 'anaxagoras',\n",
       " 'ancestor',\n",
       " 'ancestors',\n",
       " 'ancestral',\n",
       " 'ancestry',\n",
       " 'anchises',\n",
       " 'anchor',\n",
       " 'anchorage',\n",
       " 'anchored',\n",
       " 'ancient',\n",
       " 'ancients',\n",
       " 'ancona',\n",
       " 'and',\n",
       " 'andava',\n",
       " 'andree',\n",
       " 'andrew',\n",
       " 'andrews',\n",
       " 'andros',\n",
       " 'andrée',\n",
       " 'anear',\n",
       " 'anecdote',\n",
       " 'anecdotes',\n",
       " 'anemonae',\n",
       " 'anemone',\n",
       " 'anerh',\n",
       " 'aneurism',\n",
       " 'anew',\n",
       " 'angel',\n",
       " 'angelic',\n",
       " 'angelica',\n",
       " 'angell',\n",
       " 'angels',\n",
       " 'anger',\n",
       " 'angle',\n",
       " 'angled',\n",
       " 'angler',\n",
       " 'angles',\n",
       " 'anglican',\n",
       " 'anglo',\n",
       " 'angrily',\n",
       " 'angry',\n",
       " 'anguish',\n",
       " 'angular',\n",
       " 'animadversions',\n",
       " 'animal',\n",
       " 'animalistic',\n",
       " 'animals',\n",
       " 'animate',\n",
       " 'animated',\n",
       " 'animating',\n",
       " 'animation',\n",
       " 'animator',\n",
       " 'animosity',\n",
       " 'ankle',\n",
       " 'ankles',\n",
       " 'ann',\n",
       " 'annals',\n",
       " 'annihilate',\n",
       " 'annihilated',\n",
       " 'annihilating',\n",
       " 'annihilation',\n",
       " 'anniversary',\n",
       " 'announce',\n",
       " 'announced',\n",
       " 'announcement',\n",
       " 'announcing',\n",
       " 'annoy',\n",
       " 'annoyance',\n",
       " 'annoyed',\n",
       " 'annoying',\n",
       " 'annual',\n",
       " 'annul',\n",
       " 'anomalies',\n",
       " 'anomalous',\n",
       " 'anomalousness',\n",
       " 'anomaly',\n",
       " 'anon',\n",
       " 'anonymous',\n",
       " 'another',\n",
       " 'answer',\n",
       " 'answered',\n",
       " 'answering',\n",
       " 'answers',\n",
       " 'ant',\n",
       " 'antagonise',\n",
       " 'antagonist',\n",
       " 'antagonistical',\n",
       " 'antares',\n",
       " 'ante',\n",
       " 'antediluvian',\n",
       " 'antennæ',\n",
       " 'anthill',\n",
       " 'anthony',\n",
       " 'anthropoid',\n",
       " 'anthropological',\n",
       " 'anthropologist',\n",
       " 'anthropology',\n",
       " 'anthropomorphic',\n",
       " 'anti',\n",
       " 'anticipate',\n",
       " 'anticipated',\n",
       " 'anticipation',\n",
       " 'anticipations',\n",
       " 'antics',\n",
       " 'antidote',\n",
       " 'antient',\n",
       " 'antigone',\n",
       " 'antin',\n",
       " 'antioch',\n",
       " 'antiochia',\n",
       " 'antiochus',\n",
       " 'antiparos',\n",
       " 'antipater',\n",
       " 'antipathies',\n",
       " 'antipathy',\n",
       " 'antiphonal',\n",
       " 'antipodes',\n",
       " 'antiquarian',\n",
       " 'antiquarians',\n",
       " 'antiquated',\n",
       " 'antique',\n",
       " 'antiquities',\n",
       " 'antiquity',\n",
       " 'antiquum',\n",
       " 'antlered',\n",
       " 'antoines',\n",
       " 'antony',\n",
       " 'ants',\n",
       " 'anxieties',\n",
       " 'anxiety',\n",
       " 'anxious',\n",
       " 'anxiously',\n",
       " 'any',\n",
       " 'anybody',\n",
       " 'anyhaow',\n",
       " 'anyhow',\n",
       " 'anyone',\n",
       " 'anything',\n",
       " 'anyw',\n",
       " 'anyway',\n",
       " 'anywhere',\n",
       " 'anzique',\n",
       " 'anziques',\n",
       " 'aorta',\n",
       " 'aout',\n",
       " 'aoutdoors',\n",
       " 'aoutside',\n",
       " 'apace',\n",
       " 'apart',\n",
       " 'apartment',\n",
       " 'apartments',\n",
       " 'apathy',\n",
       " 'ape',\n",
       " 'aperture',\n",
       " 'apertures',\n",
       " 'apes',\n",
       " 'apex',\n",
       " 'aphelion',\n",
       " 'aphrodite',\n",
       " 'apicius',\n",
       " 'apocryphal',\n",
       " 'apollo',\n",
       " 'apologie',\n",
       " 'apologies',\n",
       " 'apologize',\n",
       " 'apology',\n",
       " 'apophysis',\n",
       " 'apoplexy',\n",
       " 'apothecary',\n",
       " 'apothegm',\n",
       " 'apotheosis',\n",
       " 'apout',\n",
       " 'appalled',\n",
       " 'appalling',\n",
       " 'appallingly',\n",
       " 'appals',\n",
       " 'apparatus',\n",
       " 'apparel',\n",
       " 'apparelled',\n",
       " 'apparent',\n",
       " 'apparently',\n",
       " 'apparition',\n",
       " 'appeal',\n",
       " 'appealed',\n",
       " 'appealing',\n",
       " 'appeals',\n",
       " 'appear',\n",
       " 'appearance',\n",
       " 'appearances',\n",
       " 'appeared',\n",
       " 'appearing',\n",
       " 'appears',\n",
       " 'appeased',\n",
       " 'appeasing',\n",
       " 'appellation',\n",
       " 'appellations',\n",
       " 'appendages',\n",
       " 'appended',\n",
       " 'appendix',\n",
       " 'appertain',\n",
       " 'appertaining',\n",
       " 'appertains',\n",
       " 'appetite',\n",
       " 'appetites',\n",
       " 'applauded',\n",
       " 'applaudingly',\n",
       " 'applause',\n",
       " 'apple',\n",
       " 'apples',\n",
       " 'appleton',\n",
       " 'appletonians',\n",
       " 'appliances',\n",
       " 'applicable',\n",
       " 'application',\n",
       " 'applicationem',\n",
       " 'applied',\n",
       " 'applies',\n",
       " 'apply',\n",
       " 'applying',\n",
       " 'appoint',\n",
       " 'appointed',\n",
       " 'appointment',\n",
       " 'apportioning',\n",
       " 'appraisal',\n",
       " 'appreciable',\n",
       " 'appreciate',\n",
       " 'appreciated',\n",
       " 'appreciation',\n",
       " 'apprehend',\n",
       " 'apprehended',\n",
       " 'apprehending',\n",
       " 'apprehension',\n",
       " 'apprehensions',\n",
       " 'apprehensive',\n",
       " 'apprehensively',\n",
       " 'apprehensiveness',\n",
       " 'apprenticed',\n",
       " 'apprentices',\n",
       " 'apprised',\n",
       " 'approach',\n",
       " 'approached',\n",
       " 'approaches',\n",
       " 'approaching',\n",
       " 'approbation',\n",
       " 'approbatory',\n",
       " 'appropriate',\n",
       " 'appropriated',\n",
       " 'approval',\n",
       " 'approve',\n",
       " 'approved',\n",
       " 'approximately',\n",
       " 'april',\n",
       " 'apt',\n",
       " 'apuleius',\n",
       " 'aqueous',\n",
       " 'aquiline',\n",
       " 'arab',\n",
       " 'arabella',\n",
       " 'arabesque',\n",
       " 'arabesques',\n",
       " 'arabia',\n",
       " 'arabian',\n",
       " 'arabic',\n",
       " 'arago',\n",
       " 'aran',\n",
       " 'araoun',\n",
       " 'araound',\n",
       " 'arbiter',\n",
       " 'arbitrary',\n",
       " 'arc',\n",
       " 'arcaded',\n",
       " 'arcades',\n",
       " 'arcadia',\n",
       " 'arcadian',\n",
       " 'arcadians',\n",
       " ...]"
      ]
     },
     "execution_count": 13,
     "metadata": {},
     "output_type": "execute_result"
    }
   ],
   "source": [
    "# examine the fitted vocabulary\n",
    "vect.get_feature_names()"
   ]
  },
  {
   "cell_type": "code",
   "execution_count": 14,
   "metadata": {
    "collapsed": true
   },
   "outputs": [],
   "source": [
    "X_train_dtm = vect.transform(X_train)"
   ]
  },
  {
   "cell_type": "code",
   "execution_count": 15,
   "metadata": {
    "collapsed": true
   },
   "outputs": [],
   "source": [
    "X_test_dtm = vect.transform(X_test)"
   ]
  },
  {
   "cell_type": "code",
   "execution_count": 16,
   "metadata": {},
   "outputs": [
    {
     "data": {
      "text/plain": [
       "((14684, 22328), (4895, 22328))"
      ]
     },
     "execution_count": 16,
     "metadata": {},
     "output_type": "execute_result"
    }
   ],
   "source": [
    "X_train_dtm.shape, X_test_dtm.shape"
   ]
  },
  {
   "cell_type": "code",
   "execution_count": 19,
   "metadata": {
    "scrolled": true
   },
   "outputs": [],
   "source": [
    "# import and instantiate a Multinomial Naive Bayes model\n",
    "from sklearn.naive_bayes import MultinomialNB\n",
    "nb = MultinomialNB()"
   ]
  },
  {
   "cell_type": "code",
   "execution_count": 21,
   "metadata": {},
   "outputs": [
    {
     "name": "stdout",
     "output_type": "stream",
     "text": [
      "CPU times: user 42.1 ms, sys: 2.63 ms, total: 44.7 ms\n",
      "Wall time: 42.9 ms\n"
     ]
    },
    {
     "data": {
      "text/plain": [
       "MultinomialNB(alpha=1.0, class_prior=None, fit_prior=True)"
      ]
     },
     "execution_count": 21,
     "metadata": {},
     "output_type": "execute_result"
    }
   ],
   "source": [
    "# train the model using X_train_dtm (timing it with an IPython \"magic command\")\n",
    "%time nb.fit(X_train_dtm, y_train)"
   ]
  },
  {
   "cell_type": "code",
   "execution_count": 22,
   "metadata": {
    "collapsed": true
   },
   "outputs": [],
   "source": [
    "# predict with the test case\n",
    "y_pred_class = nb.predict(X_test_dtm)"
   ]
  },
  {
   "cell_type": "code",
   "execution_count": 23,
   "metadata": {},
   "outputs": [
    {
     "data": {
      "text/plain": [
       "0.83575076608784471"
      ]
     },
     "execution_count": 23,
     "metadata": {},
     "output_type": "execute_result"
    }
   ],
   "source": [
    "# metrics review\n",
    "from sklearn import metrics\n",
    "metrics.accuracy_score(y_test, y_pred_class)"
   ]
  },
  {
   "cell_type": "code",
   "execution_count": 24,
   "metadata": {},
   "outputs": [
    {
     "data": {
      "text/plain": [
       "EAP    1976\n",
       "MWS    1491\n",
       "HPL    1428\n",
       "Name: author, dtype: int64"
      ]
     },
     "execution_count": 24,
     "metadata": {},
     "output_type": "execute_result"
    }
   ],
   "source": [
    "# examine the class distribution of the testing set (using a Pandas Series method)\n",
    "y_test.value_counts()"
   ]
  },
  {
   "cell_type": "code",
   "execution_count": 31,
   "metadata": {},
   "outputs": [
    {
     "data": {
      "text/plain": [
       "EAP    0.403677\n",
       "Name: author, dtype: float64"
      ]
     },
     "execution_count": 31,
     "metadata": {},
     "output_type": "execute_result"
    }
   ],
   "source": [
    "# null accuracy: the classification accuracy where it predicts the most populated class\n",
    "nacc = y_test.value_counts().head(1)/len(y_test)\n",
    "nacc"
   ]
  },
  {
   "cell_type": "code",
   "execution_count": 32,
   "metadata": {},
   "outputs": [
    {
     "name": "stdout",
     "output_type": "stream",
     "text": [
      "[[1651  110  215]\n",
      " [ 183 1143  102]\n",
      " [ 139   55 1297]]\n"
     ]
    }
   ],
   "source": [
    "# confusion matrix\n",
    "confusion = metrics.confusion_matrix(y_test, y_pred_class)\n",
    "print(confusion)"
   ]
  },
  {
   "cell_type": "code",
   "execution_count": 33,
   "metadata": {},
   "outputs": [
    {
     "name": "stdout",
     "output_type": "stream",
     "text": [
      "             precision    recall  f1-score   support\n",
      "\n",
      "        EAP       0.84      0.84      0.84      1976\n",
      "        HPL       0.87      0.80      0.84      1428\n",
      "        MWS       0.80      0.87      0.84      1491\n",
      "\n",
      "avg / total       0.84      0.84      0.84      4895\n",
      "\n"
     ]
    }
   ],
   "source": [
    "## Print the classification report\n",
    "crpt = metrics.classification_report(y_test, y_pred_class)\n",
    "print(crpt)"
   ]
  },
  {
   "cell_type": "markdown",
   "metadata": {},
   "source": [
    "### TF-IDF Weighting for Term Importance\n",
    "The following are inspired by CS109 Naive Bayes Mini-Project."
   ]
  },
  {
   "cell_type": "code",
   "execution_count": 34,
   "metadata": {
    "collapsed": true
   },
   "outputs": [],
   "source": [
    "# instantiate estimator\n",
    "from sklearn.feature_extraction.text import TfidfVectorizer\n",
    "tfidfvectorizer = TfidfVectorizer()"
   ]
  },
  {
   "cell_type": "code",
   "execution_count": 41,
   "metadata": {},
   "outputs": [],
   "source": [
    "Xtfidf_train=tfidfvectorizer.fit_transform(X_train)"
   ]
  },
  {
   "cell_type": "code",
   "execution_count": 42,
   "metadata": {
    "collapsed": true
   },
   "outputs": [],
   "source": [
    "Xtfidf_test=tfidfvectorizer.transform(X_test)"
   ]
  },
  {
   "cell_type": "code",
   "execution_count": 43,
   "metadata": {},
   "outputs": [
    {
     "data": {
      "text/plain": [
       "((14684, 22328), (4895, 22328))"
      ]
     },
     "execution_count": 43,
     "metadata": {},
     "output_type": "execute_result"
    }
   ],
   "source": [
    "Xtfidf_train.shape, Xtfidf_test.shape"
   ]
  },
  {
   "cell_type": "code",
   "execution_count": 44,
   "metadata": {
    "collapsed": true
   },
   "outputs": [],
   "source": [
    "# import and instantiate a Multinomial Naive Bayes model\n",
    "from sklearn.naive_bayes import MultinomialNB\n",
    "nb = MultinomialNB()"
   ]
  },
  {
   "cell_type": "code",
   "execution_count": 45,
   "metadata": {},
   "outputs": [
    {
     "name": "stdout",
     "output_type": "stream",
     "text": [
      "CPU times: user 42 ms, sys: 3.01 ms, total: 45 ms\n",
      "Wall time: 43.4 ms\n"
     ]
    },
    {
     "data": {
      "text/plain": [
       "MultinomialNB(alpha=1.0, class_prior=None, fit_prior=True)"
      ]
     },
     "execution_count": 45,
     "metadata": {},
     "output_type": "execute_result"
    }
   ],
   "source": [
    "# train the model using X_train_dtm (timing it with an IPython \"magic command\")\n",
    "%time nb.fit(Xtfidf_train, y_train)"
   ]
  },
  {
   "cell_type": "code",
   "execution_count": 46,
   "metadata": {
    "collapsed": true
   },
   "outputs": [],
   "source": [
    "# predict with the test case\n",
    "y_pred_class = nb.predict(Xtfidf_test)"
   ]
  },
  {
   "cell_type": "code",
   "execution_count": 47,
   "metadata": {},
   "outputs": [
    {
     "data": {
      "text/plain": [
       "0.80163432073544438"
      ]
     },
     "execution_count": 47,
     "metadata": {},
     "output_type": "execute_result"
    }
   ],
   "source": [
    "metrics.accuracy_score(y_test, y_pred_class)"
   ]
  },
  {
   "cell_type": "code",
   "execution_count": 51,
   "metadata": {},
   "outputs": [
    {
     "data": {
      "text/plain": [
       "array([[1819,   28,  129],\n",
       "       [ 420,  913,   95],\n",
       "       [ 277,   22, 1192]])"
      ]
     },
     "execution_count": 51,
     "metadata": {},
     "output_type": "execute_result"
    }
   ],
   "source": [
    "confusion = metrics.confusion_matrix(y_test, y_pred_class)\n",
    "confusion"
   ]
  },
  {
   "cell_type": "code",
   "execution_count": 54,
   "metadata": {},
   "outputs": [
    {
     "name": "stdout",
     "output_type": "stream",
     "text": [
      "             precision    recall  f1-score   support\n",
      "\n",
      "        EAP       0.72      0.92      0.81      1976\n",
      "        HPL       0.95      0.64      0.76      1428\n",
      "        MWS       0.84      0.80      0.82      1491\n",
      "\n",
      "avg / total       0.82      0.80      0.80      4895\n",
      "\n"
     ]
    }
   ],
   "source": [
    "crpt = metrics.classification_report(y_test, y_pred_class)\n",
    "print(crpt)"
   ]
  },
  {
   "cell_type": "markdown",
   "metadata": {},
   "source": [
    "### Latent Dirichlet Allocation (LDA)"
   ]
  },
  {
   "cell_type": "code",
   "execution_count": 56,
   "metadata": {
    "collapsed": true
   },
   "outputs": [],
   "source": [
    "from sklearn.decomposition import NMF, LatentDirichletAllocation\n",
    "lda = LatentDirichletAllocation(n_topics=20, max_iter=10, learning_method='online', learning_offset=50.,random_state=0).fit(Xtfidf_train)"
   ]
  },
  {
   "cell_type": "code",
   "execution_count": 57,
   "metadata": {
    "collapsed": true
   },
   "outputs": [],
   "source": [
    "def display_topics(model, feature_names, no_top_words):\n",
    "    for topic_idx, topic in enumerate(model.components_):\n",
    "        print(\"Topic %d:\" % (topic_idx), \" \".join([feature_names[i] for i in topic.argsort()[:-no_top_words - 1:-1]]))"
   ]
  },
  {
   "cell_type": "code",
   "execution_count": 58,
   "metadata": {},
   "outputs": [
    {
     "name": "stdout",
     "output_type": "stream",
     "text": [
      "Topic 0: seamen shouldn weedy surrender timber cuttings conquering osborne growled caked\n",
      "Topic 1: crumpled abbey horrendum monstrum messages delightfully soiled gutters wordsworth unprincipled\n",
      "Topic 2: messrs religion piously silva ricci turkey comeagain voluble averse ninny\n",
      "Topic 3: inaccessible referring profundity vastness entities cryptograph dipped venus flows gaieties\n",
      "Topic 4: personage zadok tumult requires possessor sledge dismay defeat preceded await\n",
      "Topic 5: gather unquestionably oversight scant vase italians bawling delphinus management bust\n",
      "Topic 6: yxu independence drowsiness unfavourable constrained consultations sx jxhn dxn gx\n",
      "Topic 7: sonnets shakespeare shakspeare sham jovial ut magus pugnacious procuring occupant\n",
      "Topic 8: july obeyed judgment retreated sympathize rings merry filling crucifix limitless\n",
      "Topic 9: dismiss drunk bowers perfumes everlastingly britannica encyclopædia pundita needn queerer\n",
      "Topic 10: appearances infirmity kings acknowledge working overboard occurrences schools tastes satisfactory\n",
      "Topic 11: suspicions potent cathuria wondering ibid chimera nervously persist calculus mumbled\n",
      "Topic 12: gives organ superstitious whispers approaches populace dis fruitless destructive omelette\n",
      "Topic 13: literary esq pinnacles farce twist sustaining brides tulips parliamentary wilds\n",
      "Topic 14: gleamed denizens devoid shapeless pretend butchery churning similarly patrolled rumblings\n",
      "Topic 15: the of and to in was that my it he\n",
      "Topic 16: est et zenobia psyche suky snobbs signora pas obstinacy moneypenny\n",
      "Topic 17: rambling overheard pulsing stooped bequest accumulations jones legislative excellency davy\n",
      "Topic 18: wasn glittered abnormality exult silvery fork junction tittering projections receding\n",
      "Topic 19: washington scotland hired poetic insufferable card intend interchange ay punish\n"
     ]
    }
   ],
   "source": [
    "no_top_words = 10\n",
    "tf_feature_names = tfidfvectorizer.get_feature_names()\n",
    "display_topics(lda, tf_feature_names, no_top_words)"
   ]
  },
  {
   "cell_type": "code",
   "execution_count": 59,
   "metadata": {},
   "outputs": [
    {
     "name": "stdout",
     "output_type": "stream",
     "text": [
      "0.05\n"
     ]
    }
   ],
   "source": [
    "print(lda.doc_topic_prior_)"
   ]
  },
  {
   "cell_type": "code",
   "execution_count": 62,
   "metadata": {},
   "outputs": [
    {
     "data": {
      "text/plain": [
       "array([[ 0.05000003,  0.05000003,  0.05000003, ...,  0.05000003,\n",
       "         0.05000003,  0.05000003],\n",
       "       [ 0.05000003,  0.05000003,  0.05000003, ...,  0.05000003,\n",
       "         0.05000002,  0.05000003],\n",
       "       [ 0.05000003,  0.05000002,  0.05000003, ...,  0.05000003,\n",
       "         0.05000003,  0.05000003],\n",
       "       ..., \n",
       "       [ 0.05000003,  0.05000003,  0.05000003, ...,  0.05000003,\n",
       "         0.05000002,  0.05000002],\n",
       "       [ 0.05000004,  0.05000003,  0.05000003, ...,  0.05000002,\n",
       "         0.05000003,  0.05000003],\n",
       "       [ 0.05000003,  0.05000003,  0.05000003, ...,  0.05000003,\n",
       "         0.05000003,  0.05000003]])"
      ]
     },
     "execution_count": 62,
     "metadata": {},
     "output_type": "execute_result"
    }
   ],
   "source": [
    "lda.fit(Xtfidf_train)\n",
    "lda.components_"
   ]
  },
  {
   "cell_type": "code",
   "execution_count": 71,
   "metadata": {},
   "outputs": [],
   "source": [
    "data_train = lda.transform(Xtfidf_train)\n",
    "lda.components_ /= lda.components_.sum(axis=1)[:, np.newaxis]\n",
    "data_test = lda.transform(Xtfidf_test)"
   ]
  },
  {
   "cell_type": "code",
   "execution_count": 73,
   "metadata": {},
   "outputs": [
    {
     "name": "stdout",
     "output_type": "stream",
     "text": [
      "Accuracy on training data: 0.403432\n",
      "Accuracy on test data:     0.403677\n"
     ]
    }
   ],
   "source": [
    "clf = MultinomialNB().fit(data_train, y_train)\n",
    "\n",
    "#your turn. Print the accuracy on the test and training dataset\n",
    "training_accuracy = clf.score(data_train, y_train)\n",
    "test_accuracy = clf.score(data_test, y_test)\n",
    "\n",
    "print(\"Accuracy on training data: {:2f}\".format(training_accuracy))\n",
    "print(\"Accuracy on test data:     {:2f}\".format(test_accuracy))"
   ]
  }
 ],
 "metadata": {
  "kernelspec": {
   "display_name": "Python 3",
   "language": "python",
   "name": "python3"
  },
  "language_info": {
   "codemirror_mode": {
    "name": "ipython",
    "version": 3
   },
   "file_extension": ".py",
   "mimetype": "text/x-python",
   "name": "python",
   "nbconvert_exporter": "python",
   "pygments_lexer": "ipython3",
   "version": "3.6.1"
  }
 },
 "nbformat": 4,
 "nbformat_minor": 2
}
