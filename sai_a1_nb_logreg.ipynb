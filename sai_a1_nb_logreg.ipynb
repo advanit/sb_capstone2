{
 "cells": [
  {
   "cell_type": "markdown",
   "metadata": {},
   "source": [
    "# sai: spooky author identification\n",
    "## analysis 2: refine simple practices\n",
    "\n",
    "## strategy\n",
    "The dataset is the training set.  The training set has three attributes: ID, author, and text class.  This is a multi-class text classification algorithm; this will determine the probability of who wrote which text based on the word usage and several machine learning algorithms.  \n",
    "\n",
    "The strategy is to use the training set and perform two experiments.  Before performing the experiments, parameter tuning would be performed beforehand to save time and execution.  After that the two experiments are shown below.\n",
    "\n",
    "The first experiment would include:\n",
    "\n",
    "* Feature selection (split)\n",
    "* Feature extraction (vectorize)\n",
    "* Classification processing (fit/predict)\n",
    "* Metrics (evaluate)\n",
    "* Identification (identify)\n",
    "\n",
    "Then the second experiment would include:\n",
    "\n",
    "* Feature extraction (vectorize)\n",
    "* Feature selection (split)\n",
    "* Classification processing (fit/predict)\n",
    "* Metrics (evaluate)\n",
    "* Identification (identify)\n",
    "\n",
    "Here, the first two are switch.  Vectorize the entire set and then perform classical machine learning.  This will be a good example.  \n",
    "\n",
    "For now, the algorithmss are:\n",
    "* vectorizer: CountVectorizer()\n",
    "* classification: Naive Bayes (MultinomialNB()), Logistic Regression (LogisticsRegression())\n",
    "\n",
    "\n",
    "| ALGORITHM | STEP | VECTORIZER | CLASSIFIER |\n",
    "|---|---|---|---|\n",
    "|1| A | CountVectorizer | MultinomialNB |\n",
    "|2| B | CountVectorizer | MultinomialNB |\n",
    "|3| A | CountVectorizer | LogisticRegression |\n",
    "|4| B | CountVectorizer | LogisticRegression |\n",
    "\n",
    "\n",
    "## code\n",
    "### preliminaries\n",
    "This is the 'de facto' run, where it loads libraries and necessary modules to perform the analysis.  Afterwards, it will read a simple csv file into a dataframe called 'texts.'  "
   ]
  },
  {
   "cell_type": "code",
   "execution_count": 1,
   "metadata": {},
   "outputs": [
    {
     "name": "stderr",
     "output_type": "stream",
     "text": [
      "/anaconda/lib/python3.6/site-packages/sklearn/cross_validation.py:44: DeprecationWarning: This module was deprecated in version 0.18 in favor of the model_selection module into which all the refactored classes and functions are moved. Also note that the interface of the new CV iterators are different from that of this module. This module will be removed in 0.20.\n",
      "  \"This module will be removed in 0.20.\", DeprecationWarning)\n"
     ]
    }
   ],
   "source": [
    "import pandas as pd\n",
    "import numpy as np\n",
    "\n",
    "# plotting\n",
    "import matplotlib.pyplot as plt\n",
    "import seaborn as sns\n",
    "%matplotlib inline\n",
    "\n",
    "# sklearn\n",
    "from sklearn.cross_validation import train_test_split             # cross-validation\n",
    "from sklearn.feature_extraction.text import CountVectorizer       # vectorizer\n",
    "from sklearn.naive_bayes import MultinomialNB                     # classifier\n",
    "from sklearn.linear_model import LogisticRegression               # classifier\n",
    "from sklearn.model_selection import GridSearchCV                  # parameter tuning\n",
    "from sklearn.pipeline import Pipeline                             # pipeline\n",
    "from sklearn import metrics                                       # metrics\n",
    "\n",
    "\n",
    "# other modules\n",
    "from stop_words import get_stop_words\n",
    "from pprint import pprint\n",
    "\n",
    "\n",
    "# Read training texts: texts\n",
    "texts = pd.read_csv('train.csv')"
   ]
  },
  {
   "cell_type": "markdown",
   "metadata": {},
   "source": [
    "### exploratory data analysis\n",
    "This explores the dataset imported.  The first analysis is size by author, or how many observations per author.  Notice how EAP (Edgar Allen Poe) has the most while HPL (HP Lovecraft) had over 5,600.  But the spread was not substantial; the maximum difference between Poe's prose and Lovecraft's were about 2,265.  MWS (Mary W Shelley) was in the middle.  This also created an arbitrary attribute, length, which will not help with identification but does provide an idea of whose words will weigh the most and how influential the bulk will be."
   ]
  },
  {
   "cell_type": "code",
   "execution_count": 2,
   "metadata": {},
   "outputs": [
    {
     "data": {
      "text/plain": [
       "'How lovely is spring As we looked from Windsor Terrace on the sixteen fertile counties spread beneath, speckled by happy cottages and wealthier towns, all looked as in former years, heart cheering and fair.'"
      ]
     },
     "execution_count": 2,
     "metadata": {},
     "output_type": "execute_result"
    }
   ],
   "source": [
    "# Texts as snipnet\n",
    "texts.loc[3,'text']"
   ]
  },
  {
   "cell_type": "code",
   "execution_count": 3,
   "metadata": {},
   "outputs": [
    {
     "data": {
      "text/plain": [
       "EAP    7900\n",
       "MWS    6044\n",
       "HPL    5635\n",
       "Name: author, dtype: int64"
      ]
     },
     "execution_count": 3,
     "metadata": {},
     "output_type": "execute_result"
    }
   ],
   "source": [
    "# Texts per author\n",
    "texts.author.value_counts()"
   ]
  },
  {
   "cell_type": "code",
   "execution_count": 4,
   "metadata": {},
   "outputs": [
    {
     "data": {
      "text/html": [
       "<div>\n",
       "<style>\n",
       "    .dataframe thead tr:only-child th {\n",
       "        text-align: right;\n",
       "    }\n",
       "\n",
       "    .dataframe thead th {\n",
       "        text-align: left;\n",
       "    }\n",
       "\n",
       "    .dataframe tbody tr th {\n",
       "        vertical-align: top;\n",
       "    }\n",
       "</style>\n",
       "<table border=\"1\" class=\"dataframe\">\n",
       "  <thead>\n",
       "    <tr>\n",
       "      <th></th>\n",
       "      <th colspan=\"4\" halign=\"left\">id</th>\n",
       "      <th colspan=\"4\" halign=\"left\">text</th>\n",
       "    </tr>\n",
       "    <tr>\n",
       "      <th></th>\n",
       "      <th>count</th>\n",
       "      <th>unique</th>\n",
       "      <th>top</th>\n",
       "      <th>freq</th>\n",
       "      <th>count</th>\n",
       "      <th>unique</th>\n",
       "      <th>top</th>\n",
       "      <th>freq</th>\n",
       "    </tr>\n",
       "    <tr>\n",
       "      <th>author</th>\n",
       "      <th></th>\n",
       "      <th></th>\n",
       "      <th></th>\n",
       "      <th></th>\n",
       "      <th></th>\n",
       "      <th></th>\n",
       "      <th></th>\n",
       "      <th></th>\n",
       "    </tr>\n",
       "  </thead>\n",
       "  <tbody>\n",
       "    <tr>\n",
       "      <th>EAP</th>\n",
       "      <td>7900</td>\n",
       "      <td>7900</td>\n",
       "      <td>id21252</td>\n",
       "      <td>1</td>\n",
       "      <td>7900</td>\n",
       "      <td>7900</td>\n",
       "      <td>In that chamber was I born.</td>\n",
       "      <td>1</td>\n",
       "    </tr>\n",
       "    <tr>\n",
       "      <th>HPL</th>\n",
       "      <td>5635</td>\n",
       "      <td>5635</td>\n",
       "      <td>id04402</td>\n",
       "      <td>1</td>\n",
       "      <td>5635</td>\n",
       "      <td>5635</td>\n",
       "      <td>And as I ran along the shore, crushing sleepin...</td>\n",
       "      <td>1</td>\n",
       "    </tr>\n",
       "    <tr>\n",
       "      <th>MWS</th>\n",
       "      <td>6044</td>\n",
       "      <td>6044</td>\n",
       "      <td>id24868</td>\n",
       "      <td>1</td>\n",
       "      <td>6044</td>\n",
       "      <td>6044</td>\n",
       "      <td>\"You need not wonder that I freely discover Ad...</td>\n",
       "      <td>1</td>\n",
       "    </tr>\n",
       "  </tbody>\n",
       "</table>\n",
       "</div>"
      ],
      "text/plain": [
       "          id                       text         \\\n",
       "       count unique      top freq count unique   \n",
       "author                                           \n",
       "EAP     7900   7900  id21252    1  7900   7900   \n",
       "HPL     5635   5635  id04402    1  5635   5635   \n",
       "MWS     6044   6044  id24868    1  6044   6044   \n",
       "\n",
       "                                                                \n",
       "                                                      top freq  \n",
       "author                                                          \n",
       "EAP                           In that chamber was I born.    1  \n",
       "HPL     And as I ran along the shore, crushing sleepin...    1  \n",
       "MWS     \"You need not wonder that I freely discover Ad...    1  "
      ]
     },
     "execution_count": 4,
     "metadata": {},
     "output_type": "execute_result"
    }
   ],
   "source": [
    "# Texts size, test size\n",
    "texts.groupby('author').describe()"
   ]
  },
  {
   "cell_type": "code",
   "execution_count": 5,
   "metadata": {},
   "outputs": [
    {
     "data": {
      "text/html": [
       "<div>\n",
       "<style>\n",
       "    .dataframe thead tr:only-child th {\n",
       "        text-align: right;\n",
       "    }\n",
       "\n",
       "    .dataframe thead th {\n",
       "        text-align: left;\n",
       "    }\n",
       "\n",
       "    .dataframe tbody tr th {\n",
       "        vertical-align: top;\n",
       "    }\n",
       "</style>\n",
       "<table border=\"1\" class=\"dataframe\">\n",
       "  <thead>\n",
       "    <tr style=\"text-align: right;\">\n",
       "      <th></th>\n",
       "      <th>id</th>\n",
       "      <th>text</th>\n",
       "      <th>author</th>\n",
       "      <th>length</th>\n",
       "    </tr>\n",
       "  </thead>\n",
       "  <tbody>\n",
       "    <tr>\n",
       "      <th>0</th>\n",
       "      <td>id26305</td>\n",
       "      <td>This process, however, afforded me no means of...</td>\n",
       "      <td>EAP</td>\n",
       "      <td>231</td>\n",
       "    </tr>\n",
       "    <tr>\n",
       "      <th>1</th>\n",
       "      <td>id17569</td>\n",
       "      <td>It never once occurred to me that the fumbling...</td>\n",
       "      <td>HPL</td>\n",
       "      <td>71</td>\n",
       "    </tr>\n",
       "    <tr>\n",
       "      <th>2</th>\n",
       "      <td>id11008</td>\n",
       "      <td>In his left hand was a gold snuff box, from wh...</td>\n",
       "      <td>EAP</td>\n",
       "      <td>200</td>\n",
       "    </tr>\n",
       "    <tr>\n",
       "      <th>3</th>\n",
       "      <td>id27763</td>\n",
       "      <td>How lovely is spring As we looked from Windsor...</td>\n",
       "      <td>MWS</td>\n",
       "      <td>206</td>\n",
       "    </tr>\n",
       "    <tr>\n",
       "      <th>4</th>\n",
       "      <td>id12958</td>\n",
       "      <td>Finding nothing else, not even gold, the Super...</td>\n",
       "      <td>HPL</td>\n",
       "      <td>174</td>\n",
       "    </tr>\n",
       "  </tbody>\n",
       "</table>\n",
       "</div>"
      ],
      "text/plain": [
       "        id                                               text author  length\n",
       "0  id26305  This process, however, afforded me no means of...    EAP     231\n",
       "1  id17569  It never once occurred to me that the fumbling...    HPL      71\n",
       "2  id11008  In his left hand was a gold snuff box, from wh...    EAP     200\n",
       "3  id27763  How lovely is spring As we looked from Windsor...    MWS     206\n",
       "4  id12958  Finding nothing else, not even gold, the Super...    HPL     174"
      ]
     },
     "execution_count": 5,
     "metadata": {},
     "output_type": "execute_result"
    }
   ],
   "source": [
    "texts['length'] = texts['text'].apply(len)\n",
    "texts.head() "
   ]
  },
  {
   "cell_type": "code",
   "execution_count": 6,
   "metadata": {},
   "outputs": [
    {
     "data": {
      "text/plain": [
       "count    19579\n",
       "mean       149\n",
       "std        107\n",
       "min         21\n",
       "25%         81\n",
       "50%        128\n",
       "75%        191\n",
       "max       4663\n",
       "Name: length, dtype: int64"
      ]
     },
     "execution_count": 6,
     "metadata": {},
     "output_type": "execute_result"
    }
   ],
   "source": [
    "texts.length.describe().apply(round)"
   ]
  },
  {
   "cell_type": "code",
   "execution_count": 7,
   "metadata": {},
   "outputs": [
    {
     "data": {
      "text/html": [
       "<div>\n",
       "<style>\n",
       "    .dataframe thead tr:only-child th {\n",
       "        text-align: right;\n",
       "    }\n",
       "\n",
       "    .dataframe thead th {\n",
       "        text-align: left;\n",
       "    }\n",
       "\n",
       "    .dataframe tbody tr th {\n",
       "        vertical-align: top;\n",
       "    }\n",
       "</style>\n",
       "<table border=\"1\" class=\"dataframe\">\n",
       "  <thead>\n",
       "    <tr style=\"text-align: right;\">\n",
       "      <th>author</th>\n",
       "      <th>EAP</th>\n",
       "      <th>HPL</th>\n",
       "      <th>MWS</th>\n",
       "    </tr>\n",
       "  </thead>\n",
       "  <tbody>\n",
       "    <tr>\n",
       "      <th>count</th>\n",
       "      <td>7900.0</td>\n",
       "      <td>5635.0</td>\n",
       "      <td>6044.0</td>\n",
       "    </tr>\n",
       "    <tr>\n",
       "      <th>mean</th>\n",
       "      <td>142.0</td>\n",
       "      <td>156.0</td>\n",
       "      <td>152.0</td>\n",
       "    </tr>\n",
       "    <tr>\n",
       "      <th>std</th>\n",
       "      <td>106.0</td>\n",
       "      <td>82.0</td>\n",
       "      <td>126.0</td>\n",
       "    </tr>\n",
       "    <tr>\n",
       "      <th>min</th>\n",
       "      <td>21.0</td>\n",
       "      <td>21.0</td>\n",
       "      <td>21.0</td>\n",
       "    </tr>\n",
       "    <tr>\n",
       "      <th>25%</th>\n",
       "      <td>68.0</td>\n",
       "      <td>98.0</td>\n",
       "      <td>84.0</td>\n",
       "    </tr>\n",
       "    <tr>\n",
       "      <th>50%</th>\n",
       "      <td>115.0</td>\n",
       "      <td>142.0</td>\n",
       "      <td>130.0</td>\n",
       "    </tr>\n",
       "    <tr>\n",
       "      <th>75%</th>\n",
       "      <td>186.0</td>\n",
       "      <td>196.0</td>\n",
       "      <td>192.0</td>\n",
       "    </tr>\n",
       "    <tr>\n",
       "      <th>max</th>\n",
       "      <td>1533.0</td>\n",
       "      <td>900.0</td>\n",
       "      <td>4663.0</td>\n",
       "    </tr>\n",
       "  </tbody>\n",
       "</table>\n",
       "</div>"
      ],
      "text/plain": [
       "author     EAP     HPL     MWS\n",
       "count   7900.0  5635.0  6044.0\n",
       "mean     142.0   156.0   152.0\n",
       "std      106.0    82.0   126.0\n",
       "min       21.0    21.0    21.0\n",
       "25%       68.0    98.0    84.0\n",
       "50%      115.0   142.0   130.0\n",
       "75%      186.0   196.0   192.0\n",
       "max     1533.0   900.0  4663.0"
      ]
     },
     "execution_count": 7,
     "metadata": {},
     "output_type": "execute_result"
    }
   ],
   "source": [
    "texts.groupby('author').length.describe().transpose().apply(round)"
   ]
  },
  {
   "cell_type": "markdown",
   "metadata": {},
   "source": [
    "These length statistics may say little but still imply a lot.  All three will have text with no less than 21 words.  Also, 75% of the texts will contain about 190 words.  Between 75% and 100%, outliers will appear.  For instance, one of Mary Shelley's prose contains 4,663 words alone.  The histograms of the prose count by words is shown below, both as a total and by author.  "
   ]
  },
  {
   "cell_type": "code",
   "execution_count": 8,
   "metadata": {},
   "outputs": [
    {
     "data": {
      "text/plain": [
       "<matplotlib.text.Text at 0x10e83de10>"
      ]
     },
     "execution_count": 8,
     "metadata": {},
     "output_type": "execute_result"
    },
    {
     "data": {
      "image/png": "[encoded data removed]",
      "text/plain": [
       "<matplotlib.figure.Figure at 0x10efede48>"
      ]
     },
     "metadata": {},
     "output_type": "display_data"
    }
   ],
   "source": [
    "texts['length'].plot(bins=50,kind = 'hist',range=[0,1000], figsize=(20,10))\n",
    "plt.title('Frequency vs Length', size=14)\n",
    "plt.xlabel('Length (Word Count)',size=14)\n",
    "plt.ylabel('Frequency (Document Count)',size=14)"
   ]
  },
  {
   "cell_type": "code",
   "execution_count": 9,
   "metadata": {},
   "outputs": [
    {
     "data": {
      "text/plain": [
       "<matplotlib.text.Text at 0x10b2a8ef0>"
      ]
     },
     "execution_count": 9,
     "metadata": {},
     "output_type": "execute_result"
    },
    {
     "data": {
      "image/png": "[encoded data removed]",
      "text/plain": [
       "<matplotlib.figure.Figure at 0x10efedeb8>"
      ]
     },
     "metadata": {},
     "output_type": "display_data"
    }
   ],
   "source": [
    "texts[texts.author=='EAP'].plot(bins=50, kind='hist', range=[0,1000], figsize=(10,5))\n",
    "plt.title('Frequency vs Length: Edgar Allen Poe', size=14)\n",
    "plt.xlabel('Length (Word Count)',size=14)\n",
    "plt.ylabel('Frequency (Document Count)',size=14)"
   ]
  },
  {
   "cell_type": "code",
   "execution_count": 10,
   "metadata": {},
   "outputs": [
    {
     "data": {
      "text/plain": [
       "<matplotlib.text.Text at 0x10b450be0>"
      ]
     },
     "execution_count": 10,
     "metadata": {},
     "output_type": "execute_result"
    },
    {
     "data": {
      "image/png": "[encoded data removed]",
      "text/plain": [
       "<matplotlib.figure.Figure at 0x10b38f978>"
      ]
     },
     "metadata": {},
     "output_type": "display_data"
    }
   ],
   "source": [
    "texts[texts.author=='HPL'].plot(bins=50, kind='hist', range=[0,1000], figsize=(10,5))\n",
    "plt.title('Frequency vs Length: HP Lovecraft', size=14)\n",
    "plt.xlabel('Length (Word Count)',size=14)\n",
    "plt.ylabel('Frequency (Document Count)',size=14)"
   ]
  },
  {
   "cell_type": "code",
   "execution_count": 11,
   "metadata": {},
   "outputs": [
    {
     "data": {
      "text/plain": [
       "<matplotlib.text.Text at 0x112a0b438>"
      ]
     },
     "execution_count": 11,
     "metadata": {},
     "output_type": "execute_result"
    },
    {
     "data": {
      "image/png": "[encoded data removed]",
      "text/plain": [
       "<matplotlib.figure.Figure at 0x10e6f1668>"
      ]
     },
     "metadata": {},
     "output_type": "display_data"
    }
   ],
   "source": [
    "texts[texts.author=='MWS'].plot(bins=50, kind='hist', range=[0,1000], figsize=(10,5))\n",
    "plt.title('Frequency vs Length: Mary Shelley', size=14)\n",
    "plt.xlabel('Length (Word Count)',size=14)\n",
    "plt.ylabel('Frequency (Document Count)',size=14)"
   ]
  },
  {
   "cell_type": "markdown",
   "metadata": {},
   "source": [
    "## feature selection\n",
    "Because the categories are small, the target data X will be the text prose and the target response y is the author.  In other words, this will identify the author by looking at the words the author uses.  Advanced features such as sentiment and others will be based on hyperparamater tuning! "
   ]
  },
  {
   "cell_type": "code",
   "execution_count": 12,
   "metadata": {
    "collapsed": true
   },
   "outputs": [],
   "source": [
    "# choose X and y\n",
    "X = texts.text\n",
    "y = texts.author"
   ]
  },
  {
   "cell_type": "markdown",
   "metadata": {},
   "source": [
    "## experiment 1 split & vectorize\n",
    "The first method splits the training set between train and test data.  It will hold onto 70% for training.  First, it is important to tune the pipelines to see what would be the best combination for manipulating the data to get higher accuracy.  Two pipelines are performed: both with the same vectorizer but different classifiers.\n",
    "\n",
    "### split\n",
    "Here, the training and test data are split using a popular sklearn function, with stratification important to avoid biased data manipulation."
   ]
  },
  {
   "cell_type": "code",
   "execution_count": 13,
   "metadata": {
    "collapsed": true
   },
   "outputs": [],
   "source": [
    "# cross validation\n",
    "X_train, X_test, y_train, y_test = train_test_split(X,y,stratify=y)"
   ]
  },
  {
   "cell_type": "markdown",
   "metadata": {},
   "source": [
    "### tune"
   ]
  },
  {
   "cell_type": "code",
   "execution_count": 19,
   "metadata": {
    "collapsed": true
   },
   "outputs": [],
   "source": [
    "# import stop words to reduce noise\n",
    "stop_words = get_stop_words('en')"
   ]
  },
  {
   "cell_type": "markdown",
   "metadata": {},
   "source": [
    "---\n",
    "### vectorize\n",
    "This will use the CountVectorizer function with the hyperparameters provided.  "
   ]
  },
  {
   "cell_type": "code",
   "execution_count": 20,
   "metadata": {
    "collapsed": true
   },
   "outputs": [],
   "source": [
    "vect_A1 = CountVectorizer(binary=True, ngram_range=(1,2), stop_words=stop_words, max_df=0.5)\n",
    "nb_A1 = MultinomialNB(alpha=0.1)"
   ]
  },
  {
   "cell_type": "markdown",
   "metadata": {},
   "source": [
    "### fit and predict\n",
    "Using the pipeline, fit with the training data and then test with the performing data."
   ]
  },
  {
   "cell_type": "code",
   "execution_count": 21,
   "metadata": {
    "collapsed": true
   },
   "outputs": [],
   "source": [
    "# fit & transform with vectorizer\n",
    "X_train_dtm = vect_A1.fit_transform(X_train)\n",
    "\n",
    "# fit with classifer\n",
    "nb_A1.fit(X_train_dtm, y_train)\n",
    "\n",
    "# predict with classifier\n",
    "y_pred_train = nb_A1.predict(X_train_dtm)\n",
    "\n",
    "# transform with vectorizer, then predict with classifier\n",
    "X_test_dtm = vect_A1.transform(X_test)\n",
    "y_pred_test = nb_A1.predict(X_test_dtm)"
   ]
  },
  {
   "cell_type": "markdown",
   "metadata": {},
   "source": [
    "### evaluation\n",
    "Here, this will evaluate with three metrics: accuracy score, confusion matrix, and classification report."
   ]
  },
  {
   "cell_type": "code",
   "execution_count": 22,
   "metadata": {},
   "outputs": [
    {
     "name": "stdout",
     "output_type": "stream",
     "text": [
      "0.997344047943\n"
     ]
    }
   ],
   "source": [
    "print(metrics.accuracy_score(y_pred_train, y_train))"
   ]
  },
  {
   "cell_type": "code",
   "execution_count": 23,
   "metadata": {},
   "outputs": [
    {
     "name": "stdout",
     "output_type": "stream",
     "text": [
      "0.849029622063\n"
     ]
    }
   ],
   "source": [
    "print(metrics.accuracy_score(y_pred_test, y_test))"
   ]
  },
  {
   "cell_type": "code",
   "execution_count": 24,
   "metadata": {},
   "outputs": [
    {
     "name": "stdout",
     "output_type": "stream",
     "text": [
      "[[5905    6    7]\n",
      " [   8 4219    5]\n",
      " [  12    1 4521]]\n"
     ]
    }
   ],
   "source": [
    "print(metrics.confusion_matrix(y_pred_train, y_train))"
   ]
  },
  {
   "cell_type": "code",
   "execution_count": 25,
   "metadata": {},
   "outputs": [
    {
     "name": "stdout",
     "output_type": "stream",
     "text": [
      "[[1669  136  142]\n",
      " [ 133 1188   70]\n",
      " [ 173   85 1299]]\n"
     ]
    }
   ],
   "source": [
    "print(metrics.confusion_matrix(y_pred_test, y_test))"
   ]
  },
  {
   "cell_type": "code",
   "execution_count": 26,
   "metadata": {},
   "outputs": [
    {
     "name": "stdout",
     "output_type": "stream",
     "text": [
      "             precision    recall  f1-score   support\n",
      "\n",
      "        EAP       1.00      1.00      1.00      5918\n",
      "        HPL       1.00      1.00      1.00      4232\n",
      "        MWS       1.00      1.00      1.00      4534\n",
      "\n",
      "avg / total       1.00      1.00      1.00     14684\n",
      "\n"
     ]
    }
   ],
   "source": [
    "print(metrics.classification_report(y_pred_train, y_train))"
   ]
  },
  {
   "cell_type": "code",
   "execution_count": 27,
   "metadata": {},
   "outputs": [
    {
     "name": "stdout",
     "output_type": "stream",
     "text": [
      "             precision    recall  f1-score   support\n",
      "\n",
      "        EAP       0.85      0.86      0.85      1947\n",
      "        HPL       0.84      0.85      0.85      1391\n",
      "        MWS       0.86      0.83      0.85      1557\n",
      "\n",
      "avg / total       0.85      0.85      0.85      4895\n",
      "\n"
     ]
    }
   ],
   "source": [
    "print(metrics.classification_report(y_pred_test,y_test))"
   ]
  },
  {
   "cell_type": "code",
   "execution_count": 28,
   "metadata": {},
   "outputs": [],
   "source": [
    "exp1_A_lst1 = nb_A1.predict_proba(X_test_dtm)\n",
    "exp1_A_lst2 = nb_A1.predict(X_test_dtm)"
   ]
  },
  {
   "cell_type": "markdown",
   "metadata": {},
   "source": [
    "### feature importance\n",
    "Here, this will extract the ten most important features per class with a probability score."
   ]
  },
  {
   "cell_type": "code",
   "execution_count": 29,
   "metadata": {},
   "outputs": [
    {
     "name": "stdout",
     "output_type": "stream",
     "text": [
      "183254 (3, 183254)\n"
     ]
    }
   ],
   "source": [
    "# store vocabulary of X_train\n",
    "X_train_tokens = vect_A1.get_feature_names()\n",
    "\n",
    "# rows represent classes\n",
    "print(len(X_train_tokens), nb_A1.feature_count_.shape)"
   ]
  },
  {
   "cell_type": "code",
   "execution_count": 30,
   "metadata": {},
   "outputs": [
    {
     "data": {
      "text/plain": [
       "array([[ 1.,  2.,  1., ...,  0.,  0.,  0.],\n",
       "       [ 0.,  0.,  0., ...,  1.,  1.,  1.],\n",
       "       [ 0.,  0.,  0., ...,  0.,  0.,  0.]])"
      ]
     },
     "execution_count": 30,
     "metadata": {},
     "output_type": "execute_result"
    }
   ],
   "source": [
    "# Naive Bayes counts the number of times each token appears in each class\n",
    "nb_A1.feature_count_"
   ]
  },
  {
   "cell_type": "code",
   "execution_count": 31,
   "metadata": {
    "collapsed": true
   },
   "outputs": [],
   "source": [
    "# number of times each token appears across all EAP messages\n",
    "EAP_token_count = nb_A1.feature_count_[0,:]\n",
    "\n",
    "# number of times each token appears across all HPL messages\n",
    "HPL_token_count = nb_A1.feature_count_[1,:]\n",
    "\n",
    "# number of times each token appears across all MWS messages\n",
    "MWS_token_count = nb_A1.feature_count_[2,:]"
   ]
  },
  {
   "cell_type": "code",
   "execution_count": 32,
   "metadata": {},
   "outputs": [
    {
     "data": {
      "text/html": [
       "<div>\n",
       "<style>\n",
       "    .dataframe thead tr:only-child th {\n",
       "        text-align: right;\n",
       "    }\n",
       "\n",
       "    .dataframe thead th {\n",
       "        text-align: left;\n",
       "    }\n",
       "\n",
       "    .dataframe tbody tr th {\n",
       "        vertical-align: top;\n",
       "    }\n",
       "</style>\n",
       "<table border=\"1\" class=\"dataframe\">\n",
       "  <thead>\n",
       "    <tr style=\"text-align: right;\">\n",
       "      <th></th>\n",
       "      <th>EAP</th>\n",
       "      <th>HPL</th>\n",
       "      <th>MWS</th>\n",
       "    </tr>\n",
       "    <tr>\n",
       "      <th>token</th>\n",
       "      <th></th>\n",
       "      <th></th>\n",
       "      <th></th>\n",
       "    </tr>\n",
       "  </thead>\n",
       "  <tbody>\n",
       "    <tr>\n",
       "      <th>heath unvisited</th>\n",
       "      <td>0.0</td>\n",
       "      <td>0.0</td>\n",
       "      <td>1.0</td>\n",
       "    </tr>\n",
       "    <tr>\n",
       "      <th>tin stovepipe</th>\n",
       "      <td>0.0</td>\n",
       "      <td>1.0</td>\n",
       "      <td>0.0</td>\n",
       "    </tr>\n",
       "    <tr>\n",
       "      <th>wed virtuous</th>\n",
       "      <td>0.0</td>\n",
       "      <td>1.0</td>\n",
       "      <td>0.0</td>\n",
       "    </tr>\n",
       "    <tr>\n",
       "      <th>knew wonderfully</th>\n",
       "      <td>1.0</td>\n",
       "      <td>0.0</td>\n",
       "      <td>0.0</td>\n",
       "    </tr>\n",
       "    <tr>\n",
       "      <th>german understand</th>\n",
       "      <td>1.0</td>\n",
       "      <td>0.0</td>\n",
       "      <td>0.0</td>\n",
       "    </tr>\n",
       "  </tbody>\n",
       "</table>\n",
       "</div>"
      ],
      "text/plain": [
       "                   EAP  HPL  MWS\n",
       "token                           \n",
       "heath unvisited    0.0  0.0  1.0\n",
       "tin stovepipe      0.0  1.0  0.0\n",
       "wed virtuous       0.0  1.0  0.0\n",
       "knew wonderfully   1.0  0.0  0.0\n",
       "german understand  1.0  0.0  0.0"
      ]
     },
     "execution_count": 32,
     "metadata": {},
     "output_type": "execute_result"
    }
   ],
   "source": [
    "# DataFrame of tokens with their separate ham and spam counts\n",
    "tokens = pd.DataFrame({'token':X_train_tokens, 'EAP':EAP_token_count, 'HPL':HPL_token_count, 'MWS':MWS_token_count}).set_index('token')\n",
    "tokens.sample(5, random_state=6)"
   ]
  },
  {
   "cell_type": "code",
   "execution_count": 33,
   "metadata": {},
   "outputs": [
    {
     "data": {
      "text/plain": [
       "array([ 5925.,  4226.,  4533.])"
      ]
     },
     "execution_count": 33,
     "metadata": {},
     "output_type": "execute_result"
    }
   ],
   "source": [
    "# Naive Bayes counts the number of observations \n",
    "nb_A1.class_count_"
   ]
  },
  {
   "cell_type": "code",
   "execution_count": 34,
   "metadata": {},
   "outputs": [
    {
     "data": {
      "text/html": [
       "<div>\n",
       "<style>\n",
       "    .dataframe thead tr:only-child th {\n",
       "        text-align: right;\n",
       "    }\n",
       "\n",
       "    .dataframe thead th {\n",
       "        text-align: left;\n",
       "    }\n",
       "\n",
       "    .dataframe tbody tr th {\n",
       "        vertical-align: top;\n",
       "    }\n",
       "</style>\n",
       "<table border=\"1\" class=\"dataframe\">\n",
       "  <thead>\n",
       "    <tr style=\"text-align: right;\">\n",
       "      <th></th>\n",
       "      <th>EAP</th>\n",
       "      <th>HPL</th>\n",
       "      <th>MWS</th>\n",
       "    </tr>\n",
       "    <tr>\n",
       "      <th>token</th>\n",
       "      <th></th>\n",
       "      <th></th>\n",
       "      <th></th>\n",
       "    </tr>\n",
       "  </thead>\n",
       "  <tbody>\n",
       "    <tr>\n",
       "      <th>heath unvisited</th>\n",
       "      <td>1.0</td>\n",
       "      <td>1.0</td>\n",
       "      <td>2.0</td>\n",
       "    </tr>\n",
       "    <tr>\n",
       "      <th>tin stovepipe</th>\n",
       "      <td>1.0</td>\n",
       "      <td>2.0</td>\n",
       "      <td>1.0</td>\n",
       "    </tr>\n",
       "    <tr>\n",
       "      <th>wed virtuous</th>\n",
       "      <td>1.0</td>\n",
       "      <td>2.0</td>\n",
       "      <td>1.0</td>\n",
       "    </tr>\n",
       "    <tr>\n",
       "      <th>knew wonderfully</th>\n",
       "      <td>2.0</td>\n",
       "      <td>1.0</td>\n",
       "      <td>1.0</td>\n",
       "    </tr>\n",
       "    <tr>\n",
       "      <th>german understand</th>\n",
       "      <td>2.0</td>\n",
       "      <td>1.0</td>\n",
       "      <td>1.0</td>\n",
       "    </tr>\n",
       "  </tbody>\n",
       "</table>\n",
       "</div>"
      ],
      "text/plain": [
       "                   EAP  HPL  MWS\n",
       "token                           \n",
       "heath unvisited    1.0  1.0  2.0\n",
       "tin stovepipe      1.0  2.0  1.0\n",
       "wed virtuous       1.0  2.0  1.0\n",
       "knew wonderfully   2.0  1.0  1.0\n",
       "german understand  2.0  1.0  1.0"
      ]
     },
     "execution_count": 34,
     "metadata": {},
     "output_type": "execute_result"
    }
   ],
   "source": [
    "# avoid dividing by 0 (class imbalance)\n",
    "tokens['EAP'] = tokens.EAP + 1\n",
    "tokens['HPL'] = tokens.HPL + 1\n",
    "tokens['MWS'] = tokens.MWS + 1\n",
    "tokens.sample(5, random_state=6)"
   ]
  },
  {
   "cell_type": "code",
   "execution_count": 35,
   "metadata": {},
   "outputs": [
    {
     "data": {
      "text/html": [
       "<div>\n",
       "<style>\n",
       "    .dataframe thead tr:only-child th {\n",
       "        text-align: right;\n",
       "    }\n",
       "\n",
       "    .dataframe thead th {\n",
       "        text-align: left;\n",
       "    }\n",
       "\n",
       "    .dataframe tbody tr th {\n",
       "        vertical-align: top;\n",
       "    }\n",
       "</style>\n",
       "<table border=\"1\" class=\"dataframe\">\n",
       "  <thead>\n",
       "    <tr style=\"text-align: right;\">\n",
       "      <th></th>\n",
       "      <th>EAP</th>\n",
       "      <th>HPL</th>\n",
       "      <th>MWS</th>\n",
       "    </tr>\n",
       "    <tr>\n",
       "      <th>token</th>\n",
       "      <th></th>\n",
       "      <th></th>\n",
       "      <th></th>\n",
       "    </tr>\n",
       "  </thead>\n",
       "  <tbody>\n",
       "    <tr>\n",
       "      <th>heath unvisited</th>\n",
       "      <td>0.000169</td>\n",
       "      <td>0.000237</td>\n",
       "      <td>0.000441</td>\n",
       "    </tr>\n",
       "    <tr>\n",
       "      <th>tin stovepipe</th>\n",
       "      <td>0.000169</td>\n",
       "      <td>0.000473</td>\n",
       "      <td>0.000221</td>\n",
       "    </tr>\n",
       "    <tr>\n",
       "      <th>wed virtuous</th>\n",
       "      <td>0.000169</td>\n",
       "      <td>0.000473</td>\n",
       "      <td>0.000221</td>\n",
       "    </tr>\n",
       "    <tr>\n",
       "      <th>knew wonderfully</th>\n",
       "      <td>0.000338</td>\n",
       "      <td>0.000237</td>\n",
       "      <td>0.000221</td>\n",
       "    </tr>\n",
       "    <tr>\n",
       "      <th>german understand</th>\n",
       "      <td>0.000338</td>\n",
       "      <td>0.000237</td>\n",
       "      <td>0.000221</td>\n",
       "    </tr>\n",
       "  </tbody>\n",
       "</table>\n",
       "</div>"
      ],
      "text/plain": [
       "                        EAP       HPL       MWS\n",
       "token                                          \n",
       "heath unvisited    0.000169  0.000237  0.000441\n",
       "tin stovepipe      0.000169  0.000473  0.000221\n",
       "wed virtuous       0.000169  0.000473  0.000221\n",
       "knew wonderfully   0.000338  0.000237  0.000221\n",
       "german understand  0.000338  0.000237  0.000221"
      ]
     },
     "execution_count": 35,
     "metadata": {},
     "output_type": "execute_result"
    }
   ],
   "source": [
    "# convert into frequencies \n",
    "tokens['EAP'] = tokens.EAP / nb_A1.class_count_[0]\n",
    "tokens['HPL'] = tokens.HPL / nb_A1.class_count_[1]\n",
    "tokens['MWS'] = tokens.MWS / nb_A1.class_count_[2]\n",
    "tokens.sample(5, random_state=6)"
   ]
  },
  {
   "cell_type": "code",
   "execution_count": 36,
   "metadata": {},
   "outputs": [
    {
     "name": "stdout",
     "output_type": "stream",
     "text": [
      "token\n",
      "upon    0.116962\n",
      "one     0.071730\n",
      "now     0.060422\n",
      "said    0.044895\n",
      "will    0.044726\n",
      "made    0.033418\n",
      "time    0.033418\n",
      "well    0.032911\n",
      "even    0.032574\n",
      "say     0.032574\n",
      "Name: EAP, dtype: float64 \n",
      "\n",
      "token\n",
      "one       0.078325\n",
      "old       0.068386\n",
      "now       0.052532\n",
      "man       0.049219\n",
      "seemed    0.049219\n",
      "like      0.047089\n",
      "night     0.043540\n",
      "time      0.041884\n",
      "though    0.041410\n",
      "saw       0.039754\n",
      "Name: HPL, dtype: float64 \n",
      "\n",
      "token\n",
      "one        0.069270\n",
      "now        0.058460\n",
      "will       0.055813\n",
      "life       0.050739\n",
      "yet        0.049195\n",
      "raymond    0.044341\n",
      "love       0.042797\n",
      "heart      0.041915\n",
      "might      0.041253\n",
      "even       0.040150\n",
      "Name: MWS, dtype: float64 \n",
      "\n"
     ]
    }
   ],
   "source": [
    "# examine DataFrame by author\n",
    "for name in tokens.columns:\n",
    "    print(tokens[name].nlargest(10),'\\n')"
   ]
  },
  {
   "cell_type": "markdown",
   "metadata": {},
   "source": [
    "---\n",
    "### vectorize w/ LogisticRegression()\n",
    "This uses LogisticRegression() with the hyperparameter tuning mentioned above."
   ]
  },
  {
   "cell_type": "code",
   "execution_count": 37,
   "metadata": {
    "collapsed": true
   },
   "outputs": [],
   "source": [
    "vect_A1 = CountVectorizer(binary=True, ngram_range=(1,1), stop_words=stop_words, max_df=0.75)\n",
    "logreg_A1 = LogisticRegression(C=1.0)"
   ]
  },
  {
   "cell_type": "markdown",
   "metadata": {},
   "source": [
    "### fit and predict w/ LogisticRegression()\n",
    "Fit the training set, apply it on the test set, and create a prediction model."
   ]
  },
  {
   "cell_type": "code",
   "execution_count": 38,
   "metadata": {},
   "outputs": [],
   "source": [
    "# fit & transform with vectorizer\n",
    "X_train_dtm = vect_A1.fit_transform(X_train)\n",
    "\n",
    "# fit with classifer\n",
    "logreg_A1.fit(X_train_dtm, y_train)\n",
    "\n",
    "# predict with classifier\n",
    "y_pred_train = logreg_A1.predict(X_train_dtm)\n",
    "\n",
    "# transform with vectorizer, then predict with classifier\n",
    "X_test_dtm = vect_A1.transform(X_test)\n",
    "y_pred_test = logreg_A1.predict(X_test_dtm)"
   ]
  },
  {
   "cell_type": "markdown",
   "metadata": {},
   "source": [
    "### evaluation w/ LogisticRegression()\n",
    "Here, this will evaluate with three metrics: accuracy score, confusion matrix, and classification report."
   ]
  },
  {
   "cell_type": "code",
   "execution_count": 39,
   "metadata": {},
   "outputs": [
    {
     "name": "stdout",
     "output_type": "stream",
     "text": [
      "0.968332879324\n"
     ]
    }
   ],
   "source": [
    "print(metrics.accuracy_score(y_pred_train, y_train))"
   ]
  },
  {
   "cell_type": "code",
   "execution_count": 40,
   "metadata": {},
   "outputs": [
    {
     "name": "stdout",
     "output_type": "stream",
     "text": [
      "0.81164453524\n"
     ]
    }
   ],
   "source": [
    "print(metrics.accuracy_score(y_pred_test, y_test))"
   ]
  },
  {
   "cell_type": "code",
   "execution_count": 41,
   "metadata": {},
   "outputs": [
    {
     "name": "stdout",
     "output_type": "stream",
     "text": [
      "[[5832  125  188]\n",
      " [  26 4070   28]\n",
      " [  67   31 4317]]\n"
     ]
    }
   ],
   "source": [
    "print(metrics.confusion_matrix(y_pred_train, y_train))"
   ]
  },
  {
   "cell_type": "code",
   "execution_count": 42,
   "metadata": {},
   "outputs": [
    {
     "name": "stdout",
     "output_type": "stream",
     "text": [
      "[[1716  246  256]\n",
      " [ 111 1078   76]\n",
      " [ 148   85 1179]]\n"
     ]
    }
   ],
   "source": [
    "print(metrics.confusion_matrix(y_pred_test, y_test))"
   ]
  },
  {
   "cell_type": "code",
   "execution_count": 43,
   "metadata": {},
   "outputs": [
    {
     "name": "stdout",
     "output_type": "stream",
     "text": [
      "             precision    recall  f1-score   support\n",
      "\n",
      "        EAP       0.98      0.95      0.97      6145\n",
      "        HPL       0.96      0.99      0.97      4124\n",
      "        MWS       0.95      0.98      0.96      4415\n",
      "\n",
      "avg / total       0.97      0.97      0.97     14684\n",
      "\n"
     ]
    }
   ],
   "source": [
    "print(metrics.classification_report(y_pred_train, y_train))"
   ]
  },
  {
   "cell_type": "code",
   "execution_count": 44,
   "metadata": {},
   "outputs": [
    {
     "name": "stdout",
     "output_type": "stream",
     "text": [
      "             precision    recall  f1-score   support\n",
      "\n",
      "        EAP       0.87      0.77      0.82      2218\n",
      "        HPL       0.77      0.85      0.81      1265\n",
      "        MWS       0.78      0.83      0.81      1412\n",
      "\n",
      "avg / total       0.82      0.81      0.81      4895\n",
      "\n"
     ]
    }
   ],
   "source": [
    "print(metrics.classification_report(y_pred_test,y_test))"
   ]
  },
  {
   "cell_type": "code",
   "execution_count": 45,
   "metadata": {},
   "outputs": [],
   "source": [
    "exp1_A_lst3 = logreg_A1.predict_proba(X_test_dtm)\n",
    "exp1_A_lst4 = logreg_A1.predict(X_test_dtm)"
   ]
  },
  {
   "cell_type": "markdown",
   "metadata": {},
   "source": [
    "### feature importance\n",
    "Here, this will extract the ten most important features per class with a probability score."
   ]
  },
  {
   "cell_type": "code",
   "execution_count": 61,
   "metadata": {},
   "outputs": [],
   "source": [
    "# Get feature names\n",
    "X_train_tokens = vect_A1.get_feature_names()\n",
    "\n",
    "# Calculate coefficient into odd, calculate odd into probability\n",
    "log_reg_prob=np.exp(logreg_A1.coef_)/(np.exp(logreg_A1.coef_)+1)"
   ]
  },
  {
   "cell_type": "code",
   "execution_count": 62,
   "metadata": {},
   "outputs": [],
   "source": [
    "# coefficients each token appears across all classes\n",
    "EAP_token_prob = log_reg_prob[0,:]\n",
    "HPL_token_prob = log_reg_prob[1,:]\n",
    "MWS_token_prob = log_reg_prob[2,:]\n",
    "\n",
    "# number of times each token appears\n",
    "EAP_token_coef = logreg_A1.coef_[0,:]\n",
    "HPL_token_coef = logreg_A1.coef_[1,:]\n",
    "MWS_token_coef = logreg_A1.coef_[2,:]"
   ]
  },
  {
   "cell_type": "code",
   "execution_count": 65,
   "metadata": {},
   "outputs": [],
   "source": [
    "# Coefficient DataFrame\n",
    "coefs = pd.DataFrame({'token':X_train_tokens, \n",
    "                       'EAP':EAP_token_coef, \n",
    "                       'HPL':HPL_token_coef, \n",
    "                       'MWS':MWS_token_coef}).set_index('token')"
   ]
  },
  {
   "cell_type": "code",
   "execution_count": 66,
   "metadata": {},
   "outputs": [
    {
     "name": "stdout",
     "output_type": "stream",
     "text": [
      "token\n",
      "dupin      2.307535\n",
      "minutes    1.970809\n",
      "evident    1.886097\n",
      "color      1.672222\n",
      "madame     1.578178\n",
      "ellison    1.570647\n",
      "lustre     1.568421\n",
      "pompey     1.557530\n",
      "drawer     1.533857\n",
      "balloon    1.523219\n",
      "Name: EAP, dtype: float64 \n",
      "\n",
      "token\n",
      "gilman       2.284341\n",
      "west         2.239494\n",
      "though       2.140185\n",
      "innsmouth    2.134974\n",
      "jermyn       2.120193\n",
      "despite      2.022103\n",
      "pickman      1.993617\n",
      "johansen     1.933906\n",
      "later        1.910848\n",
      "musides      1.896967\n",
      "Name: HPL, dtype: float64 \n",
      "\n",
      "token\n",
      "raymond      3.539530\n",
      "perdita      3.143836\n",
      "adrian       2.907555\n",
      "idris        2.426964\n",
      "sister       2.394821\n",
      "towards      2.386876\n",
      "elizabeth    2.192059\n",
      "windsor      2.189323\n",
      "miserable    2.131024\n",
      "plague       2.039970\n",
      "Name: MWS, dtype: float64 \n",
      "\n"
     ]
    }
   ],
   "source": [
    "# examine DataFrame by author\n",
    "for name in coefs.columns:\n",
    "    print(coefs[name].nlargest(10),'\\n')"
   ]
  },
  {
   "cell_type": "code",
   "execution_count": 70,
   "metadata": {
    "collapsed": true
   },
   "outputs": [],
   "source": [
    "# Probability DataFrame\n",
    "probs = pd.DataFrame({'token':X_train_tokens, \n",
    "                       'EAP':EAP_token_prob, \n",
    "                       'HPL':HPL_token_prob, \n",
    "                       'MWS':MWS_token_prob}).set_index('token')"
   ]
  },
  {
   "cell_type": "code",
   "execution_count": 71,
   "metadata": {},
   "outputs": [
    {
     "name": "stdout",
     "output_type": "stream",
     "text": [
      "token\n",
      "dupin      0.909499\n",
      "minutes    0.877698\n",
      "evident    0.868310\n",
      "color      0.841872\n",
      "madame     0.828946\n",
      "ellison    0.827876\n",
      "lustre     0.827558\n",
      "pompey     0.825999\n",
      "drawer     0.822570\n",
      "balloon    0.821012\n",
      "Name: EAP, dtype: float64 \n",
      "\n",
      "token\n",
      "gilman       0.907572\n",
      "west         0.903740\n",
      "though       0.894748\n",
      "innsmouth    0.894256\n",
      "jermyn       0.892850\n",
      "despite      0.883098\n",
      "pickman      0.880125\n",
      "johansen     0.873681\n",
      "later        0.871114\n",
      "musides      0.869548\n",
      "Name: HPL, dtype: float64 \n",
      "\n",
      "token\n",
      "raymond      0.971792\n",
      "perdita      0.958665\n",
      "adrian       0.948219\n",
      "idris        0.918860\n",
      "sister       0.916432\n",
      "towards      0.915821\n",
      "elizabeth    0.899534\n",
      "windsor      0.899287\n",
      "miserable    0.893882\n",
      "plague       0.884930\n",
      "Name: MWS, dtype: float64 \n",
      "\n"
     ]
    }
   ],
   "source": [
    "# examine DataFrame by author\n",
    "for name in probs.columns:\n",
    "    print(probs[name].nlargest(10),'\\n')"
   ]
  },
  {
   "cell_type": "markdown",
   "metadata": {},
   "source": [
    "---\n",
    "---\n",
    "\n",
    "## experiment 2 vectorize & split\n",
    "The second method takes the entire corpus and then splits the data.  Two pipelines are performed: both with the same vectorizer but different classifiers.\n",
    "\n",
    "### tune\n",
    "Like before, it will tune first.  Then it will apply it to fit and predict.  "
   ]
  },
  {
   "cell_type": "code",
   "execution_count": 72,
   "metadata": {
    "collapsed": true
   },
   "outputs": [],
   "source": [
    "# initiate the vectorizer\n",
    "pipeline_B1 = Pipeline([\n",
    "    ('vect', CountVectorizer()),\n",
    "    ('nb', MultinomialNB())\n",
    "])\n",
    "\n",
    "# parameters\n",
    "parameters_B1 = {\n",
    "    'vect__max_df': (0.5, 0.75, 1.0),\n",
    "    #'vect__max_features': (None, 5000, 10000, 50000),\n",
    "    'vect__ngram_range': ((1, 1), (1, 2), (2, 2)),  # unigrams or bigrams\n",
    "    'nb__alpha': [0.05, 0.1, 1.0, 2.0]\n",
    "}"
   ]
  },
  {
   "cell_type": "code",
   "execution_count": 73,
   "metadata": {
    "collapsed": true
   },
   "outputs": [],
   "source": [
    "# gridsearch\n",
    "# cv=5 academically proven as best fold, kept n_jobs (jobs running parallel)= 1, output time\n",
    "grid_search_B1 = GridSearchCV(pipeline_B1, \n",
    "                           parameters_B1, \n",
    "                           n_jobs=1, \n",
    "                           cv=5\n",
    "                )"
   ]
  },
  {
   "cell_type": "code",
   "execution_count": 74,
   "metadata": {},
   "outputs": [
    {
     "name": "stdout",
     "output_type": "stream",
     "text": [
      "Performing grid search...\n",
      "pipeline: ['vect', 'nb']\n",
      "parameters:\n",
      "{'nb__alpha': [0.05, 0.1, 1.0, 2.0],\n",
      " 'vect__max_df': (0.5, 0.75, 1.0),\n",
      " 'vect__ngram_range': ((...), (...), (...))}\n",
      "CPU times: user 7min 26s, sys: 12.1 s, total: 7min 38s\n",
      "Wall time: 7min 40s\n"
     ]
    },
    {
     "data": {
      "text/plain": [
       "GridSearchCV(cv=5, error_score='raise',\n",
       "       estimator=Pipeline(steps=[('vect', CountVectorizer(analyzer='word', binary=False, decode_error='strict',\n",
       "        dtype=<class 'numpy.int64'>, encoding='utf-8', input='content',\n",
       "        lowercase=True, max_df=1.0, max_features=None, min_df=1,\n",
       "        ngram_range=(1, 1), preprocessor=None, stop_words=None,\n",
       "        strip_accents=None, token_pattern='(?u)\\\\b\\\\w\\\\w+\\\\b',\n",
       "        tokenizer=None, vocabulary=None)), ('nb', MultinomialNB(alpha=1.0, class_prior=None, fit_prior=True))]),\n",
       "       fit_params={}, iid=True, n_jobs=1,\n",
       "       param_grid={'vect__max_df': (0.5, 0.75, 1.0), 'vect__ngram_range': ((1, 1), (1, 2), (2, 2)), 'nb__alpha': [0.05, 0.1, 1.0, 2.0]},\n",
       "       pre_dispatch='2*n_jobs', refit=True, return_train_score=True,\n",
       "       scoring=None, verbose=0)"
      ]
     },
     "execution_count": 74,
     "metadata": {},
     "output_type": "execute_result"
    }
   ],
   "source": [
    "# fit model to determine best parameters\n",
    "print(\"Performing grid search...\")\n",
    "print(\"pipeline:\", [name for name, _ in pipeline_B1.steps])\n",
    "print(\"parameters:\")\n",
    "pprint(parameters_B1, depth=2)\n",
    "\n",
    "%time grid_search_B1.fit(X, y)"
   ]
  },
  {
   "cell_type": "code",
   "execution_count": 75,
   "metadata": {},
   "outputs": [
    {
     "name": "stdout",
     "output_type": "stream",
     "text": [
      "Best score: 0.859\n",
      "Best parameters set:\n",
      "\tnb__alpha: 0.1\n",
      "\tvect__max_df: 0.5\n",
      "\tvect__ngram_range: (1, 2)\n"
     ]
    }
   ],
   "source": [
    "print(\"Best score: %0.3f\" % grid_search_B1.best_score_)\n",
    "print(\"Best parameters set:\")\n",
    "\n",
    "best_parameters = grid_search_B1.best_estimator_.get_params()\n",
    "\n",
    "for param_name in sorted(parameters_B1.keys()):\n",
    "    print(\"\\t%s: %r\" % (param_name, best_parameters[param_name]))"
   ]
  },
  {
   "cell_type": "code",
   "execution_count": 76,
   "metadata": {
    "collapsed": true
   },
   "outputs": [],
   "source": [
    "# initiate the vectorizer\n",
    "pipeline_B2 = Pipeline([\n",
    "    ('vect', CountVectorizer()),\n",
    "    ('logreg', LogisticRegression())\n",
    "])\n",
    "\n",
    "# parameters\n",
    "parameters_B2 = {\n",
    "    'vect__max_df': (0.5, 0.75, 1.0),\n",
    "    #'vect__max_features': (None, 5000, 10000, 50000),\n",
    "    'vect__ngram_range': ((1, 1), (1, 2), (2, 2)),  # unigrams or bigrams\n",
    "    'logreg__C': [0.05, 0.1, 1.0, 2.0], # positive float\n",
    "}"
   ]
  },
  {
   "cell_type": "code",
   "execution_count": 77,
   "metadata": {
    "collapsed": true
   },
   "outputs": [],
   "source": [
    "# cv=5 academically proven as best fold, kept n_jobs (jobs running parallel)= 1, output time\n",
    "grid_search_B2 = GridSearchCV(pipeline_B2, \n",
    "                           parameters_B2, \n",
    "                           n_jobs=1, \n",
    "                           cv=5\n",
    "                )"
   ]
  },
  {
   "cell_type": "code",
   "execution_count": 78,
   "metadata": {},
   "outputs": [
    {
     "name": "stdout",
     "output_type": "stream",
     "text": [
      "Performing grid search...\n",
      "pipeline: ['vect', 'logreg']\n",
      "parameters:\n",
      "{'logreg__C': [0.05, 0.1, 1.0, 2.0],\n",
      " 'vect__max_df': (0.5, 0.75, 1.0),\n",
      " 'vect__ngram_range': ((...), (...), (...))}\n",
      "CPU times: user 16min 9s, sys: 3min 23s, total: 19min 33s\n",
      "Wall time: 9min 2s\n"
     ]
    },
    {
     "data": {
      "text/plain": [
       "GridSearchCV(cv=5, error_score='raise',\n",
       "       estimator=Pipeline(steps=[('vect', CountVectorizer(analyzer='word', binary=False, decode_error='strict',\n",
       "        dtype=<class 'numpy.int64'>, encoding='utf-8', input='content',\n",
       "        lowercase=True, max_df=1.0, max_features=None, min_df=1,\n",
       "        ngram_range=(1, 1), preprocessor=None, stop_words=None,\n",
       "        strip...ty='l2', random_state=None, solver='liblinear', tol=0.0001,\n",
       "          verbose=0, warm_start=False))]),\n",
       "       fit_params={}, iid=True, n_jobs=1,\n",
       "       param_grid={'vect__max_df': (0.5, 0.75, 1.0), 'vect__ngram_range': ((1, 1), (1, 2), (2, 2)), 'logreg__C': [0.05, 0.1, 1.0, 2.0]},\n",
       "       pre_dispatch='2*n_jobs', refit=True, return_train_score=True,\n",
       "       scoring=None, verbose=0)"
      ]
     },
     "execution_count": 78,
     "metadata": {},
     "output_type": "execute_result"
    }
   ],
   "source": [
    "# fit model to determine best parameters\n",
    "print(\"Performing grid search...\")\n",
    "print(\"pipeline:\", [name for name, _ in pipeline_B2.steps])\n",
    "print(\"parameters:\")\n",
    "pprint(parameters_B2, depth=2)\n",
    "\n",
    "%time grid_search_B2.fit(X_train, y_train)"
   ]
  },
  {
   "cell_type": "code",
   "execution_count": 79,
   "metadata": {},
   "outputs": [
    {
     "name": "stdout",
     "output_type": "stream",
     "text": [
      "Best score: 0.809\n",
      "Best parameters set:\n",
      "\tlogreg__C: 1.0\n",
      "\tvect__max_df: 0.75\n",
      "\tvect__ngram_range: (1, 1)\n"
     ]
    }
   ],
   "source": [
    "print(\"Best score: %0.3f\" % grid_search_B2.best_score_)\n",
    "print(\"Best parameters set:\")\n",
    "\n",
    "best_parameters = grid_search_B2.best_estimator_.get_params()\n",
    "\n",
    "for param_name in sorted(parameters_B2.keys()):\n",
    "    print(\"\\t%s: %r\" % (param_name, best_parameters[param_name]))"
   ]
  },
  {
   "cell_type": "markdown",
   "metadata": {},
   "source": [
    "### vectorize"
   ]
  },
  {
   "cell_type": "code",
   "execution_count": 97,
   "metadata": {
    "collapsed": true
   },
   "outputs": [],
   "source": [
    "# import and instantiate CountVectorizer (with the default parameters)\n",
    "vect_B1 = CountVectorizer(max_df=0.5, stop_words=stop_words, ngram_range=(1,2))"
   ]
  },
  {
   "cell_type": "code",
   "execution_count": 98,
   "metadata": {
    "collapsed": true
   },
   "outputs": [],
   "source": [
    "# learn the 'vocabulary' of the training data (occurs in-place)\n",
    "X_dtm = vect_B1.fit_transform(X)"
   ]
  },
  {
   "cell_type": "markdown",
   "metadata": {},
   "source": [
    "### split"
   ]
  },
  {
   "cell_type": "code",
   "execution_count": 99,
   "metadata": {
    "collapsed": true
   },
   "outputs": [],
   "source": [
    "# cross validation\n",
    "X_train, X_test, y_train, y_test = train_test_split(X,y,stratify=y)"
   ]
  },
  {
   "cell_type": "markdown",
   "metadata": {},
   "source": [
    "### fit & predict"
   ]
  },
  {
   "cell_type": "code",
   "execution_count": 100,
   "metadata": {
    "collapsed": true
   },
   "outputs": [],
   "source": [
    "# transform \n",
    "X_train_dtm = vect_B1.transform(X_train)\n",
    "X_test_dtm = vect_B1.transform(X_test)"
   ]
  },
  {
   "cell_type": "code",
   "execution_count": 101,
   "metadata": {
    "collapsed": true
   },
   "outputs": [],
   "source": [
    "# set up Multinomial NB\n",
    "nb = MultinomialNB(alpha=0.5)"
   ]
  },
  {
   "cell_type": "code",
   "execution_count": 102,
   "metadata": {},
   "outputs": [
    {
     "data": {
      "text/plain": [
       "MultinomialNB(alpha=0.5, class_prior=None, fit_prior=True)"
      ]
     },
     "execution_count": 102,
     "metadata": {},
     "output_type": "execute_result"
    }
   ],
   "source": [
    "# fit\n",
    "nb.fit(X_dtm, y)"
   ]
  },
  {
   "cell_type": "code",
   "execution_count": 103,
   "metadata": {
    "collapsed": true
   },
   "outputs": [],
   "source": [
    "# predict with training class\n",
    "y_train_pred = nb.predict(X_train_dtm)"
   ]
  },
  {
   "cell_type": "code",
   "execution_count": 104,
   "metadata": {
    "collapsed": true
   },
   "outputs": [],
   "source": [
    "# predict with testing class\n",
    "y_test_pred = nb.predict(X_test_dtm)"
   ]
  },
  {
   "cell_type": "markdown",
   "metadata": {},
   "source": [
    "### evaluate"
   ]
  },
  {
   "cell_type": "code",
   "execution_count": 105,
   "metadata": {},
   "outputs": [
    {
     "data": {
      "text/plain": [
       "0.99318986652138386"
      ]
     },
     "execution_count": 105,
     "metadata": {},
     "output_type": "execute_result"
    }
   ],
   "source": [
    "# accuracy score, train\n",
    "metrics.accuracy_score(y_train, y_train_pred)"
   ]
  },
  {
   "cell_type": "code",
   "execution_count": 106,
   "metadata": {},
   "outputs": [
    {
     "data": {
      "text/plain": [
       "0.99448416751787538"
      ]
     },
     "execution_count": 106,
     "metadata": {},
     "output_type": "execute_result"
    }
   ],
   "source": [
    "# accuracy score, test\n",
    "metrics.accuracy_score(y_test, y_test_pred)"
   ]
  },
  {
   "cell_type": "code",
   "execution_count": 107,
   "metadata": {},
   "outputs": [
    {
     "data": {
      "text/plain": [
       "array([[5877,   20,   28],\n",
       "       [  19, 4201,    6],\n",
       "       [  23,    4, 4506]])"
      ]
     },
     "execution_count": 107,
     "metadata": {},
     "output_type": "execute_result"
    }
   ],
   "source": [
    "# confusion matrix, train\n",
    "metrics.confusion_matrix(y_train, y_train_pred)"
   ]
  },
  {
   "cell_type": "code",
   "execution_count": 108,
   "metadata": {},
   "outputs": [
    {
     "data": {
      "text/plain": [
       "array([[1961,    3,   11],\n",
       "       [   4, 1403,    2],\n",
       "       [   6,    1, 1504]])"
      ]
     },
     "execution_count": 108,
     "metadata": {},
     "output_type": "execute_result"
    }
   ],
   "source": [
    "# confusion matrix, test\n",
    "metrics.confusion_matrix(y_test, y_test_pred)"
   ]
  },
  {
   "cell_type": "code",
   "execution_count": 109,
   "metadata": {},
   "outputs": [
    {
     "name": "stdout",
     "output_type": "stream",
     "text": [
      "             precision    recall  f1-score   support\n",
      "\n",
      "        EAP       0.99      0.99      0.99      5925\n",
      "        HPL       0.99      0.99      0.99      4226\n",
      "        MWS       0.99      0.99      0.99      4533\n",
      "\n",
      "avg / total       0.99      0.99      0.99     14684\n",
      "\n"
     ]
    }
   ],
   "source": [
    "# classification report, train\n",
    "print(metrics.classification_report(y_train, y_train_pred))"
   ]
  },
  {
   "cell_type": "code",
   "execution_count": 110,
   "metadata": {},
   "outputs": [
    {
     "name": "stdout",
     "output_type": "stream",
     "text": [
      "             precision    recall  f1-score   support\n",
      "\n",
      "        EAP       0.99      0.99      0.99      1975\n",
      "        HPL       1.00      1.00      1.00      1409\n",
      "        MWS       0.99      1.00      0.99      1511\n",
      "\n",
      "avg / total       0.99      0.99      0.99      4895\n",
      "\n"
     ]
    }
   ],
   "source": [
    "# classification report, test\n",
    "print(metrics.classification_report(y_test, y_test_pred))"
   ]
  },
  {
   "cell_type": "code",
   "execution_count": 111,
   "metadata": {
    "collapsed": true
   },
   "outputs": [],
   "source": [
    "# calculate predicted probabilities for X_test_dtm\n",
    "# naive bayes = good classifier but bad something (not produced well-predicted probabilities)\n",
    "exp1_B_lst1 = nb.predict_proba(X_test_dtm)\n",
    "exp1_B_lst2 = nb.predict(X_test_dtm)"
   ]
  },
  {
   "cell_type": "markdown",
   "metadata": {},
   "source": [
    "### feature importance"
   ]
  },
  {
   "cell_type": "code",
   "execution_count": 112,
   "metadata": {},
   "outputs": [
    {
     "name": "stdout",
     "output_type": "stream",
     "text": [
      "234396 (3, 234396)\n"
     ]
    }
   ],
   "source": [
    "# store vocabulary of X_train\n",
    "X_train_tokens = vect_B1.get_feature_names()\n",
    "\n",
    "# rows represent classes\n",
    "print(len(X_train_tokens), nb.feature_count_.shape)"
   ]
  },
  {
   "cell_type": "code",
   "execution_count": 113,
   "metadata": {
    "collapsed": true
   },
   "outputs": [],
   "source": [
    "# number of times each token appears across all EAP messages\n",
    "EAP_token_count = nb.feature_count_[0,:]\n",
    "\n",
    "# number of times each token appears across all HPL messages\n",
    "HPL_token_count = nb.feature_count_[1,:]\n",
    "\n",
    "# number of times each token appears across all MWS messages\n",
    "MWS_token_count = nb.feature_count_[2,:]"
   ]
  },
  {
   "cell_type": "code",
   "execution_count": 114,
   "metadata": {
    "collapsed": true
   },
   "outputs": [],
   "source": [
    "# DataFrame of tokens with their separate ham and spam counts\n",
    "tokens = pd.DataFrame({'token':X_train_tokens, \n",
    "                       'EAP':EAP_token_count, \n",
    "                       'HPL':HPL_token_count, \n",
    "                       'MWS':MWS_token_count}).set_index('token')"
   ]
  },
  {
   "cell_type": "code",
   "execution_count": 115,
   "metadata": {
    "collapsed": true
   },
   "outputs": [],
   "source": [
    "# avoid dividing by 0 (class imbalance)\n",
    "tokens['EAP'] = tokens.EAP + 1\n",
    "tokens['HPL'] = tokens.HPL + 1\n",
    "tokens['MWS'] = tokens.MWS + 1"
   ]
  },
  {
   "cell_type": "code",
   "execution_count": 117,
   "metadata": {
    "collapsed": true
   },
   "outputs": [],
   "source": [
    "# convert into frequencies \n",
    "tokens['EAP'] = tokens.EAP / nb_A1.class_count_[0]\n",
    "tokens['HPL'] = tokens.HPL / nb_A1.class_count_[1]\n",
    "tokens['MWS'] = tokens.MWS / nb_A1.class_count_[2]"
   ]
  },
  {
   "cell_type": "code",
   "execution_count": 118,
   "metadata": {},
   "outputs": [
    {
     "name": "stdout",
     "output_type": "stream",
     "text": [
      "token\n",
      "upon      0.173165\n",
      "one       0.110717\n",
      "now       0.080000\n",
      "will      0.066667\n",
      "said      0.060253\n",
      "little    0.046582\n",
      "say       0.045232\n",
      "well      0.044895\n",
      "made      0.044557\n",
      "even      0.044219\n",
      "Name: EAP, dtype: float64 \n",
      "\n",
      "token\n",
      "one       0.116422\n",
      "old       0.092996\n",
      "now       0.070989\n",
      "man       0.066493\n",
      "like      0.064837\n",
      "seemed    0.064600\n",
      "night     0.060577\n",
      "things    0.056555\n",
      "time      0.056555\n",
      "saw       0.055845\n",
      "Name: HPL, dtype: float64 \n",
      "\n",
      "token\n",
      "one        0.105449\n",
      "will       0.100375\n",
      "now        0.088021\n",
      "life       0.073902\n",
      "yet        0.070373\n",
      "love       0.060666\n",
      "us         0.060225\n",
      "raymond    0.059784\n",
      "might      0.059563\n",
      "heart      0.058681\n",
      "Name: MWS, dtype: float64 \n",
      "\n"
     ]
    }
   ],
   "source": [
    "# examine DataFrame by author\n",
    "for name in tokens.columns:\n",
    "    print(tokens[name].nlargest(10),'\\n')"
   ]
  },
  {
   "cell_type": "markdown",
   "metadata": {},
   "source": [
    "### vectorize\n",
    "This will use the parameters that best maximize the accuracy. "
   ]
  },
  {
   "cell_type": "code",
   "execution_count": 119,
   "metadata": {
    "collapsed": true
   },
   "outputs": [],
   "source": [
    "# import and instantiate CountVectorizer (with the default parameters)\n",
    "vect_B2 = CountVectorizer(max_df=0.75, ngram_range=(1,1))"
   ]
  },
  {
   "cell_type": "code",
   "execution_count": 120,
   "metadata": {
    "collapsed": true
   },
   "outputs": [],
   "source": [
    "X_dtm = vect_B2.fit_transform(X)"
   ]
  },
  {
   "cell_type": "markdown",
   "metadata": {},
   "source": [
    "### split\n",
    "The split is the same; the training data will be used to evaluate the model."
   ]
  },
  {
   "cell_type": "code",
   "execution_count": 121,
   "metadata": {
    "collapsed": true
   },
   "outputs": [],
   "source": [
    "# cross validation\n",
    "X_train, X_test, y_train, y_test = train_test_split(X,y,stratify=y)"
   ]
  },
  {
   "cell_type": "markdown",
   "metadata": {},
   "source": [
    "### fit & predict w/ LogisticRegression()\n",
    "This will keep the vectorization and split the same.  However, it will use LogisticRegression() over MultinomialNB().  "
   ]
  },
  {
   "cell_type": "code",
   "execution_count": 122,
   "metadata": {
    "collapsed": true
   },
   "outputs": [],
   "source": [
    "# transform \n",
    "X_train_dtm = vect_B2.transform(X_train)\n",
    "X_test_dtm = vect_B2.transform(X_test)"
   ]
  },
  {
   "cell_type": "code",
   "execution_count": 123,
   "metadata": {
    "collapsed": true
   },
   "outputs": [],
   "source": [
    "logreg = LogisticRegression(C=1.0)"
   ]
  },
  {
   "cell_type": "code",
   "execution_count": 124,
   "metadata": {},
   "outputs": [
    {
     "data": {
      "text/plain": [
       "LogisticRegression(C=1.0, class_weight=None, dual=False, fit_intercept=True,\n",
       "          intercept_scaling=1, max_iter=100, multi_class='ovr', n_jobs=1,\n",
       "          penalty='l2', random_state=None, solver='liblinear', tol=0.0001,\n",
       "          verbose=0, warm_start=False)"
      ]
     },
     "execution_count": 124,
     "metadata": {},
     "output_type": "execute_result"
    }
   ],
   "source": [
    "logreg.fit(X_dtm, y)"
   ]
  },
  {
   "cell_type": "code",
   "execution_count": 125,
   "metadata": {
    "collapsed": true
   },
   "outputs": [],
   "source": [
    "# predict with training class\n",
    "y_train_pred = logreg.predict(X_train_dtm)"
   ]
  },
  {
   "cell_type": "code",
   "execution_count": 126,
   "metadata": {
    "collapsed": true
   },
   "outputs": [],
   "source": [
    "# predict with testing class\n",
    "y_test_pred = logreg.predict(X_test_dtm)"
   ]
  },
  {
   "cell_type": "markdown",
   "metadata": {},
   "source": [
    "### evaluate"
   ]
  },
  {
   "cell_type": "code",
   "execution_count": 127,
   "metadata": {},
   "outputs": [
    {
     "data": {
      "text/plain": [
       "0.96778806864614542"
      ]
     },
     "execution_count": 127,
     "metadata": {},
     "output_type": "execute_result"
    }
   ],
   "source": [
    "# accuracy score, train\n",
    "metrics.accuracy_score(y_train, y_train_pred)"
   ]
  },
  {
   "cell_type": "code",
   "execution_count": 128,
   "metadata": {},
   "outputs": [
    {
     "data": {
      "text/plain": [
       "0.96976506639427984"
      ]
     },
     "execution_count": 128,
     "metadata": {},
     "output_type": "execute_result"
    }
   ],
   "source": [
    "# accuracy score, test\n",
    "metrics.accuracy_score(y_test, y_test_pred)"
   ]
  },
  {
   "cell_type": "code",
   "execution_count": 129,
   "metadata": {},
   "outputs": [
    {
     "data": {
      "text/plain": [
       "array([[5805,   35,   85],\n",
       "       [ 119, 4078,   29],\n",
       "       [ 176,   29, 4328]])"
      ]
     },
     "execution_count": 129,
     "metadata": {},
     "output_type": "execute_result"
    }
   ],
   "source": [
    "# confusion matrix, train\n",
    "metrics.confusion_matrix(y_train, y_train_pred)"
   ]
  },
  {
   "cell_type": "code",
   "execution_count": 130,
   "metadata": {},
   "outputs": [
    {
     "data": {
      "text/plain": [
       "array([[1934,   17,   24],\n",
       "       [  32, 1369,    8],\n",
       "       [  52,   15, 1444]])"
      ]
     },
     "execution_count": 130,
     "metadata": {},
     "output_type": "execute_result"
    }
   ],
   "source": [
    "# print confusion matrix\n",
    "metrics.confusion_matrix(y_test, y_test_pred)"
   ]
  },
  {
   "cell_type": "code",
   "execution_count": 131,
   "metadata": {},
   "outputs": [
    {
     "name": "stdout",
     "output_type": "stream",
     "text": [
      "             precision    recall  f1-score   support\n",
      "\n",
      "        EAP       0.95      0.98      0.97      5925\n",
      "        HPL       0.98      0.96      0.97      4226\n",
      "        MWS       0.97      0.95      0.96      4533\n",
      "\n",
      "avg / total       0.97      0.97      0.97     14684\n",
      "\n"
     ]
    }
   ],
   "source": [
    "# classification report, train\n",
    "print(metrics.classification_report(y_train, y_train_pred))"
   ]
  },
  {
   "cell_type": "code",
   "execution_count": 132,
   "metadata": {},
   "outputs": [
    {
     "name": "stdout",
     "output_type": "stream",
     "text": [
      "             precision    recall  f1-score   support\n",
      "\n",
      "        EAP       0.96      0.98      0.97      1975\n",
      "        HPL       0.98      0.97      0.97      1409\n",
      "        MWS       0.98      0.96      0.97      1511\n",
      "\n",
      "avg / total       0.97      0.97      0.97      4895\n",
      "\n"
     ]
    }
   ],
   "source": [
    "# classification report, test\n",
    "print(metrics.classification_report(y_test, y_test_pred))"
   ]
  },
  {
   "cell_type": "code",
   "execution_count": 133,
   "metadata": {
    "collapsed": true
   },
   "outputs": [],
   "source": [
    "# calculate predicted probabilities for X_test_dtm\n",
    "# naive bayes = good classifier but bad something (not produced well-predicted probabilities)\n",
    "y_pred_prob = logreg.predict_proba(X_test_dtm)"
   ]
  },
  {
   "cell_type": "code",
   "execution_count": 134,
   "metadata": {
    "collapsed": true
   },
   "outputs": [],
   "source": [
    "# calculate predicted probabilities for X_test_dtm\n",
    "# naive bayes = good classifier but bad something (not produced well-predicted probabilities)\n",
    "exp1_B_lst3 = logreg.predict_proba(X_test_dtm)\n",
    "exp1_B_lst4 = logreg.predict(X_test_dtm)"
   ]
  },
  {
   "cell_type": "markdown",
   "metadata": {},
   "source": [
    "### feature importance"
   ]
  },
  {
   "cell_type": "code",
   "execution_count": 135,
   "metadata": {
    "collapsed": true
   },
   "outputs": [],
   "source": [
    "# Get feature names\n",
    "X_train_tokens = vect_B2.get_feature_names()\n",
    "\n",
    "# Calculate coefficient into odd, calculate odd into probability\n",
    "log_reg_prob=np.exp(logreg.coef_)/(np.exp(logreg.coef_)+1)"
   ]
  },
  {
   "cell_type": "code",
   "execution_count": 138,
   "metadata": {
    "collapsed": true
   },
   "outputs": [],
   "source": [
    "# coefficients each token appears across all classes\n",
    "EAP_token_prob = log_reg_prob[0,:]\n",
    "HPL_token_prob = log_reg_prob[1,:]\n",
    "MWS_token_prob = log_reg_prob[2,:]\n",
    "\n",
    "# number of times each token appears\n",
    "EAP_token_coef = logreg.coef_[0,:]\n",
    "HPL_token_coef = logreg.coef_[1,:]\n",
    "MWS_token_coef = logreg.coef_[2,:]"
   ]
  },
  {
   "cell_type": "code",
   "execution_count": 139,
   "metadata": {},
   "outputs": [],
   "source": [
    "# Coefficient DataFrame\n",
    "coefs = pd.DataFrame({'token':X_train_tokens, \n",
    "                       'EAP':EAP_token_coef, \n",
    "                       'HPL':HPL_token_coef, \n",
    "                       'MWS':MWS_token_coef}).set_index('token')"
   ]
  },
  {
   "cell_type": "code",
   "execution_count": 140,
   "metadata": {},
   "outputs": [
    {
     "name": "stdout",
     "output_type": "stream",
     "text": [
      "token\n",
      "dupin        2.226379\n",
      "minutes      1.940119\n",
      "madame       1.841242\n",
      "precisely    1.788356\n",
      "lady         1.785235\n",
      "kate         1.737145\n",
      "evident      1.730778\n",
      "jupiter      1.706281\n",
      "nose         1.695168\n",
      "amid         1.657188\n",
      "Name: EAP, dtype: float64 \n",
      "\n",
      "token\n",
      "despite      2.403688\n",
      "later        2.396820\n",
      "jermyn       2.327398\n",
      "gilman       2.320025\n",
      "birch        2.223038\n",
      "innsmouth    2.196929\n",
      "though       2.180848\n",
      "brown        2.089596\n",
      "normal       2.079948\n",
      "johansen     2.077081\n",
      "Name: HPL, dtype: float64 \n",
      "\n",
      "token\n",
      "raymond      3.711152\n",
      "perdita      3.289060\n",
      "adrian       3.082172\n",
      "idris        2.583584\n",
      "elizabeth    2.401328\n",
      "plague       2.367171\n",
      "windsor      2.158187\n",
      "cottage      2.152484\n",
      "towards      2.127779\n",
      "miserable    2.100854\n",
      "Name: MWS, dtype: float64 \n",
      "\n"
     ]
    }
   ],
   "source": [
    "# examine DataFrame by author\n",
    "for name in coefs.columns:\n",
    "    print(coefs[name].nlargest(10),'\\n')"
   ]
  },
  {
   "cell_type": "code",
   "execution_count": 141,
   "metadata": {
    "collapsed": true
   },
   "outputs": [],
   "source": [
    "# Probability DataFrame\n",
    "probs = pd.DataFrame({'token':X_train_tokens, \n",
    "                       'EAP':EAP_token_prob, \n",
    "                       'HPL':HPL_token_prob, \n",
    "                       'MWS':MWS_token_prob}).set_index('token')"
   ]
  },
  {
   "cell_type": "code",
   "execution_count": 142,
   "metadata": {},
   "outputs": [
    {
     "name": "stdout",
     "output_type": "stream",
     "text": [
      "token\n",
      "dupin        0.902594\n",
      "minutes      0.874365\n",
      "madame       0.863096\n",
      "precisely    0.856726\n",
      "lady         0.856342\n",
      "kate         0.850324\n",
      "evident      0.849512\n",
      "jupiter      0.846353\n",
      "nose         0.844903\n",
      "amid         0.839860\n",
      "Name: EAP, dtype: float64 \n",
      "\n",
      "token\n",
      "despite      0.917108\n",
      "later        0.916584\n",
      "jermyn       0.911121\n",
      "gilman       0.910522\n",
      "birch        0.902299\n",
      "innsmouth    0.899973\n",
      "though       0.898516\n",
      "brown        0.889888\n",
      "normal       0.888939\n",
      "johansen     0.888656\n",
      "Name: HPL, dtype: float64 \n",
      "\n",
      "token\n",
      "raymond      0.976134\n",
      "perdita      0.964052\n",
      "adrian       0.956151\n",
      "idris        0.929798\n",
      "elizabeth    0.916929\n",
      "plague       0.914289\n",
      "windsor      0.896431\n",
      "cottage      0.895901\n",
      "towards      0.893574\n",
      "miserable    0.890986\n",
      "Name: MWS, dtype: float64 \n",
      "\n"
     ]
    }
   ],
   "source": [
    "# examine DataFrame by author\n",
    "for name in probs.columns:\n",
    "    print(probs[name].nlargest(10),'\\n')"
   ]
  },
  {
   "cell_type": "code",
   "execution_count": null,
   "metadata": {
    "collapsed": true
   },
   "outputs": [],
   "source": []
  }
 ],
 "metadata": {
  "kernelspec": {
   "display_name": "Python 3",
   "language": "python",
   "name": "python3"
  },
  "language_info": {
   "codemirror_mode": {
    "name": "ipython",
    "version": 3
   },
   "file_extension": ".py",
   "mimetype": "text/x-python",
   "name": "python",
   "nbconvert_exporter": "python",
   "pygments_lexer": "ipython3",
   "version": "3.6.1"
  }
 },
 "nbformat": 4,
 "nbformat_minor": 2
}
