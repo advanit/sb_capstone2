{
 "cells": [
  {
   "cell_type": "markdown",
   "metadata": {},
   "source": [
    "### Spooky Author Identification\n",
    "**Inspiration**: dataschool.io, Kevin Markham\n",
    "\n",
    "**Aim**: get the gist of this dataset using his method"
   ]
  },
  {
   "cell_type": "markdown",
   "metadata": {},
   "source": [
    "### preliminaries\n",
    "Import the libraries, modules, and data."
   ]
  },
  {
   "cell_type": "code",
   "execution_count": 2,
   "metadata": {
    "collapsed": true
   },
   "outputs": [],
   "source": [
    "### Import libraries and modules\n",
    "import pandas as pd # dataframes\n",
    "import numpy as np\n",
    "from sklearn import metrics\n",
    "\n",
    "### Read in the data\n",
    "\n",
    "# read our data into a dataframe\n",
    "texts = pd.read_csv(\"train.csv\")"
   ]
  },
  {
   "cell_type": "code",
   "execution_count": 3,
   "metadata": {},
   "outputs": [
    {
     "data": {
      "text/html": [
       "<div>\n",
       "<style>\n",
       "    .dataframe thead tr:only-child th {\n",
       "        text-align: right;\n",
       "    }\n",
       "\n",
       "    .dataframe thead th {\n",
       "        text-align: left;\n",
       "    }\n",
       "\n",
       "    .dataframe tbody tr th {\n",
       "        vertical-align: top;\n",
       "    }\n",
       "</style>\n",
       "<table border=\"1\" class=\"dataframe\">\n",
       "  <thead>\n",
       "    <tr style=\"text-align: right;\">\n",
       "      <th></th>\n",
       "      <th>id</th>\n",
       "      <th>text</th>\n",
       "      <th>author</th>\n",
       "    </tr>\n",
       "  </thead>\n",
       "  <tbody>\n",
       "    <tr>\n",
       "      <th>0</th>\n",
       "      <td>id26305</td>\n",
       "      <td>This process, however, afforded me no means of...</td>\n",
       "      <td>EAP</td>\n",
       "    </tr>\n",
       "    <tr>\n",
       "      <th>1</th>\n",
       "      <td>id17569</td>\n",
       "      <td>It never once occurred to me that the fumbling...</td>\n",
       "      <td>HPL</td>\n",
       "    </tr>\n",
       "    <tr>\n",
       "      <th>2</th>\n",
       "      <td>id11008</td>\n",
       "      <td>In his left hand was a gold snuff box, from wh...</td>\n",
       "      <td>EAP</td>\n",
       "    </tr>\n",
       "    <tr>\n",
       "      <th>3</th>\n",
       "      <td>id27763</td>\n",
       "      <td>How lovely is spring As we looked from Windsor...</td>\n",
       "      <td>MWS</td>\n",
       "    </tr>\n",
       "    <tr>\n",
       "      <th>4</th>\n",
       "      <td>id12958</td>\n",
       "      <td>Finding nothing else, not even gold, the Super...</td>\n",
       "      <td>HPL</td>\n",
       "    </tr>\n",
       "  </tbody>\n",
       "</table>\n",
       "</div>"
      ],
      "text/plain": [
       "        id                                               text author\n",
       "0  id26305  This process, however, afforded me no means of...    EAP\n",
       "1  id17569  It never once occurred to me that the fumbling...    HPL\n",
       "2  id11008  In his left hand was a gold snuff box, from wh...    EAP\n",
       "3  id27763  How lovely is spring As we looked from Windsor...    MWS\n",
       "4  id12958  Finding nothing else, not even gold, the Super...    HPL"
      ]
     },
     "execution_count": 3,
     "metadata": {},
     "output_type": "execute_result"
    }
   ],
   "source": [
    "### Examine the file\n",
    "# First records\n",
    "texts.head()"
   ]
  },
  {
   "cell_type": "code",
   "execution_count": 4,
   "metadata": {},
   "outputs": [
    {
     "data": {
      "text/plain": [
       "(19579, 3)"
      ]
     },
     "execution_count": 4,
     "metadata": {},
     "output_type": "execute_result"
    }
   ],
   "source": [
    "# Shape texts\n",
    "texts.shape"
   ]
  },
  {
   "cell_type": "code",
   "execution_count": 5,
   "metadata": {},
   "outputs": [
    {
     "data": {
      "text/plain": [
       "EAP    7900\n",
       "MWS    6044\n",
       "HPL    5635\n",
       "Name: author, dtype: int64"
      ]
     },
     "execution_count": 5,
     "metadata": {},
     "output_type": "execute_result"
    }
   ],
   "source": [
    "# Value Counts\n",
    "texts.author.value_counts()"
   ]
  },
  {
   "cell_type": "markdown",
   "metadata": {},
   "source": [
    "### feature extraction\n",
    "Define the training set, cross validate by splitting the data first."
   ]
  },
  {
   "cell_type": "code",
   "execution_count": 6,
   "metadata": {
    "collapsed": true
   },
   "outputs": [],
   "source": [
    "### Define X and y, train and test\n",
    "X = texts.text\n",
    "y = texts.author"
   ]
  },
  {
   "cell_type": "code",
   "execution_count": 7,
   "metadata": {},
   "outputs": [],
   "source": [
    "from sklearn.cross_validation import train_test_split\n",
    "X_train, X_test, y_train, y_test = train_test_split(X, y)"
   ]
  },
  {
   "cell_type": "code",
   "execution_count": 8,
   "metadata": {
    "collapsed": true
   },
   "outputs": [],
   "source": [
    "# import and instantiate CountVectorizer (with the default parameters)\n",
    "from sklearn.feature_extraction.text import CountVectorizer\n",
    "vect = CountVectorizer()"
   ]
  },
  {
   "cell_type": "code",
   "execution_count": 9,
   "metadata": {},
   "outputs": [
    {
     "data": {
      "text/plain": [
       "CountVectorizer(analyzer='word', binary=False, decode_error='strict',\n",
       "        dtype=<class 'numpy.int64'>, encoding='utf-8', input='content',\n",
       "        lowercase=True, max_df=1.0, max_features=None, min_df=1,\n",
       "        ngram_range=(1, 1), preprocessor=None, stop_words=None,\n",
       "        strip_accents=None, token_pattern='(?u)\\\\b\\\\w\\\\w+\\\\b',\n",
       "        tokenizer=None, vocabulary=None)"
      ]
     },
     "execution_count": 9,
     "metadata": {},
     "output_type": "execute_result"
    }
   ],
   "source": [
    "# learn the 'vocabulary' of the training data (occurs in-place)\n",
    "vect.fit(X_train)"
   ]
  },
  {
   "cell_type": "code",
   "execution_count": 10,
   "metadata": {},
   "outputs": [
    {
     "data": {
      "text/plain": [
       "['aaem',\n",
       " 'ab',\n",
       " 'aback',\n",
       " 'abaft',\n",
       " 'abandon',\n",
       " 'abandoned',\n",
       " 'abandoning',\n",
       " 'abandonment',\n",
       " 'abaout',\n",
       " 'abasement',\n",
       " 'abashed',\n",
       " 'abashment',\n",
       " 'abate',\n",
       " 'abated',\n",
       " 'abatement',\n",
       " 'abating',\n",
       " 'abbey',\n",
       " 'abbreviation',\n",
       " 'abbé',\n",
       " 'abdicated',\n",
       " 'abdication',\n",
       " 'abdications',\n",
       " 'abdul',\n",
       " 'abernethy',\n",
       " 'aberrancy',\n",
       " 'aberrant',\n",
       " 'aberration',\n",
       " 'aberrations',\n",
       " 'abeyance',\n",
       " 'abhor',\n",
       " 'abhorred',\n",
       " 'abhorrence',\n",
       " 'abhorrent',\n",
       " 'abigail',\n",
       " 'abilities',\n",
       " 'ability',\n",
       " 'abject',\n",
       " 'abjure',\n",
       " 'ablaze',\n",
       " 'able',\n",
       " 'ably',\n",
       " 'abnormal',\n",
       " 'abnormalities',\n",
       " 'abnormality',\n",
       " 'abnormally',\n",
       " 'aboard',\n",
       " 'abode',\n",
       " 'abodes',\n",
       " 'abolished',\n",
       " 'abominable',\n",
       " 'abomination',\n",
       " 'abominations',\n",
       " 'aboriginal',\n",
       " 'abortion',\n",
       " 'abortions',\n",
       " 'abortive',\n",
       " 'aboundingly',\n",
       " 'abounds',\n",
       " 'about',\n",
       " 'above',\n",
       " 'abra',\n",
       " 'abreast',\n",
       " 'abroad',\n",
       " 'abrupt',\n",
       " 'abruptly',\n",
       " 'abruptness',\n",
       " 'absence',\n",
       " 'absences',\n",
       " 'absense',\n",
       " 'absent',\n",
       " 'absolute',\n",
       " 'absolutely',\n",
       " 'absolved',\n",
       " 'absorb',\n",
       " 'absorbed',\n",
       " 'absorbing',\n",
       " 'absorption',\n",
       " 'abstaining',\n",
       " 'abstemious',\n",
       " 'abstract',\n",
       " 'abstracted',\n",
       " 'abstraction',\n",
       " 'abstractions',\n",
       " 'abstruse',\n",
       " 'abstruseness',\n",
       " 'absurd',\n",
       " 'absurdities',\n",
       " 'absurdity',\n",
       " 'absurdly',\n",
       " 'absurdness',\n",
       " 'absurdum',\n",
       " 'abundance',\n",
       " 'abundant',\n",
       " 'abundantly',\n",
       " 'abuse',\n",
       " 'abused',\n",
       " 'abutted',\n",
       " 'abutting',\n",
       " 'abxut',\n",
       " 'abysmal',\n",
       " 'abyss',\n",
       " 'abysses',\n",
       " 'academy',\n",
       " 'accede',\n",
       " 'accelerated',\n",
       " 'accelerating',\n",
       " 'acceleration',\n",
       " 'accent',\n",
       " 'accents',\n",
       " 'accentuation',\n",
       " 'accept',\n",
       " 'acceptance',\n",
       " 'accepted',\n",
       " 'accepting',\n",
       " 'access',\n",
       " 'accessible',\n",
       " 'accession',\n",
       " 'accessory',\n",
       " 'accident',\n",
       " 'accidental',\n",
       " 'accidentally',\n",
       " 'accidents',\n",
       " 'acclaimed',\n",
       " 'acclamation',\n",
       " 'acclamations',\n",
       " 'acclivity',\n",
       " 'accommodate',\n",
       " 'accommodated',\n",
       " 'accommodation',\n",
       " 'accompanied',\n",
       " 'accompanies',\n",
       " 'accompaniment',\n",
       " 'accompany',\n",
       " 'accompanying',\n",
       " 'accomplice',\n",
       " 'accomplices',\n",
       " 'accomplish',\n",
       " 'accomplished',\n",
       " 'accomplishing',\n",
       " 'accomplishment',\n",
       " 'accomplishments',\n",
       " 'accord',\n",
       " 'accordance',\n",
       " 'accordant',\n",
       " 'accorded',\n",
       " 'according',\n",
       " 'accordingly',\n",
       " 'accorto',\n",
       " 'accost',\n",
       " 'accosted',\n",
       " 'account',\n",
       " 'accounted',\n",
       " 'accounting',\n",
       " 'accounts',\n",
       " 'accoutred',\n",
       " 'accoutrements',\n",
       " 'accredited',\n",
       " 'accrue',\n",
       " 'accrued',\n",
       " 'accruing',\n",
       " 'acct',\n",
       " 'accumulate',\n",
       " 'accumulated',\n",
       " 'accumulating',\n",
       " 'accumulation',\n",
       " 'accumulations',\n",
       " 'accumulative',\n",
       " 'accuracy',\n",
       " 'accurate',\n",
       " 'accurately',\n",
       " 'accursed',\n",
       " 'accursedly',\n",
       " 'accusation',\n",
       " 'accusations',\n",
       " 'accuse',\n",
       " 'accused',\n",
       " 'accusers',\n",
       " 'accusing',\n",
       " 'accustomed',\n",
       " 'acetous',\n",
       " 'acetylene',\n",
       " 'ached',\n",
       " 'acheron',\n",
       " 'achieve',\n",
       " 'achieved',\n",
       " 'achievement',\n",
       " 'achievements',\n",
       " 'achieving',\n",
       " 'achilles',\n",
       " 'aching',\n",
       " 'acid',\n",
       " 'acidulous',\n",
       " 'acknowledge',\n",
       " 'acknowledged',\n",
       " 'acknowledgement',\n",
       " 'acknowledges',\n",
       " 'acknowledging',\n",
       " 'acknowledgment',\n",
       " 'acme',\n",
       " 'acolyte',\n",
       " 'acorns',\n",
       " 'acoustic',\n",
       " 'acquaint',\n",
       " 'acquaintance',\n",
       " 'acquaintances',\n",
       " 'acquainted',\n",
       " 'acquiesce',\n",
       " 'acquiesced',\n",
       " 'acquiescence',\n",
       " 'acquire',\n",
       " 'acquired',\n",
       " 'acquirement',\n",
       " 'acquirements',\n",
       " 'acquires',\n",
       " 'acquiring',\n",
       " 'acquisition',\n",
       " 'acquisitions',\n",
       " 'acquit',\n",
       " 'acquittal',\n",
       " 'acquitted',\n",
       " 'acre',\n",
       " 'acrid',\n",
       " 'acrimony',\n",
       " 'acropolis',\n",
       " 'across',\n",
       " 'acrost',\n",
       " 'act',\n",
       " 'acted',\n",
       " 'acting',\n",
       " 'action',\n",
       " 'actions',\n",
       " 'active',\n",
       " 'actively',\n",
       " 'activity',\n",
       " 'actor',\n",
       " 'actors',\n",
       " 'acts',\n",
       " 'actual',\n",
       " 'actuality',\n",
       " 'actually',\n",
       " 'actuated',\n",
       " 'actuates',\n",
       " 'acumen',\n",
       " 'acute',\n",
       " 'acutely',\n",
       " 'ad',\n",
       " 'adage',\n",
       " 'adam',\n",
       " 'adamant',\n",
       " 'adamantine',\n",
       " 'adams',\n",
       " 'adapt',\n",
       " 'adaptation',\n",
       " 'adapted',\n",
       " 'adapting',\n",
       " 'adaption',\n",
       " 'add',\n",
       " 'added',\n",
       " 'adder',\n",
       " 'adders',\n",
       " 'addiction',\n",
       " 'adding',\n",
       " 'addison',\n",
       " 'addition',\n",
       " 'additional',\n",
       " 'address',\n",
       " 'addressed',\n",
       " 'addresses',\n",
       " 'addressing',\n",
       " 'adds',\n",
       " 'adduce',\n",
       " 'adduced',\n",
       " 'adelaide',\n",
       " 'adept',\n",
       " 'adequacy',\n",
       " 'adequate',\n",
       " 'adequately',\n",
       " 'adhere',\n",
       " 'adhered',\n",
       " 'adherence',\n",
       " 'adhesion',\n",
       " 'adieu',\n",
       " 'adjacent',\n",
       " 'adjective',\n",
       " 'adjoining',\n",
       " 'adjurations',\n",
       " 'adjure',\n",
       " 'adjust',\n",
       " 'adjusted',\n",
       " 'adjusting',\n",
       " 'adjustment',\n",
       " 'adjustments',\n",
       " 'admeasurement',\n",
       " 'administered',\n",
       " 'administration',\n",
       " 'admirable',\n",
       " 'admirably',\n",
       " 'admiral',\n",
       " 'admiralty',\n",
       " 'admiration',\n",
       " 'admire',\n",
       " 'admired',\n",
       " 'admirers',\n",
       " 'admires',\n",
       " 'admiring',\n",
       " 'admission',\n",
       " 'admit',\n",
       " 'admits',\n",
       " 'admittance',\n",
       " 'admitted',\n",
       " 'admitting',\n",
       " 'admonisher',\n",
       " 'admonition',\n",
       " 'admonitions',\n",
       " 'ado',\n",
       " 'adobe',\n",
       " 'adolphe',\n",
       " 'adopt',\n",
       " 'adopted',\n",
       " 'adopting',\n",
       " 'adoration',\n",
       " 'adore',\n",
       " 'adored',\n",
       " 'adores',\n",
       " 'adoring',\n",
       " 'adorn',\n",
       " 'adorned',\n",
       " 'adornment',\n",
       " 'adornments',\n",
       " 'adorns',\n",
       " 'adrian',\n",
       " 'adriatic',\n",
       " 'adroitness',\n",
       " 'adult',\n",
       " 'adulthood',\n",
       " 'advance',\n",
       " 'advanced',\n",
       " 'advancement',\n",
       " 'advances',\n",
       " 'advancing',\n",
       " 'advantage',\n",
       " 'advantageous',\n",
       " 'advantages',\n",
       " 'advent',\n",
       " 'adventure',\n",
       " 'adventurer',\n",
       " 'adventures',\n",
       " 'adventurous',\n",
       " 'adversaries',\n",
       " 'adversary',\n",
       " 'adverse',\n",
       " 'adversities',\n",
       " 'adversity',\n",
       " 'advert',\n",
       " 'adverted',\n",
       " 'advertise',\n",
       " 'advertisement',\n",
       " 'advertisements',\n",
       " 'advertiser',\n",
       " 'advice',\n",
       " 'advices',\n",
       " 'advisability',\n",
       " 'advisable',\n",
       " 'advise',\n",
       " 'advised',\n",
       " 'advising',\n",
       " 'advocate',\n",
       " 'advocated',\n",
       " 'advoue',\n",
       " 'aegean',\n",
       " 'aegidus',\n",
       " 'aegis',\n",
       " 'aeolus',\n",
       " 'aeon',\n",
       " 'aeons',\n",
       " 'aera',\n",
       " 'aerial',\n",
       " 'aeris',\n",
       " 'aeronautic',\n",
       " 'aerostation',\n",
       " 'aesculapius',\n",
       " 'aesthetes',\n",
       " 'aesthetic',\n",
       " 'aether',\n",
       " 'afar',\n",
       " 'afeard',\n",
       " 'afeared',\n",
       " 'affability',\n",
       " 'affable',\n",
       " 'affair',\n",
       " 'affairs',\n",
       " 'affect',\n",
       " 'affectation',\n",
       " 'affected',\n",
       " 'affectedly',\n",
       " 'affecting',\n",
       " 'affection',\n",
       " 'affectionate',\n",
       " 'affectionately',\n",
       " 'affectionateness',\n",
       " 'affections',\n",
       " 'affidavits',\n",
       " 'affiliations',\n",
       " 'affinity',\n",
       " 'affirm',\n",
       " 'affirmation',\n",
       " 'affirmative',\n",
       " 'affixed',\n",
       " 'afflatus',\n",
       " 'afflicted',\n",
       " 'affliction',\n",
       " 'affluence',\n",
       " 'afford',\n",
       " 'afforded',\n",
       " 'affording',\n",
       " 'affords',\n",
       " 'affrays',\n",
       " 'affright',\n",
       " 'affrightedly',\n",
       " 'affronted',\n",
       " 'afield',\n",
       " 'afloat',\n",
       " 'afoot',\n",
       " 'afore',\n",
       " 'aforesaid',\n",
       " 'afraid',\n",
       " 'afresh',\n",
       " 'africa',\n",
       " 'african',\n",
       " 'afriky',\n",
       " 'aft',\n",
       " 'after',\n",
       " 'aftermath',\n",
       " 'afternoon',\n",
       " 'afternoons',\n",
       " 'afterward',\n",
       " 'afterwards',\n",
       " 'afur',\n",
       " 'ag',\n",
       " 'again',\n",
       " 'against',\n",
       " 'agatha',\n",
       " 'agathos',\n",
       " 'age',\n",
       " 'aged',\n",
       " 'agencies',\n",
       " 'agency',\n",
       " 'agent',\n",
       " 'agents',\n",
       " 'ages',\n",
       " 'aggrandisement',\n",
       " 'aggravate',\n",
       " 'aggravated',\n",
       " 'aggravation',\n",
       " 'aggregate',\n",
       " 'aggregated',\n",
       " 'aggression',\n",
       " 'aggressive',\n",
       " 'aghast',\n",
       " 'agile',\n",
       " 'agility',\n",
       " 'agin',\n",
       " 'agir',\n",
       " 'agitated',\n",
       " 'agitates',\n",
       " 'agitating',\n",
       " 'agitation',\n",
       " 'aglow',\n",
       " 'ago',\n",
       " 'agog',\n",
       " 'agonies',\n",
       " 'agonized',\n",
       " 'agonizing',\n",
       " 'agony',\n",
       " 'agora',\n",
       " 'agraffas',\n",
       " 'agreable',\n",
       " 'agree',\n",
       " 'agreeable',\n",
       " 'agreed',\n",
       " 'agreeing',\n",
       " 'agreement',\n",
       " 'agressi',\n",
       " 'agriculture',\n",
       " 'agrippa',\n",
       " 'ague',\n",
       " 'ah',\n",
       " 'ahead',\n",
       " 'ahem',\n",
       " 'ai',\n",
       " 'aid',\n",
       " 'aided',\n",
       " 'aidenn',\n",
       " 'aides',\n",
       " 'aiding',\n",
       " 'aids',\n",
       " 'aigrette',\n",
       " 'aiguilles',\n",
       " 'ails',\n",
       " 'aim',\n",
       " 'aimed',\n",
       " 'aiming',\n",
       " 'aimless',\n",
       " 'aimlessly',\n",
       " 'aims',\n",
       " 'ain',\n",
       " 'ainsworth',\n",
       " 'aint',\n",
       " 'aiolos',\n",
       " 'air',\n",
       " 'aira',\n",
       " 'airs',\n",
       " 'airship',\n",
       " 'airy',\n",
       " 'aisles',\n",
       " 'ajar',\n",
       " 'akariel',\n",
       " 'akin',\n",
       " 'akurion',\n",
       " 'al',\n",
       " 'alabaster',\n",
       " 'alarm',\n",
       " 'alarmed',\n",
       " 'alarming',\n",
       " 'alarummed',\n",
       " 'alas',\n",
       " 'albano',\n",
       " 'albany',\n",
       " 'albatross',\n",
       " 'albeit',\n",
       " 'albert',\n",
       " 'alberto',\n",
       " 'albertus',\n",
       " 'albinism',\n",
       " 'albino',\n",
       " 'alchemical',\n",
       " 'alchemy',\n",
       " 'alcmaeon',\n",
       " 'alcohol',\n",
       " 'alcove',\n",
       " 'alcoves',\n",
       " 'alcyone',\n",
       " 'aldebaran',\n",
       " 'ale',\n",
       " 'alert',\n",
       " 'alertly',\n",
       " 'alertness',\n",
       " 'alexander',\n",
       " 'alexandre',\n",
       " 'alfonzo',\n",
       " 'alfred',\n",
       " 'algebraic',\n",
       " 'algebraical',\n",
       " 'algebraists',\n",
       " 'algol',\n",
       " 'alhazred',\n",
       " 'alice',\n",
       " 'alien',\n",
       " 'alienage',\n",
       " 'alienated',\n",
       " 'alienation',\n",
       " 'alienists',\n",
       " 'alight',\n",
       " 'alighted',\n",
       " 'alike',\n",
       " 'alimentiveness',\n",
       " 'aliquantulum',\n",
       " 'alit',\n",
       " 'aliterque',\n",
       " 'alive',\n",
       " 'alkaloid',\n",
       " 'all',\n",
       " 'allah',\n",
       " 'allan',\n",
       " 'allaowed',\n",
       " 'allay',\n",
       " 'allaying',\n",
       " 'allbreath',\n",
       " 'alleged',\n",
       " 'allegiance',\n",
       " 'alleging',\n",
       " 'allegorical',\n",
       " 'allegorically',\n",
       " 'allegories',\n",
       " 'allegory',\n",
       " 'allen',\n",
       " 'alleviate',\n",
       " 'alleviating',\n",
       " 'alleviation',\n",
       " 'alley',\n",
       " 'alleys',\n",
       " 'alliance',\n",
       " 'alliances',\n",
       " 'allied',\n",
       " 'allies',\n",
       " 'alligator',\n",
       " 'allotted',\n",
       " 'allow',\n",
       " 'allowed',\n",
       " 'allowing',\n",
       " 'alloy',\n",
       " 'allude',\n",
       " 'alluded',\n",
       " 'alludes',\n",
       " 'alluding',\n",
       " 'allured',\n",
       " 'allurement',\n",
       " 'allurements',\n",
       " 'allus',\n",
       " 'allusion',\n",
       " 'allusions',\n",
       " 'alluvial',\n",
       " 'ally',\n",
       " 'alma',\n",
       " 'almaviva',\n",
       " 'almighty',\n",
       " 'almost',\n",
       " 'alms',\n",
       " 'aloft',\n",
       " 'alone',\n",
       " 'along',\n",
       " 'alongside',\n",
       " 'aloof',\n",
       " 'alos',\n",
       " 'aloud',\n",
       " 'alow',\n",
       " 'alp',\n",
       " 'alpha',\n",
       " 'alphabet',\n",
       " 'alphabets',\n",
       " 'alpheus',\n",
       " 'alphonse',\n",
       " 'alpine',\n",
       " 'alps',\n",
       " 'already',\n",
       " 'also',\n",
       " 'altair',\n",
       " 'altar',\n",
       " 'altars',\n",
       " 'alter',\n",
       " 'alteration',\n",
       " 'alterations',\n",
       " 'altercation',\n",
       " 'altered',\n",
       " 'altering',\n",
       " 'alternate',\n",
       " 'alternated',\n",
       " 'alternately',\n",
       " 'alternations',\n",
       " 'alternative',\n",
       " 'alternatives',\n",
       " 'although',\n",
       " 'altitude',\n",
       " 'altitudes',\n",
       " 'altogether',\n",
       " 'altro',\n",
       " 'always',\n",
       " 'am',\n",
       " 'amalthea',\n",
       " 'amassed',\n",
       " 'amateur',\n",
       " 'amazed',\n",
       " 'amazement',\n",
       " 'amazing',\n",
       " 'amazingly',\n",
       " 'ambaaren',\n",
       " 'ambassador',\n",
       " 'amber',\n",
       " 'ambiguities',\n",
       " 'ambiguity',\n",
       " 'ambiguous',\n",
       " 'ambition',\n",
       " 'ambitious',\n",
       " 'ambrosial',\n",
       " 'ambush',\n",
       " 'amen',\n",
       " 'amend',\n",
       " 'amending',\n",
       " 'amendment',\n",
       " 'amenity',\n",
       " 'america',\n",
       " 'american',\n",
       " 'americana',\n",
       " 'americans',\n",
       " 'ami',\n",
       " 'amiability',\n",
       " 'amiable',\n",
       " 'amicable',\n",
       " 'amicae',\n",
       " 'amid',\n",
       " 'amidst',\n",
       " 'amiss',\n",
       " 'amity',\n",
       " 'ammonia',\n",
       " 'among',\n",
       " 'amongst',\n",
       " 'amontillado',\n",
       " 'amor',\n",
       " 'amorphous',\n",
       " 'amount',\n",
       " 'amounted',\n",
       " 'amounting',\n",
       " 'amounts',\n",
       " 'amour',\n",
       " 'amphitheatre',\n",
       " 'ample',\n",
       " 'amplified',\n",
       " 'amplitudine',\n",
       " 'amply',\n",
       " 'amriccan',\n",
       " 'amsterdam',\n",
       " 'amulet',\n",
       " 'amus',\n",
       " 'amuse',\n",
       " 'amused',\n",
       " 'amusement',\n",
       " 'amusements',\n",
       " 'amusing',\n",
       " 'amèrement',\n",
       " 'an',\n",
       " 'ana',\n",
       " 'anacreon',\n",
       " 'anacreontic',\n",
       " 'anaemic',\n",
       " 'analogical',\n",
       " 'analogies',\n",
       " 'analogous',\n",
       " 'analogy',\n",
       " 'analyse',\n",
       " 'analysed',\n",
       " 'analysing',\n",
       " 'analysis',\n",
       " 'analyst',\n",
       " 'analytic',\n",
       " 'analytical',\n",
       " 'analyzed',\n",
       " 'analyzing',\n",
       " 'anan',\n",
       " 'anarchy',\n",
       " 'anastasia',\n",
       " 'anathema',\n",
       " 'anatomical',\n",
       " 'anatomize',\n",
       " 'anatomy',\n",
       " 'ancestor',\n",
       " 'ancestors',\n",
       " 'ancestral',\n",
       " 'ancestry',\n",
       " 'anchises',\n",
       " 'anchor',\n",
       " 'anchorage',\n",
       " 'anchored',\n",
       " 'ancient',\n",
       " 'ancients',\n",
       " 'ancona',\n",
       " 'and',\n",
       " 'andava',\n",
       " 'anderson',\n",
       " 'andes',\n",
       " 'andirons',\n",
       " 'andree',\n",
       " 'andrew',\n",
       " 'andrews',\n",
       " 'andromache',\n",
       " 'andros',\n",
       " 'andrée',\n",
       " 'anear',\n",
       " 'anecdote',\n",
       " 'anecdotes',\n",
       " 'anemonae',\n",
       " 'anemone',\n",
       " 'anerh',\n",
       " 'aneurism',\n",
       " 'anew',\n",
       " 'anfongsgrunde',\n",
       " 'angarola',\n",
       " 'angel',\n",
       " 'angelic',\n",
       " 'angelica',\n",
       " 'angell',\n",
       " 'angels',\n",
       " 'anger',\n",
       " 'angle',\n",
       " 'angled',\n",
       " 'angler',\n",
       " 'angles',\n",
       " 'anglican',\n",
       " 'anglo',\n",
       " 'anglois',\n",
       " 'angrily',\n",
       " 'angry',\n",
       " 'anguish',\n",
       " 'angular',\n",
       " 'anicius',\n",
       " 'animadversion',\n",
       " 'animal',\n",
       " 'animalistic',\n",
       " 'animals',\n",
       " 'animate',\n",
       " 'animated',\n",
       " 'animating',\n",
       " 'animation',\n",
       " 'animosity',\n",
       " 'ankle',\n",
       " 'ankles',\n",
       " 'ann',\n",
       " 'annals',\n",
       " 'annihilate',\n",
       " 'annihilated',\n",
       " 'annihilating',\n",
       " 'annihilation',\n",
       " 'anniversary',\n",
       " 'announce',\n",
       " 'announced',\n",
       " 'announcement',\n",
       " 'announcing',\n",
       " 'annoy',\n",
       " 'annoyance',\n",
       " 'annoyed',\n",
       " 'annoying',\n",
       " 'annoys',\n",
       " 'annual',\n",
       " 'annually',\n",
       " 'annul',\n",
       " 'annular',\n",
       " 'annæus',\n",
       " 'anomalies',\n",
       " 'anomalous',\n",
       " 'anomalousness',\n",
       " 'anomaly',\n",
       " 'anon',\n",
       " 'anonymous',\n",
       " 'another',\n",
       " 'answer',\n",
       " 'answered',\n",
       " 'answering',\n",
       " 'answers',\n",
       " 'antagonise',\n",
       " 'antagonist',\n",
       " 'antagonistical',\n",
       " 'ante',\n",
       " 'antediluvian',\n",
       " 'antennæ',\n",
       " 'anthill',\n",
       " 'anthony',\n",
       " 'anthropoid',\n",
       " 'anthropological',\n",
       " 'anthropologists',\n",
       " 'anthropology',\n",
       " 'anti',\n",
       " 'anticipate',\n",
       " 'anticipated',\n",
       " 'anticipation',\n",
       " 'anticipations',\n",
       " 'antics',\n",
       " 'antidote',\n",
       " 'antient',\n",
       " 'antigone',\n",
       " 'antioch',\n",
       " 'antiochia',\n",
       " 'antiochus',\n",
       " 'antiparos',\n",
       " 'antipater',\n",
       " 'antipathies',\n",
       " 'antipathy',\n",
       " 'antiphonal',\n",
       " 'antipodes',\n",
       " 'antiquarian',\n",
       " 'antiquarians',\n",
       " 'antiquated',\n",
       " 'antique',\n",
       " 'antiquities',\n",
       " 'antiquity',\n",
       " 'antiquum',\n",
       " 'antlered',\n",
       " 'antoines',\n",
       " 'antoninus',\n",
       " 'antony',\n",
       " 'ants',\n",
       " 'anxieties',\n",
       " 'anxiety',\n",
       " 'anxious',\n",
       " 'anxiously',\n",
       " 'anxther',\n",
       " 'any',\n",
       " 'anybody',\n",
       " 'anyhow',\n",
       " 'anyone',\n",
       " 'anything',\n",
       " 'anyw',\n",
       " 'anyway',\n",
       " 'anywhere',\n",
       " 'anzique',\n",
       " 'anziques',\n",
       " 'aoede',\n",
       " 'aorta',\n",
       " 'aout',\n",
       " 'aoutside',\n",
       " 'apace',\n",
       " 'apart',\n",
       " 'apartment',\n",
       " 'apartments',\n",
       " 'apathy',\n",
       " 'ape',\n",
       " 'aperture',\n",
       " 'apertures',\n",
       " 'apes',\n",
       " 'apex',\n",
       " 'aphelion',\n",
       " 'aphrodite',\n",
       " 'apocryphal',\n",
       " 'apollo',\n",
       " 'apollonius',\n",
       " 'apologie',\n",
       " 'apologies',\n",
       " 'apologised',\n",
       " 'apologize',\n",
       " 'apology',\n",
       " 'apophysis',\n",
       " 'apoplexy',\n",
       " 'apostacy',\n",
       " 'apothegm',\n",
       " 'apotheosis',\n",
       " 'apout',\n",
       " 'appalled',\n",
       " 'appalling',\n",
       " 'appallingly',\n",
       " 'appals',\n",
       " 'apparatus',\n",
       " 'apparel',\n",
       " 'apparelled',\n",
       " 'apparent',\n",
       " 'apparently',\n",
       " 'apparition',\n",
       " 'apparitions',\n",
       " 'appeal',\n",
       " 'appealed',\n",
       " 'appealing',\n",
       " 'appeals',\n",
       " 'appear',\n",
       " 'appearance',\n",
       " 'appearances',\n",
       " 'appeared',\n",
       " 'appearing',\n",
       " 'appears',\n",
       " 'appeased',\n",
       " 'appellation',\n",
       " 'appellations',\n",
       " 'appendages',\n",
       " 'appended',\n",
       " 'appendix',\n",
       " 'appertain',\n",
       " 'appertaining',\n",
       " 'appertains',\n",
       " 'appetite',\n",
       " 'appetites',\n",
       " 'applauded',\n",
       " 'applause',\n",
       " 'apple',\n",
       " 'apples',\n",
       " 'appleton',\n",
       " 'appletonians',\n",
       " 'appliances',\n",
       " 'applicable',\n",
       " 'application',\n",
       " 'applicationem',\n",
       " 'applied',\n",
       " 'applies',\n",
       " 'apply',\n",
       " 'applying',\n",
       " 'appoint',\n",
       " 'appointed',\n",
       " 'appointment',\n",
       " 'appraisal',\n",
       " 'appreciable',\n",
       " 'appreciate',\n",
       " 'appreciated',\n",
       " 'appreciation',\n",
       " 'apprehend',\n",
       " 'apprehended',\n",
       " 'apprehending',\n",
       " 'apprehension',\n",
       " 'apprehensions',\n",
       " 'apprehensive',\n",
       " 'apprehensively',\n",
       " 'apprehensiveness',\n",
       " 'apprenticed',\n",
       " 'apprentices',\n",
       " 'apprenticeship',\n",
       " 'apprised',\n",
       " 'approach',\n",
       " 'approached',\n",
       " 'approaches',\n",
       " 'approaching',\n",
       " 'approbation',\n",
       " 'approbatory',\n",
       " 'appropriate',\n",
       " 'appropriated',\n",
       " 'approval',\n",
       " 'approve',\n",
       " ...]"
      ]
     },
     "execution_count": 10,
     "metadata": {},
     "output_type": "execute_result"
    }
   ],
   "source": [
    "# examine the fitted vocabulary\n",
    "vect.get_feature_names()"
   ]
  },
  {
   "cell_type": "code",
   "execution_count": 11,
   "metadata": {
    "collapsed": true
   },
   "outputs": [],
   "source": [
    "X_train_dtm = vect.transform(X_train)"
   ]
  },
  {
   "cell_type": "code",
   "execution_count": 12,
   "metadata": {
    "collapsed": true
   },
   "outputs": [],
   "source": [
    "X_test_dtm = vect.transform(X_test)"
   ]
  },
  {
   "cell_type": "code",
   "execution_count": 13,
   "metadata": {},
   "outputs": [
    {
     "data": {
      "text/plain": [
       "((14684, 22566), (4895, 22566))"
      ]
     },
     "execution_count": 13,
     "metadata": {},
     "output_type": "execute_result"
    }
   ],
   "source": [
    "X_train_dtm.shape, X_test_dtm.shape"
   ]
  },
  {
   "cell_type": "markdown",
   "metadata": {},
   "source": [
    "### machine learning / process\n",
    "#### naive bayes classifier"
   ]
  },
  {
   "cell_type": "code",
   "execution_count": 81,
   "metadata": {
    "collapsed": true,
    "scrolled": true
   },
   "outputs": [],
   "source": [
    "# import and instantiate a Multinomial Naive Bayes model\n",
    "from sklearn.naive_bayes import MultinomialNB\n",
    "nb = MultinomialNB()"
   ]
  },
  {
   "cell_type": "code",
   "execution_count": 82,
   "metadata": {},
   "outputs": [
    {
     "name": "stdout",
     "output_type": "stream",
     "text": [
      "CPU times: user 42 ms, sys: 2.69 ms, total: 44.7 ms\n",
      "Wall time: 43.5 ms\n"
     ]
    },
    {
     "data": {
      "text/plain": [
       "MultinomialNB(alpha=1.0, class_prior=None, fit_prior=True)"
      ]
     },
     "execution_count": 82,
     "metadata": {},
     "output_type": "execute_result"
    }
   ],
   "source": [
    "# train the model using X_train_dtm (timing it with an IPython \"magic command\")\n",
    "%time nb.fit(X_train_dtm, y_train)"
   ]
  },
  {
   "cell_type": "code",
   "execution_count": 83,
   "metadata": {
    "collapsed": true
   },
   "outputs": [],
   "source": [
    "# predict with the test case\n",
    "y_pred_class = nb.predict(X_test_dtm)"
   ]
  },
  {
   "cell_type": "code",
   "execution_count": 84,
   "metadata": {},
   "outputs": [
    {
     "data": {
      "text/plain": [
       "0.83186925434116443"
      ]
     },
     "execution_count": 84,
     "metadata": {},
     "output_type": "execute_result"
    }
   ],
   "source": [
    "# metrics review\n",
    "from sklearn import metrics\n",
    "metrics.accuracy_score(y_test, y_pred_class)"
   ]
  },
  {
   "cell_type": "code",
   "execution_count": 85,
   "metadata": {},
   "outputs": [
    {
     "data": {
      "text/plain": [
       "EAP    1994\n",
       "MWS    1532\n",
       "HPL    1369\n",
       "Name: author, dtype: int64"
      ]
     },
     "execution_count": 85,
     "metadata": {},
     "output_type": "execute_result"
    }
   ],
   "source": [
    "# examine the class distribution of the testing set (using a Pandas Series method)\n",
    "y_test.value_counts()"
   ]
  },
  {
   "cell_type": "code",
   "execution_count": 86,
   "metadata": {},
   "outputs": [
    {
     "data": {
      "text/plain": [
       "EAP    0.407354\n",
       "Name: author, dtype: float64"
      ]
     },
     "execution_count": 86,
     "metadata": {},
     "output_type": "execute_result"
    }
   ],
   "source": [
    "# null accuracy: the classification accuracy where it predicts the most populated class\n",
    "nacc = y_test.value_counts().head(1)/len(y_test)\n",
    "nacc"
   ]
  },
  {
   "cell_type": "code",
   "execution_count": 87,
   "metadata": {},
   "outputs": [
    {
     "name": "stdout",
     "output_type": "stream",
     "text": [
      "[[1653  115  226]\n",
      " [ 174 1102   93]\n",
      " [ 149   66 1317]]\n"
     ]
    }
   ],
   "source": [
    "# confusion matrix\n",
    "confusion = metrics.confusion_matrix(y_test, y_pred_class)\n",
    "print(confusion)"
   ]
  },
  {
   "cell_type": "code",
   "execution_count": 88,
   "metadata": {},
   "outputs": [
    {
     "name": "stdout",
     "output_type": "stream",
     "text": [
      "             precision    recall  f1-score   support\n",
      "\n",
      "        EAP       0.84      0.83      0.83      1994\n",
      "        HPL       0.86      0.80      0.83      1369\n",
      "        MWS       0.81      0.86      0.83      1532\n",
      "\n",
      "avg / total       0.83      0.83      0.83      4895\n",
      "\n"
     ]
    }
   ],
   "source": [
    "## print classification report\n",
    "crpt = metrics.classification_report(y_test, y_pred_class)\n",
    "print(crpt)"
   ]
  },
  {
   "cell_type": "markdown",
   "metadata": {},
   "source": [
    "#### logistics regression\n",
    "Inspired by Naive Bayes mini-project. "
   ]
  },
  {
   "cell_type": "code",
   "execution_count": 89,
   "metadata": {
    "collapsed": true
   },
   "outputs": [],
   "source": [
    "# import and instantiate\n",
    "from sklearn.linear_model import LogisticRegression\n",
    "logreg = LogisticRegression()"
   ]
  },
  {
   "cell_type": "code",
   "execution_count": 90,
   "metadata": {},
   "outputs": [
    {
     "name": "stdout",
     "output_type": "stream",
     "text": [
      "CPU times: user 3.66 s, sys: 51.6 ms, total: 3.72 s\n",
      "Wall time: 955 ms\n"
     ]
    },
    {
     "data": {
      "text/plain": [
       "LogisticRegression(C=1.0, class_weight=None, dual=False, fit_intercept=True,\n",
       "          intercept_scaling=1, max_iter=100, multi_class='ovr', n_jobs=1,\n",
       "          penalty='l2', random_state=None, solver='liblinear', tol=0.0001,\n",
       "          verbose=0, warm_start=False)"
      ]
     },
     "execution_count": 90,
     "metadata": {},
     "output_type": "execute_result"
    }
   ],
   "source": [
    "# train the model using X_train_dtm\n",
    "# Naive Bayes can't take a negative number; logreg can!\n",
    "%time logreg.fit(X_train_dtm, y_train)"
   ]
  },
  {
   "cell_type": "code",
   "execution_count": 91,
   "metadata": {
    "collapsed": true
   },
   "outputs": [],
   "source": [
    "# make class predictions for X_test_dtm\n",
    "y_pred_class = logreg.predict(X_test_dtm)"
   ]
  },
  {
   "cell_type": "code",
   "execution_count": 92,
   "metadata": {},
   "outputs": [
    {
     "data": {
      "text/plain": [
       "array([ 0.14369324,  0.05195704,  0.00575021, ...,  0.00537358,\n",
       "        0.29081815,  0.01282771])"
      ]
     },
     "execution_count": 92,
     "metadata": {},
     "output_type": "execute_result"
    }
   ],
   "source": [
    "# calculate predicted probabilities for X_test_dtm (well-calibrated)\n",
    "y_pred_prob = logreg.predict_proba(X_test_dtm)[:,1]\n",
    "y_pred_prob"
   ]
  },
  {
   "cell_type": "code",
   "execution_count": 93,
   "metadata": {},
   "outputs": [
    {
     "data": {
      "text/plain": [
       "0.82410623084780388"
      ]
     },
     "execution_count": 93,
     "metadata": {},
     "output_type": "execute_result"
    }
   ],
   "source": [
    "# calculate accuracy\n",
    "metrics.accuracy_score(y_test, y_pred_class)"
   ]
  },
  {
   "cell_type": "code",
   "execution_count": 94,
   "metadata": {},
   "outputs": [
    {
     "name": "stdout",
     "output_type": "stream",
     "text": [
      "[[1736  113  145]\n",
      " [ 227 1062   80]\n",
      " [ 214   82 1236]]\n"
     ]
    }
   ],
   "source": [
    "# confusion matrix\n",
    "confusion = metrics.confusion_matrix(y_test, y_pred_class)\n",
    "print(confusion)"
   ]
  },
  {
   "cell_type": "code",
   "execution_count": 95,
   "metadata": {},
   "outputs": [
    {
     "name": "stdout",
     "output_type": "stream",
     "text": [
      "             precision    recall  f1-score   support\n",
      "\n",
      "        EAP       0.80      0.87      0.83      1994\n",
      "        HPL       0.84      0.78      0.81      1369\n",
      "        MWS       0.85      0.81      0.83      1532\n",
      "\n",
      "avg / total       0.83      0.82      0.82      4895\n",
      "\n"
     ]
    }
   ],
   "source": [
    "## print classification report\n",
    "crpt = metrics.classification_report(y_test, y_pred_class)\n",
    "print(crpt)"
   ]
  },
  {
   "cell_type": "markdown",
   "metadata": {},
   "source": [
    "#### random forest classifier \n",
    "Recommended by mentor, AJ Sanchez, to check performance of model prediction via Random Forest."
   ]
  },
  {
   "cell_type": "code",
   "execution_count": 96,
   "metadata": {
    "collapsed": true
   },
   "outputs": [],
   "source": [
    "from sklearn.ensemble import RandomForestClassifier\n",
    "rfst = RandomForestClassifier()"
   ]
  },
  {
   "cell_type": "code",
   "execution_count": 97,
   "metadata": {},
   "outputs": [
    {
     "name": "stdout",
     "output_type": "stream",
     "text": [
      "CPU times: user 2.91 s, sys: 11.9 ms, total: 2.92 s\n",
      "Wall time: 2.92 s\n"
     ]
    },
    {
     "data": {
      "text/plain": [
       "RandomForestClassifier(bootstrap=True, class_weight=None, criterion='gini',\n",
       "            max_depth=None, max_features='auto', max_leaf_nodes=None,\n",
       "            min_impurity_split=1e-07, min_samples_leaf=1,\n",
       "            min_samples_split=2, min_weight_fraction_leaf=0.0,\n",
       "            n_estimators=10, n_jobs=1, oob_score=False, random_state=None,\n",
       "            verbose=0, warm_start=False)"
      ]
     },
     "execution_count": 97,
     "metadata": {},
     "output_type": "execute_result"
    }
   ],
   "source": [
    "%time rfst.fit(X_train_dtm, y_train)"
   ]
  },
  {
   "cell_type": "code",
   "execution_count": 98,
   "metadata": {
    "collapsed": true
   },
   "outputs": [],
   "source": [
    "# make class predictions for X_test_dtm\n",
    "y_pred_class = rfst.predict(X_test_dtm)"
   ]
  },
  {
   "cell_type": "code",
   "execution_count": 99,
   "metadata": {},
   "outputs": [],
   "source": [
    "# calculate predicted probabilities for X_test_dtm (well-calibrated)\n",
    "y_pred_prob = rfst.predict_proba(X_test_dtm)[:,1]"
   ]
  },
  {
   "cell_type": "code",
   "execution_count": 100,
   "metadata": {},
   "outputs": [
    {
     "data": {
      "text/plain": [
       "0.62022471910112364"
      ]
     },
     "execution_count": 100,
     "metadata": {},
     "output_type": "execute_result"
    }
   ],
   "source": [
    "# calculate accuracy\n",
    "metrics.accuracy_score(y_test, y_pred_class)"
   ]
  },
  {
   "cell_type": "code",
   "execution_count": 101,
   "metadata": {},
   "outputs": [
    {
     "name": "stdout",
     "output_type": "stream",
     "text": [
      "[[1678  144  172]\n",
      " [ 640  580  149]\n",
      " [ 615  139  778]]\n"
     ]
    }
   ],
   "source": [
    "# confusion matrix\n",
    "confusion = metrics.confusion_matrix(y_test, y_pred_class)\n",
    "print(confusion)"
   ]
  },
  {
   "cell_type": "code",
   "execution_count": 102,
   "metadata": {},
   "outputs": [
    {
     "name": "stdout",
     "output_type": "stream",
     "text": [
      "             precision    recall  f1-score   support\n",
      "\n",
      "        EAP       0.57      0.84      0.68      1994\n",
      "        HPL       0.67      0.42      0.52      1369\n",
      "        MWS       0.71      0.51      0.59      1532\n",
      "\n",
      "avg / total       0.64      0.62      0.61      4895\n",
      "\n"
     ]
    }
   ],
   "source": [
    "## print classification report\n",
    "crpt = metrics.classification_report(y_test, y_pred_class)\n",
    "print(crpt)"
   ]
  },
  {
   "cell_type": "markdown",
   "metadata": {},
   "source": [
    "#### TF-IDF Weighting for Term Importance\n",
    "The following are inspired by CS109 Naive Bayes Mini-Project."
   ]
  },
  {
   "cell_type": "code",
   "execution_count": 103,
   "metadata": {
    "collapsed": true
   },
   "outputs": [],
   "source": [
    "# instantiate estimator\n",
    "from sklearn.feature_extraction.text import TfidfVectorizer\n",
    "tfidfvectorizer = TfidfVectorizer()"
   ]
  },
  {
   "cell_type": "code",
   "execution_count": 104,
   "metadata": {
    "collapsed": true
   },
   "outputs": [],
   "source": [
    "Xtfidf_train=tfidfvectorizer.fit_transform(X_train)"
   ]
  },
  {
   "cell_type": "code",
   "execution_count": 105,
   "metadata": {
    "collapsed": true
   },
   "outputs": [],
   "source": [
    "Xtfidf_test=tfidfvectorizer.transform(X_test)"
   ]
  },
  {
   "cell_type": "code",
   "execution_count": 106,
   "metadata": {},
   "outputs": [
    {
     "data": {
      "text/plain": [
       "((14684, 22566), (4895, 22566))"
      ]
     },
     "execution_count": 106,
     "metadata": {},
     "output_type": "execute_result"
    }
   ],
   "source": [
    "Xtfidf_train.shape, Xtfidf_test.shape"
   ]
  },
  {
   "cell_type": "code",
   "execution_count": 107,
   "metadata": {
    "collapsed": true
   },
   "outputs": [],
   "source": [
    "# import and instantiate a Multinomial Naive Bayes model\n",
    "from sklearn.naive_bayes import MultinomialNB\n",
    "nb = MultinomialNB()"
   ]
  },
  {
   "cell_type": "code",
   "execution_count": 108,
   "metadata": {},
   "outputs": [
    {
     "name": "stdout",
     "output_type": "stream",
     "text": [
      "CPU times: user 42.1 ms, sys: 2.75 ms, total: 44.8 ms\n",
      "Wall time: 43.2 ms\n"
     ]
    },
    {
     "data": {
      "text/plain": [
       "MultinomialNB(alpha=1.0, class_prior=None, fit_prior=True)"
      ]
     },
     "execution_count": 108,
     "metadata": {},
     "output_type": "execute_result"
    }
   ],
   "source": [
    "# train the model using X_train_dtm (timing it with an IPython \"magic command\")\n",
    "%time nb.fit(Xtfidf_train, y_train)"
   ]
  },
  {
   "cell_type": "code",
   "execution_count": 109,
   "metadata": {
    "collapsed": true
   },
   "outputs": [],
   "source": [
    "# predict with the test case\n",
    "y_pred_class = nb.predict(Xtfidf_test)"
   ]
  },
  {
   "cell_type": "code",
   "execution_count": 110,
   "metadata": {},
   "outputs": [
    {
     "data": {
      "text/plain": [
       "0.81470888661899898"
      ]
     },
     "execution_count": 110,
     "metadata": {},
     "output_type": "execute_result"
    }
   ],
   "source": [
    "metrics.accuracy_score(y_test, y_pred_class)"
   ]
  },
  {
   "cell_type": "code",
   "execution_count": 111,
   "metadata": {},
   "outputs": [
    {
     "data": {
      "text/plain": [
       "array([[1841,   44,  109],\n",
       "       [ 373,  922,   74],\n",
       "       [ 276,   31, 1225]])"
      ]
     },
     "execution_count": 111,
     "metadata": {},
     "output_type": "execute_result"
    }
   ],
   "source": [
    "confusion = metrics.confusion_matrix(y_test, y_pred_class)\n",
    "confusion"
   ]
  },
  {
   "cell_type": "code",
   "execution_count": 112,
   "metadata": {},
   "outputs": [
    {
     "name": "stdout",
     "output_type": "stream",
     "text": [
      "             precision    recall  f1-score   support\n",
      "\n",
      "        EAP       0.74      0.92      0.82      1994\n",
      "        HPL       0.92      0.67      0.78      1369\n",
      "        MWS       0.87      0.80      0.83      1532\n",
      "\n",
      "avg / total       0.83      0.81      0.81      4895\n",
      "\n"
     ]
    }
   ],
   "source": [
    "crpt = metrics.classification_report(y_test, y_pred_class)\n",
    "print(crpt)"
   ]
  },
  {
   "cell_type": "markdown",
   "metadata": {},
   "source": [
    "#### Latent Dirichlet Allocation (LDA)"
   ]
  },
  {
   "cell_type": "code",
   "execution_count": 113,
   "metadata": {
    "collapsed": true
   },
   "outputs": [],
   "source": [
    "from sklearn.decomposition import NMF, LatentDirichletAllocation\n",
    "lda = LatentDirichletAllocation(n_topics=20, max_iter=10, learning_method='online', learning_offset=50.,random_state=0).fit(Xtfidf_train)"
   ]
  },
  {
   "cell_type": "code",
   "execution_count": 114,
   "metadata": {
    "collapsed": true
   },
   "outputs": [],
   "source": [
    "def display_topics(model, feature_names, no_top_words):\n",
    "    for topic_idx, topic in enumerate(model.components_):\n",
    "        print(\"Topic %d:\" % (topic_idx), \" \".join([feature_names[i] for i in topic.argsort()[:-no_top_words - 1:-1]]))"
   ]
  },
  {
   "cell_type": "code",
   "execution_count": 115,
   "metadata": {},
   "outputs": [
    {
     "name": "stdout",
     "output_type": "stream",
     "text": [
      "Topic 0: est snake malitia vetus ta faire vous histoire tickle digne\n",
      "Topic 1: dumas unlock etienne arched bawling corroborated throttled monstrum unprincipled horrendum\n",
      "Topic 2: assumption assemblage herein impassioned distempered accusation hazarded coaches olathoë clump\n",
      "Topic 3: selected scale du barrière roule accepted heaps nostrils improved defend\n",
      "Topic 4: archaic squire moonlit vanity outfit gables disputing draft chairman esteemed\n",
      "Topic 5: particulars unquestionably african picking calculating thunders rescued drift elementary pregnant\n",
      "Topic 6: heh apparatus personally elastic rattled kepler matured referring exceed vapour\n",
      "Topic 7: torture non principal mockery create martense yog sothoth ef disturbance\n",
      "Topic 8: abruptly fierce goosetherumfoodle drum murders hum waning rowdy dow beds\n",
      "Topic 9: the of and to in was my that it he\n",
      "Topic 10: diddler sang il dante bedside heroic belong prayed qui keeper\n",
      "Topic 11: wal aspects wretchedly overspread hez hearse spallanzani watson landaff percival\n",
      "Topic 12: resource realities cuts explorer unnumbered vigilance flopping dungeons satanic intersperses\n",
      "Topic 13: gawd haff eventful gaping photograph objections infamous duk ter nopolis\n",
      "Topic 14: clatter ceaseless twisting kaleidoscopic web insanely groping humph collapsing jagged\n",
      "Topic 15: confirmed syllable rabbit agathos strike tenth instruct sonnets chords au\n",
      "Topic 16: de dat symptoms partial injuries den mingling mid ob isn\n",
      "Topic 17: shared furiously cleared gland pineal extends chicago schooner gustaf angarola\n",
      "Topic 18: yxu household treads traditions jxhn sx gx terrorists walter dxn\n",
      "Topic 19: speedily apply concealment contributed spade sisters excuse accidental velvet card\n"
     ]
    }
   ],
   "source": [
    "no_top_words = 10\n",
    "tf_feature_names = tfidfvectorizer.get_feature_names()\n",
    "display_topics(lda, tf_feature_names, no_top_words)"
   ]
  },
  {
   "cell_type": "code",
   "execution_count": 116,
   "metadata": {},
   "outputs": [
    {
     "name": "stdout",
     "output_type": "stream",
     "text": [
      "0.05\n"
     ]
    }
   ],
   "source": [
    "print(lda.doc_topic_prior_)"
   ]
  },
  {
   "cell_type": "code",
   "execution_count": 117,
   "metadata": {},
   "outputs": [
    {
     "data": {
      "text/plain": [
       "array([[ 0.05000003,  0.05000003,  0.05000003, ...,  0.05000003,\n",
       "         0.05000003,  0.05000003],\n",
       "       [ 0.05000003,  0.05000002,  0.05000003, ...,  0.05000003,\n",
       "         0.05000003,  0.05000003],\n",
       "       [ 0.05000002,  0.05000003,  0.05000003, ...,  0.05000003,\n",
       "         0.05000003,  0.05000002],\n",
       "       ..., \n",
       "       [ 0.05000003,  0.05000003,  0.05000003, ...,  0.05000003,\n",
       "         0.05000003,  0.05000003],\n",
       "       [ 0.05000003,  0.05000003,  0.05000007, ...,  0.05000003,\n",
       "         0.05000002,  0.05000003],\n",
       "       [ 0.05000003,  0.05000003,  0.05000003, ...,  0.05000003,\n",
       "         0.05000003,  0.05000003]])"
      ]
     },
     "execution_count": 117,
     "metadata": {},
     "output_type": "execute_result"
    }
   ],
   "source": [
    "lda.fit(Xtfidf_train)\n",
    "lda.components_"
   ]
  },
  {
   "cell_type": "code",
   "execution_count": 118,
   "metadata": {
    "collapsed": true
   },
   "outputs": [],
   "source": [
    "data_train = lda.transform(Xtfidf_train)\n",
    "lda.components_ /= lda.components_.sum(axis=1)[:, np.newaxis]\n",
    "data_test = lda.transform(Xtfidf_test)"
   ]
  },
  {
   "cell_type": "code",
   "execution_count": 119,
   "metadata": {},
   "outputs": [
    {
     "name": "stdout",
     "output_type": "stream",
     "text": [
      "Accuracy on training data: 0.402206\n",
      "Accuracy on test data:     0.407354\n"
     ]
    }
   ],
   "source": [
    "clf = MultinomialNB().fit(data_train, y_train)\n",
    "\n",
    "#your turn. Print the accuracy on the test and training dataset\n",
    "training_accuracy = clf.score(data_train, y_train)\n",
    "test_accuracy = clf.score(data_test, y_test)\n",
    "\n",
    "print(\"Accuracy on training data: {:2f}\".format(training_accuracy))\n",
    "print(\"Accuracy on test data:     {:2f}\".format(test_accuracy))"
   ]
  }
 ],
 "metadata": {
  "kernelspec": {
   "display_name": "Python 3",
   "language": "python",
   "name": "python3"
  },
  "language_info": {
   "codemirror_mode": {
    "name": "ipython",
    "version": 3
   },
   "file_extension": ".py",
   "mimetype": "text/x-python",
   "name": "python",
   "nbconvert_exporter": "python",
   "pygments_lexer": "ipython3",
   "version": "3.6.1"
  }
 },
 "nbformat": 4,
 "nbformat_minor": 2
}
